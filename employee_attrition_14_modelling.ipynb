{
 "cells": [
  {
   "cell_type": "markdown",
   "metadata": {},
   "source": [
    "Group 14: Rylie ___, Derek Atabayev, Vishnu Garigpalti\n",
    "\n",
    "Are employees likely to resign?"
   ]
  },
  {
   "cell_type": "code",
   "execution_count": null,
   "metadata": {},
   "outputs": [],
   "source": [
    "# Save both available and competition datasets as pd.DataFrame\n",
    "\n",
    "import pandas as pd\n",
    "with open(\"attrition_available_14.pkl\", \"rb\") as f:\n",
    "    available_data = pd.read_pickle(f)\n",
    "\n",
    "with open(\"attrition_compet_14.pkl\", \"rb\") as f:\n",
    "    competition_data = pd.read_pickle(f)"
   ]
  },
  {
   "cell_type": "markdown",
   "metadata": {},
   "source": [
    "Part 1: Exploratory EDA\n",
    "\n",
    "Maniupating available_data to gain insights"
   ]
  },
  {
   "cell_type": "code",
   "execution_count": null,
   "metadata": {},
   "outputs": [],
   "source": [
    "available_data.reset_index(drop=True, inplace=True)\n",
    "\n",
    "print(available_data.info()) # inspect column types and counts\n",
    "# we can see that this dataset is about 1281 unique employees and various fields relating to their employment\n"
   ]
  },
  {
   "cell_type": "code",
   "execution_count": null,
   "metadata": {},
   "outputs": [
    {
     "name": "stdout",
     "output_type": "stream",
     "text": [
      "(1426, 31)\n"
     ]
    }
   ],
   "source": [
    "# find the number of features and instances\n",
    "\n",
    "print(available_data.shape)\n",
    "# shape returns a tupe of (instances, features) which is (1426, 35)\n",
    "# however from above we can see there are missing values for EmployeeID in 1426 - 1281 = 145 rows"
   ]
  },
  {
   "cell_type": "code",
   "execution_count": 36,
   "metadata": {},
   "outputs": [
    {
     "name": "stdout",
     "output_type": "stream",
     "text": [
      "hrs                        float64\n",
      "absences                     int64\n",
      "JobInvolvement             float64\n",
      "PerformanceRating          float64\n",
      "EnvironmentSatisfaction    float64\n",
      "JobSatisfaction            float64\n",
      "WorkLifeBalance            float64\n",
      "Age                          int64\n",
      "Attrition                   object\n",
      "BusinessTravel              object\n",
      "Department                  object\n",
      "DistanceFromHome             int64\n",
      "Education                    int64\n",
      "EducationField              object\n",
      "EmployeeCount                int64\n",
      "EmployeeID                 float64\n",
      "Gender                      object\n",
      "JobLevel                     int64\n",
      "JobRole                     object\n",
      "MaritalStatus               object\n",
      "MonthlyIncome                int64\n",
      "NumCompaniesWorked         float64\n",
      "Over18                      object\n",
      "PercentSalaryHike            int64\n",
      "StandardHours                int64\n",
      "StockOptionLevel             int64\n",
      "TotalWorkingYears          float64\n",
      "TrainingTimesLastYear        int64\n",
      "YearsAtCompany               int64\n",
      "YearsSinceLastPromotion      int64\n",
      "YearsWithCurrManager         int64\n",
      "dtype: object\n"
     ]
    }
   ],
   "source": [
    "# check which variables are categorical / numerical\n",
    "\n",
    "print(available_data.dtypes)\n",
    "# we can see that the majority of the columns are numerical, with the exception of the following:\n",
    "# Attrition, BusinessTravel, Department, Education, Gender, Job Role, MaritalStatus, Over18\n"
   ]
  },
  {
   "cell_type": "code",
   "execution_count": null,
   "metadata": {},
   "outputs": [
    {
     "name": "stdout",
     "output_type": "stream",
     "text": [
      "EducationField is high cardinality\n",
      "JobRole is high cardinality\n",
      "['Life Sciences' 'Medical' 'Human Resources' 'Marketing'\n",
      " 'Technical Degree' 'Other']\n",
      "['Research Scientist' 'Sales Executive' 'Manager' 'Laboratory Technician'\n",
      " 'Manufacturing Director' 'Healthcare Representative'\n",
      " 'Sales Representative' 'Research Director' nan 'Human Resources']\n"
     ]
    }
   ],
   "source": [
    "# from the categorical variables: Attrition, BusinessTravel, Department, EducationField, Gender, Job Role, MaritalStatus, Over18, check which have high cardinality\n",
    "\n",
    "list_of_categorical = ['Attrition', 'BusinessTravel', 'Department', 'EducationField', 'Gender', 'JobRole', 'MaritalStatus', 'Over18']\n",
    "\n",
    "# print cardinality for each\n",
    "for col in list_of_categorical:\n",
    "    if available_data[col].nunique() > 5: # check if cardinalty > 5, then this is considered high cardinality\n",
    "        print(col, \"is high cardinality\")\n",
    "\n",
    "# observe that EducationField and JobRole are high cardinality\n",
    "\n",
    "print(available_data['EducationField'].unique()) # spans an all-encompassing range of education fields\n",
    "print(available_data['JobRole'].unique()) # contains 9 unique job roles as possible fields"
   ]
  },
  {
   "cell_type": "code",
   "execution_count": null,
   "metadata": {},
   "outputs": [
    {
     "name": "stdout",
     "output_type": "stream",
     "text": [
      "JobInvolvement             147\n",
      "PerformanceRating          148\n",
      "EnvironmentSatisfaction      7\n",
      "JobSatisfaction              6\n",
      "WorkLifeBalance             12\n",
      "EmployeeID                 145\n",
      "JobRole                    134\n",
      "NumCompaniesWorked           5\n",
      "TotalWorkingYears            4\n",
      "dtype: int64\n"
     ]
    }
   ],
   "source": [
    "# Check columns that have missing values\n",
    "\n",
    "print(available_data.isnull().sum()[available_data.isnull().sum() > 0])\n",
    "# filter by columns that have missing values\n",
    "\n",
    "# 9 features have missing values, with the most missing in JobInvolvement, PerformanceRating, EmployeeID, JobRole\n"
   ]
  }
 ],
 "metadata": {
  "kernelspec": {
   "display_name": "Python 3",
   "language": "python",
   "name": "python3"
  },
  "language_info": {
   "codemirror_mode": {
    "name": "ipython",
    "version": 3
   },
   "file_extension": ".py",
   "mimetype": "text/x-python",
   "name": "python",
   "nbconvert_exporter": "python",
   "pygments_lexer": "ipython3",
   "version": "3.12.2"
  }
 },
 "nbformat": 4,
 "nbformat_minor": 2
}
