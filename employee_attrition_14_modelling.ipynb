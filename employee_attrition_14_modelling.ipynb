{
 "cells": [
  {
   "cell_type": "markdown",
   "metadata": {},
   "source": [
    "# Machine Learning for Business Decisions: Assignment 1"
   ]
  },
  {
   "cell_type": "markdown",
   "metadata": {},
   "source": [
    "<b>Group 14: Rylie Ramos-Marquez, Derek Atabayev, Vishnu Garigipati</b>\n",
    "\n",
    "Are employees likely to resign?"
   ]
  },
  {
   "cell_type": "code",
   "execution_count": 1,
   "metadata": {},
   "outputs": [],
   "source": [
    "# all necessary imports\n",
    "import pandas as pd\n",
    "import numpy as np\n",
    "from sklearn.pipeline import Pipeline\n",
    "from sklearn.impute import SimpleImputer\n",
    "from sklearn.compose import ColumnTransformer\n",
    "from sklearn.preprocessing import LabelEncoder\n",
    "from sklearn.model_selection import train_test_split\n",
    "from sklearn.tree import DecisionTreeClassifier\n",
    "from sklearn.metrics import accuracy_score,f1_score, confusion_matrix\n",
    "import time\n",
    "from sklearn.preprocessing import MinMaxScaler\n",
    "from sklearn.metrics import classification_report\n",
    "from sklearn.dummy import DummyClassifier\n",
    "from sklearn.linear_model import LogisticRegression\n",
    "from sklearn.neighbors import KNeighborsClassifier\n",
    "import seaborn as sns\n",
    "import matplotlib.pyplot as plt\n",
    "\n",
    "from sklearn.model_selection import GridSearchCV, RandomizedSearchCV, train_test_split\n",
    "import optuna\n",
    "\n",
    "from sklearn.svm import SVC\n",
    "from sklearn.ensemble import RandomForestClassifier,GradientBoostingClassifier\n",
    "\n",
    "from scipy.stats import randint, uniform\n",
    "\n",
    "import joblib # for saving the model\n"
   ]
  },
  {
   "cell_type": "code",
   "execution_count": 2,
   "metadata": {},
   "outputs": [],
   "source": [
    "# Save both available and competition datasets as pd.DataFrame\n",
    "\n",
    "\n",
    "available_data = pd.read_pickle(\"attrition_available_14.pkl\").copy()\n",
    "competition_data = pd.read_pickle(\"attrition_compet_14.pkl\").copy()"
   ]
  },
  {
   "cell_type": "markdown",
   "metadata": {},
   "source": [
    "Part 1: Exploratory EDA\n",
    "\n",
    "Maniupating the dataframe available_data to gain insights"
   ]
  },
  {
   "cell_type": "code",
   "execution_count": 3,
   "metadata": {},
   "outputs": [
    {
     "name": "stdout",
     "output_type": "stream",
     "text": [
      "<class 'pandas.core.frame.DataFrame'>\n",
      "RangeIndex: 1426 entries, 0 to 1425\n",
      "Data columns (total 31 columns):\n",
      " #   Column                   Non-Null Count  Dtype  \n",
      "---  ------                   --------------  -----  \n",
      " 0   hrs                      1426 non-null   float64\n",
      " 1   absences                 1426 non-null   int64  \n",
      " 2   JobInvolvement           1279 non-null   float64\n",
      " 3   PerformanceRating        1278 non-null   float64\n",
      " 4   EnvironmentSatisfaction  1419 non-null   float64\n",
      " 5   JobSatisfaction          1420 non-null   float64\n",
      " 6   WorkLifeBalance          1414 non-null   float64\n",
      " 7   Age                      1426 non-null   int64  \n",
      " 8   Attrition                1426 non-null   object \n",
      " 9   BusinessTravel           1426 non-null   object \n",
      " 10  Department               1426 non-null   object \n",
      " 11  DistanceFromHome         1426 non-null   int64  \n",
      " 12  Education                1426 non-null   int64  \n",
      " 13  EducationField           1426 non-null   object \n",
      " 14  EmployeeCount            1426 non-null   int64  \n",
      " 15  EmployeeID               1281 non-null   float64\n",
      " 16  Gender                   1426 non-null   object \n",
      " 17  JobLevel                 1426 non-null   int64  \n",
      " 18  JobRole                  1292 non-null   object \n",
      " 19  MaritalStatus            1426 non-null   object \n",
      " 20  MonthlyIncome            1426 non-null   int64  \n",
      " 21  NumCompaniesWorked       1421 non-null   float64\n",
      " 22  Over18                   1426 non-null   object \n",
      " 23  PercentSalaryHike        1426 non-null   int64  \n",
      " 24  StandardHours            1426 non-null   int64  \n",
      " 25  StockOptionLevel         1426 non-null   int64  \n",
      " 26  TotalWorkingYears        1422 non-null   float64\n",
      " 27  TrainingTimesLastYear    1426 non-null   int64  \n",
      " 28  YearsAtCompany           1426 non-null   int64  \n",
      " 29  YearsSinceLastPromotion  1426 non-null   int64  \n",
      " 30  YearsWithCurrManager     1426 non-null   int64  \n",
      "dtypes: float64(9), int64(14), object(8)\n",
      "memory usage: 345.5+ KB\n",
      "None\n"
     ]
    }
   ],
   "source": [
    "available_data.reset_index(drop=True, inplace=True)\n",
    "\n",
    "print(available_data.info()) # inspect column types and counts\n",
    "# we can see that this dataset is about 1426 unique employees (1281 of them have ID) and various fields relating to their employment\n"
   ]
  },
  {
   "cell_type": "code",
   "execution_count": 4,
   "metadata": {},
   "outputs": [
    {
     "name": "stdout",
     "output_type": "stream",
     "text": [
      "(1426, 31)\n"
     ]
    }
   ],
   "source": [
    "# find the number of features and instances\n",
    "\n",
    "print(available_data.shape)\n",
    "# shape returns a tupe of (instances, features) which is (1426, 35)\n",
    "# however from above we can see there are missing values for EmployeeID in 1426 - 1281 = 145 rows"
   ]
  },
  {
   "cell_type": "code",
   "execution_count": 5,
   "metadata": {},
   "outputs": [
    {
     "name": "stdout",
     "output_type": "stream",
     "text": [
      "hrs                        float64\n",
      "absences                     int64\n",
      "JobInvolvement             float64\n",
      "PerformanceRating          float64\n",
      "EnvironmentSatisfaction    float64\n",
      "JobSatisfaction            float64\n",
      "WorkLifeBalance            float64\n",
      "Age                          int64\n",
      "Attrition                   object\n",
      "BusinessTravel              object\n",
      "Department                  object\n",
      "DistanceFromHome             int64\n",
      "Education                    int64\n",
      "EducationField              object\n",
      "EmployeeCount                int64\n",
      "EmployeeID                 float64\n",
      "Gender                      object\n",
      "JobLevel                     int64\n",
      "JobRole                     object\n",
      "MaritalStatus               object\n",
      "MonthlyIncome                int64\n",
      "NumCompaniesWorked         float64\n",
      "Over18                      object\n",
      "PercentSalaryHike            int64\n",
      "StandardHours                int64\n",
      "StockOptionLevel             int64\n",
      "TotalWorkingYears          float64\n",
      "TrainingTimesLastYear        int64\n",
      "YearsAtCompany               int64\n",
      "YearsSinceLastPromotion      int64\n",
      "YearsWithCurrManager         int64\n",
      "dtype: object\n"
     ]
    }
   ],
   "source": [
    "# check which variables are categorical / numerical\n",
    "\n",
    "print(available_data.dtypes)\n",
    "# we can see that the majority of the columns are numerical, with the exception of the following:\n",
    "# Attrition, BusinessTravel, Department, Education, Gender, Job Role, MaritalStatus, Over18\n"
   ]
  },
  {
   "cell_type": "code",
   "execution_count": 6,
   "metadata": {},
   "outputs": [
    {
     "name": "stdout",
     "output_type": "stream",
     "text": [
      "EducationField is high cardinality\n",
      "JobRole is high cardinality\n",
      "Values for EducationField:  ['Life Sciences' 'Medical' 'Human Resources' 'Marketing'\n",
      " 'Technical Degree' 'Other']\n",
      "Values for JobRole Field:  ['Research Scientist' 'Sales Executive' 'Manager' 'Laboratory Technician'\n",
      " 'Manufacturing Director' 'Healthcare Representative'\n",
      " 'Sales Representative' 'Research Director' nan 'Human Resources']\n"
     ]
    }
   ],
   "source": [
    "# from the categorical variables: Attrition, BusinessTravel, Department, EducationField, Gender, Job Role, MaritalStatus, Over18, check which have high cardinality\n",
    "\n",
    "list_of_categorical = ['Attrition', 'BusinessTravel', 'Department', 'EducationField', 'Gender', 'JobRole', 'MaritalStatus', 'Over18']\n",
    "\n",
    "# print cardinality for each\n",
    "for col in list_of_categorical:\n",
    "    if available_data[col].nunique() > 5: # check if cardinalty > 5, then this is considered high cardinality\n",
    "        print(col, \"is high cardinality\")\n",
    "\n",
    "# observe that EducationField and JobRole are high cardinality\n",
    "\n",
    "print(\"Values for EducationField: \", available_data['EducationField'].unique()) # spans an all-encompassing range of education fields\n",
    "print(\"Values for JobRole Field: \" , available_data['JobRole'].unique()) # contains 9 unique job roles as possible fields"
   ]
  },
  {
   "cell_type": "code",
   "execution_count": 7,
   "metadata": {},
   "outputs": [
    {
     "name": "stdout",
     "output_type": "stream",
     "text": [
      "JobInvolvement             147\n",
      "PerformanceRating          148\n",
      "EnvironmentSatisfaction      7\n",
      "JobSatisfaction              6\n",
      "WorkLifeBalance             12\n",
      "EmployeeID                 145\n",
      "JobRole                    134\n",
      "NumCompaniesWorked           5\n",
      "TotalWorkingYears            4\n",
      "dtype: int64\n"
     ]
    }
   ],
   "source": [
    "# Check columns that have missing values\n",
    "\n",
    "print(available_data.isnull().sum()[available_data.isnull().sum() > 0])\n",
    "# filter by columns that have missing values\n",
    "\n",
    "# 9 features have missing values, with the most missing in JobInvolvement, PerformanceRating, EmployeeID, JobRole\n"
   ]
  },
  {
   "cell_type": "code",
   "execution_count": 8,
   "metadata": {},
   "outputs": [
    {
     "name": "stdout",
     "output_type": "stream",
     "text": [
      "Constant Columns:  Index(['EmployeeCount', 'Over18', 'StandardHours'], dtype='object')\n",
      "['Y']\n",
      "[8]\n",
      "[1]\n"
     ]
    }
   ],
   "source": [
    "# Check whether there are constant columns\n",
    "\n",
    "print(\"Constant Columns: \", available_data.columns[available_data.nunique() == 1]) # if the number of unique values in a column is 1, then it is a constant column\n",
    "\n",
    "# there are three constant columns in the dataset: Over18, StandardHours, EmployeeCount\n",
    "\n",
    "print(available_data['Over18'].unique()) # only one unique value\n",
    "print(available_data['StandardHours'].unique())\n",
    "print(available_data['EmployeeCount'].unique())\n"
   ]
  },
  {
   "cell_type": "code",
   "execution_count": 9,
   "metadata": {},
   "outputs": [],
   "source": [
    "# inspecting the columns suggests all employees are Over18, all work standard hours, and there is only one employee count per row\n",
    "# delete these constant columns\n",
    "available_data.drop(columns=['Over18', 'StandardHours', 'EmployeeCount'], inplace=True)\n",
    "competition_data.drop(columns=['Over18', 'StandardHours', 'EmployeeCount'], inplace=True)"
   ]
  },
  {
   "cell_type": "code",
   "execution_count": 10,
   "metadata": {},
   "outputs": [
    {
     "name": "stdout",
     "output_type": "stream",
     "text": [
      "Attrition\n",
      "No     715\n",
      "Yes    711\n",
      "Name: count, dtype: int64\n"
     ]
    }
   ],
   "source": [
    "# Attrition is the target variable in this problem\n",
    "\n",
    "print(available_data['Attrition'].value_counts())\n",
    "\n"
   ]
  },
  {
   "cell_type": "markdown",
   "metadata": {},
   "source": [
    "So, this is a binary classification problem\n",
    "\n",
    "Balanced dataset, with 715 employees who have not left the company and 711 employees who have left the company\n",
    "\n",
    "This means every row has a target value, so we do not need to drop any rows"
   ]
  },
  {
   "cell_type": "markdown",
   "metadata": {},
   "source": [
    "Next, we can print a correlation matrix using Seaborn \"heatmap\"\n",
    "\n",
    "This will tell us the correlation between variables, and also whether there is any multicollinearity, etc."
   ]
  },
  {
   "cell_type": "code",
   "execution_count": 11,
   "metadata": {},
   "outputs": [
    {
     "data": {
      "image/png": "[encoded data removed]",
      "text/plain": [
       "<Figure size 1200x1000 with 2 Axes>"
      ]
     },
     "metadata": {},
     "output_type": "display_data"
    }
   ],
   "source": [
    "corr_matrix = available_data.corr(numeric_only=True)\n",
    "\n",
    "# Set up the figure size\n",
    "plt.figure(figsize=(12, 10))\n",
    "\n",
    "mask = np.triu(np.ones_like(corr_matrix, dtype=bool)) # create a mask to only show the lower triangle of the matrix\n",
    "\n",
    "sns.heatmap(corr_matrix, annot=True, fmt='.2f', cmap='coolwarm', mask=mask, cbar_kws={'shrink': 0.8}, annot_kws={'size': 10}, linewidths=0.5, square=True,vmin=-1, vmax=1)           \n",
    "\n",
    "# Add a title\n",
    "plt.title('Correlation Matrix of Available Data', fontsize=16)\n",
    "\n",
    "# Display the plot\n",
    "plt.tight_layout()\n",
    "plt.show()"
   ]
  },
  {
   "cell_type": "markdown",
   "metadata": {},
   "source": [
    "From this correlation matrix, we can observe that the highest correlation is between Performance rating and Percent Salary Hike as well as Years at company and years with current manager but the correlation is not high enough (< 0.9) to drop these features entirely"
   ]
  },
  {
   "cell_type": "markdown",
   "metadata": {},
   "source": [
    "Part 2: Basic Methods (Trees, KNN, and Logistic Regression)"
   ]
  },
  {
   "cell_type": "markdown",
   "metadata": {},
   "source": [
    "General decisions:\n",
    "\n",
    "1. Split 70% train, 30% test, because the dataset is small, and we need a large enough test size to help detect overfitting\n",
    "\n",
    "2. Will return also a classification report: precision, recall, f1-score, and support, because this gives a more comprehensive view\n",
    " - Precision is especially valuable because it essentially checks how reliable our predictions (in the positive case are)\n",
    " - Support prevents any random imbalances that could have occured"
   ]
  },
  {
   "cell_type": "code",
   "execution_count": 12,
   "metadata": {},
   "outputs": [],
   "source": [
    "\n",
    "# Define feature matrix X and target vector y\n",
    "X = available_data.drop(columns=['Attrition'])\n",
    "y = available_data['Attrition']\n",
    "\n",
    "X_train, X_test, y_train, y_test = train_test_split(X, y, test_size = 0.3, random_state = 100545358)\n"
   ]
  },
  {
   "cell_type": "markdown",
   "metadata": {},
   "source": [
    "Method One (default hyperparamaters): Decision Trees"
   ]
  },
  {
   "cell_type": "code",
   "execution_count": 13,
   "metadata": {},
   "outputs": [
    {
     "name": "stdout",
     "output_type": "stream",
     "text": [
      "Training time:  0.019778013229370117\n",
      "Accuracy:  0.8060747663551402\n",
      "              precision    recall  f1-score   support\n",
      "\n",
      "           0       0.86      0.74      0.79       216\n",
      "           1       0.77      0.88      0.82       212\n",
      "\n",
      "    accuracy                           0.81       428\n",
      "   macro avg       0.81      0.81      0.81       428\n",
      "weighted avg       0.81      0.81      0.81       428\n",
      "\n"
     ]
    }
   ],
   "source": [
    "\n",
    "# Use a pipeline\n",
    "\n",
    "# Encode the target variable \n",
    "label_encoder = LabelEncoder() # 0 for No, 1 for Yes\n",
    "y_train_encoded = label_encoder.fit_transform(y_train)\n",
    "y_test_encoded = label_encoder.transform(y_test)\n",
    "\n",
    "# Define the preprocessor\n",
    "# scale\n",
    "\n",
    "preprocessor = ColumnTransformer(\n",
    "    transformers=[\n",
    "        ('num', Pipeline(steps=[\n",
    "            ('imputer', SimpleImputer(strategy='mean')), # impute missing values with the mean\n",
    "            ('scaler', MinMaxScaler()) # scale the numerical features\n",
    "        ]), X.select_dtypes(include=['int64', 'float64']).columns)\n",
    "    ])\n",
    "# the preprocessor will impute missing values with the mean and scale the numerical features\n",
    "\n",
    "# Define the model\n",
    "\n",
    "model = Pipeline(steps=[('preprocessor', preprocessor),\n",
    "                        ('classifier', DecisionTreeClassifier(random_state=100545358))]) # steps to be completed in order\n",
    "\n",
    "\n",
    "# Fit the model\n",
    "start = time.time()\n",
    "model.fit(X_train, y_train_encoded)\n",
    "end = time.time()\n",
    "\n",
    "print(\"Training time: \", end - start)\n",
    "\n",
    "# Predict the target values\n",
    "y_pred = model.predict(X_test)\n",
    "\n",
    "# Calculate the accuracy\n",
    "\n",
    "accuracy = accuracy_score(y_test_encoded, y_pred)\n",
    "print(\"Accuracy: \", accuracy)\n",
    "\n",
    "# Also return a classification report \n",
    "print(classification_report(y_test_encoded, y_pred))\n",
    "\n",
    "# this returns a classification report with precision, recall, f1-score, and support for each class\n",
    "\n"
   ]
  },
  {
   "cell_type": "markdown",
   "metadata": {},
   "source": [
    "Method Two (default hyperparameters): KNN"
   ]
  },
  {
   "cell_type": "code",
   "execution_count": 14,
   "metadata": {},
   "outputs": [
    {
     "name": "stdout",
     "output_type": "stream",
     "text": [
      "Training time:  0.006854534149169922\n",
      "Accuracy:  0.7079439252336449\n",
      "              precision    recall  f1-score   support\n",
      "\n",
      "           0       0.71      0.70      0.71       216\n",
      "           1       0.70      0.71      0.71       212\n",
      "\n",
      "    accuracy                           0.71       428\n",
      "   macro avg       0.71      0.71      0.71       428\n",
      "weighted avg       0.71      0.71      0.71       428\n",
      "\n"
     ]
    }
   ],
   "source": [
    "\n",
    "# Define the model\n",
    "model = Pipeline(steps=[('preprocessor', preprocessor),\n",
    "                        ('classifier', KNeighborsClassifier())])\n",
    "\n",
    "# Fit the model\n",
    "\n",
    "start = time.time()\n",
    "model.fit(X_train, y_train_encoded)\n",
    "end = time.time()\n",
    "\n",
    "print(\"Training time: \", end - start)\n",
    "\n",
    "# Predict the target values\n",
    "y_pred = model.predict(X_test)\n",
    "\n",
    "accuracy = accuracy_score(y_test_encoded, y_pred)\n",
    "print(\"Accuracy: \", accuracy)\n",
    "\n",
    "print (classification_report(y_test_encoded, y_pred))"
   ]
  },
  {
   "cell_type": "markdown",
   "metadata": {},
   "source": [
    "Method Three (default hyperparameters): Logistic Regression"
   ]
  },
  {
   "cell_type": "code",
   "execution_count": 15,
   "metadata": {},
   "outputs": [
    {
     "name": "stdout",
     "output_type": "stream",
     "text": [
      "Training time:  0.017003536224365234\n",
      "Accuracy:  0.6705607476635514\n",
      "              precision    recall  f1-score   support\n",
      "\n",
      "           0       0.67      0.68      0.67       216\n",
      "           1       0.67      0.67      0.67       212\n",
      "\n",
      "    accuracy                           0.67       428\n",
      "   macro avg       0.67      0.67      0.67       428\n",
      "weighted avg       0.67      0.67      0.67       428\n",
      "\n"
     ]
    }
   ],
   "source": [
    "\n",
    "# Define the model\n",
    "model = Pipeline(steps=[('preprocessor', preprocessor),\n",
    "                        ('classifier', LogisticRegression(random_state=100545358))])\n",
    "\n",
    "# Fit the model\n",
    "\n",
    "start = time.time()\n",
    "model.fit(X_train, y_train_encoded)\n",
    "end = time.time()\n",
    "\n",
    "print(\"Training time: \", end - start)\n",
    "\n",
    "# Predict the target values\n",
    "y_pred = model.predict(X_test)\n",
    "\n",
    "accuracy = accuracy_score(y_test_encoded, y_pred)\n",
    "\n",
    "print(\"Accuracy: \", accuracy)\n",
    "\n",
    "print(classification_report(y_test_encoded, y_pred))"
   ]
  },
  {
   "cell_type": "markdown",
   "metadata": {},
   "source": [
    "In order of performance:\n",
    "\n",
    "Decision Trees performs best, followed by Logistic Regression and KNN\n",
    "\n",
    "Part 3: We can check if it is justifiable to switch to an 80/20 split so that KNN and Logistic Regression might be able to perform better"
   ]
  },
  {
   "cell_type": "code",
   "execution_count": 16,
   "metadata": {},
   "outputs": [
    {
     "name": "stdout",
     "output_type": "stream",
     "text": [
      "Logistic Regression with 0.2 testing split\n",
      "Training time:  0.0191042423248291\n",
      "Accuracy:  0.6783216783216783\n",
      "              precision    recall  f1-score   support\n",
      "\n",
      "           0       0.69      0.65      0.67       142\n",
      "           1       0.67      0.71      0.69       144\n",
      "\n",
      "    accuracy                           0.68       286\n",
      "   macro avg       0.68      0.68      0.68       286\n",
      "weighted avg       0.68      0.68      0.68       286\n",
      "\n",
      "KNN with 0.2 testing split\n",
      "Training time:  0.0050013065338134766\n",
      "Accuracy:  0.7307692307692307\n",
      "              precision    recall  f1-score   support\n",
      "\n",
      "           0       0.73      0.73      0.73       142\n",
      "           1       0.73      0.74      0.73       144\n",
      "\n",
      "    accuracy                           0.73       286\n",
      "   macro avg       0.73      0.73      0.73       286\n",
      "weighted avg       0.73      0.73      0.73       286\n",
      "\n",
      "Decision Tree with 0.2 testing split\n",
      "Training time:  0.016362428665161133\n",
      "Accuracy:  0.8636363636363636\n",
      "              precision    recall  f1-score   support\n",
      "\n",
      "           0       0.90      0.82      0.86       142\n",
      "           1       0.83      0.91      0.87       144\n",
      "\n",
      "    accuracy                           0.86       286\n",
      "   macro avg       0.87      0.86      0.86       286\n",
      "weighted avg       0.87      0.86      0.86       286\n",
      "\n"
     ]
    }
   ],
   "source": [
    "# Change testing split to 0.2\n",
    "X_train, X_test, y_train, y_test = train_test_split(X, y, test_size = 0.2, random_state = 100545358)\n",
    "\n",
    "# Re-encode the target variable\n",
    "y_train_encoded = label_encoder.fit_transform(y_train)\n",
    "y_test_encoded = label_encoder.transform(y_test)\n",
    "\n",
    "print(\"Logistic Regression with 0.2 testing split\")\n",
    "# Define the model\n",
    "model = Pipeline(steps=[('preprocessor', preprocessor),\n",
    "                        ('classifier', LogisticRegression(random_state=100545358))])\n",
    "\n",
    "# Fit the model\n",
    "start = time.time()\n",
    "model.fit(X_train, y_train_encoded)\n",
    "end = time.time()\n",
    "\n",
    "print(\"Training time: \", end - start)\n",
    "\n",
    "# Predict the target values\n",
    "y_pred = model.predict(X_test)\n",
    "\n",
    "accuracy = accuracy_score(y_test_encoded, y_pred)\n",
    "print(\"Accuracy: \", accuracy)\n",
    "print(classification_report(y_test_encoded, y_pred))\n",
    "\n",
    "print(\"KNN with 0.2 testing split\")\n",
    "# Define the model\n",
    "model = Pipeline(steps=[('preprocessor', preprocessor),\n",
    "                        ('classifier', KNeighborsClassifier())])\n",
    "\n",
    "# Fit the model\n",
    "start = time.time()\n",
    "model.fit(X_train, y_train_encoded)\n",
    "end = time.time()\n",
    "\n",
    "print(\"Training time: \", end - start)\n",
    "y_pred = model.predict(X_test)\n",
    "accuracy = accuracy_score(y_test_encoded, y_pred)\n",
    "print(\"Accuracy: \", accuracy)\n",
    "print(classification_report(y_test_encoded, y_pred))\n",
    "\n",
    "print(\"Decision Tree with 0.2 testing split\")\n",
    "\n",
    "# Define the model\n",
    "model = Pipeline(steps=[('preprocessor', preprocessor),\n",
    "                        ('classifier', DecisionTreeClassifier(random_state=100545358))])\n",
    "\n",
    "# Fit the model\n",
    "start = time.time()\n",
    "model.fit(X_train, y_train_encoded)\n",
    "end = time.time()\n",
    "\n",
    "print(\"Training time: \", end - start)\n",
    "y_pred = model.predict(X_test)\n",
    "accuracy = accuracy_score(y_test_encoded, y_pred)\n",
    "print(\"Accuracy: \", accuracy)\n",
    "print(classification_report(y_test_encoded, y_pred))\n",
    "\n"
   ]
  },
  {
   "cell_type": "markdown",
   "metadata": {},
   "source": [
    "Our two strongest methods are Decision Trees and KNN.\n",
    "\n",
    "In the cases we tested (reproducible with the random_state = 100545358), the support does not show any imbalances, so we can stick with this split\n",
    "\n",
    "Both methods are slightly more accurate using the 80/20 split. In addition, decision trees are more precise in each case. With the 70/30 split, the decision trees were slightly less precise in the positive case. Here, we can see the precision is more even, and also greater.\n",
    "\n",
    "Therefore, it is justifiable to keep the 80/20 split."
   ]
  },
  {
   "cell_type": "markdown",
   "metadata": {},
   "source": [
    "Part 4: Compare with the Dummy Method "
   ]
  },
  {
   "cell_type": "code",
   "execution_count": 17,
   "metadata": {},
   "outputs": [
    {
     "name": "stdout",
     "output_type": "stream",
     "text": [
      "Dummy Classifier Accuracy:  0.4965034965034965\n",
      "              precision    recall  f1-score   support\n",
      "\n",
      "           0       0.50      1.00      0.66       142\n",
      "           1       0.00      0.00      0.00       144\n",
      "\n",
      "    accuracy                           0.50       286\n",
      "   macro avg       0.25      0.50      0.33       286\n",
      "weighted avg       0.25      0.50      0.33       286\n",
      "\n"
     ]
    },
    {
     "name": "stderr",
     "output_type": "stream",
     "text": [
      "c:\\Users\\derek\\AppData\\Local\\Programs\\Python\\Python312\\Lib\\site-packages\\sklearn\\metrics\\_classification.py:1517: UndefinedMetricWarning: Precision is ill-defined and being set to 0.0 in labels with no predicted samples. Use `zero_division` parameter to control this behavior.\n",
      "  _warn_prf(average, modifier, f\"{metric.capitalize()} is\", len(result))\n",
      "c:\\Users\\derek\\AppData\\Local\\Programs\\Python\\Python312\\Lib\\site-packages\\sklearn\\metrics\\_classification.py:1517: UndefinedMetricWarning: Precision is ill-defined and being set to 0.0 in labels with no predicted samples. Use `zero_division` parameter to control this behavior.\n",
      "  _warn_prf(average, modifier, f\"{metric.capitalize()} is\", len(result))\n",
      "c:\\Users\\derek\\AppData\\Local\\Programs\\Python\\Python312\\Lib\\site-packages\\sklearn\\metrics\\_classification.py:1517: UndefinedMetricWarning: Precision is ill-defined and being set to 0.0 in labels with no predicted samples. Use `zero_division` parameter to control this behavior.\n",
      "  _warn_prf(average, modifier, f\"{metric.capitalize()} is\", len(result))\n"
     ]
    }
   ],
   "source": [
    "# using DummyClassifier as a baseline\n",
    "\n",
    "dummy = DummyClassifier(strategy='most_frequent', random_state = 100545358)\n",
    "dummy.fit(X_train, y_train_encoded)\n",
    "\n",
    "y_pred = dummy.predict(X_test)\n",
    "\n",
    "dummy_accuracy = accuracy_score(y_test_encoded, y_pred)\n",
    "print(\"Dummy Classifier Accuracy: \", dummy_accuracy)\n",
    "print(classification_report(y_test_encoded, y_pred))\n",
    "\n"
   ]
  },
  {
   "cell_type": "markdown",
   "metadata": {},
   "source": [
    "The dummy classifier has an accuracy of 0.5, and precision/recall/f1-score of 0 in the 1 class\n",
    "\n",
    "The 1 class is the class (positive) is the one that has left the company, so the dummy classifier is predicting that no one has left the company\n",
    "\n",
    "Therefore, the decision tree (our final basic chosen method) is stronger than the dummy method\n"
   ]
  },
  {
   "cell_type": "markdown",
   "metadata": {},
   "source": [
    "Visualization of Methods: Confusion Matrix \n",
    "\n",
    "We can use this visualization to see how many False Positives and False Negatives are being predicted by our model, to see how it is performing overall\n",
    "\n",
    "One way of making good decisions for this problem is by minimizing both of these values, so let's see how we did."
   ]
  },
  {
   "cell_type": "code",
   "execution_count": 18,
   "metadata": {},
   "outputs": [
    {
     "name": "stdout",
     "output_type": "stream",
     "text": [
      "Decision Tree Confusion Matrix\n",
      "[[116  26]\n",
      " [ 13 131]]\n",
      "KNN Confusion Matrix\n",
      "[[103  39]\n",
      " [ 38 106]]\n"
     ]
    }
   ],
   "source": [
    "# variables are reset because of the dummy method, so we need to call our models again\n",
    "\n",
    "def generate_confusion_matrix(model, X_test, y_test):\n",
    "    y_pred = model.predict(X_test)\n",
    "    cm = confusion_matrix(y_test, y_pred)\n",
    "    print(cm)\n",
    "    \n",
    "# Method 1: Decision Tree\n",
    "model = Pipeline(steps=[('preprocessor', preprocessor),\n",
    "                        ('classifier', DecisionTreeClassifier(random_state=100545358))])\n",
    "\n",
    "model.fit(X_train, y_train_encoded) # data is already set to 80/20 split\n",
    "y_pred = model.predict(X_test)\n",
    "\n",
    "print(\"Decision Tree Confusion Matrix\")\n",
    "generate_confusion_matrix(model, X_test, y_test_encoded)\n",
    "\n",
    "# Method 2: KNN\n",
    "model = Pipeline(steps=[('preprocessor', preprocessor),\n",
    "                        ('classifier', KNeighborsClassifier())])\n",
    "\n",
    "model.fit(X_train, y_train_encoded) # data is already set to 80/20 split\n",
    "y_pred = model.predict(X_test)\n",
    "\n",
    "print(\"KNN Confusion Matrix\")\n",
    "generate_confusion_matrix(model, X_test, y_test_encoded)\n"
   ]
  },
  {
   "cell_type": "markdown",
   "metadata": {},
   "source": [
    "The classification report essentially manipulates the values in the confusion matrix to generate the statistics (precision, recall, etc.)\n",
    "\n",
    "Decision Tree methods are far better performing, generating fewer False Negatives (26) and False Positives (16). The confusion matrix for KNN suggests a drop in model performance and indicates potential overfitting or poor hyperparameter tuning for that model."
   ]
  },
  {
   "cell_type": "markdown",
   "metadata": {},
   "source": [
    "### Part 3: Hyper Parameter Optimization"
   ]
  },
  {
   "cell_type": "markdown",
   "metadata": {},
   "source": [
    "#### HyperParameter Optimization usnig our two best Models are DecisionTree and KNN"
   ]
  },
  {
   "cell_type": "code",
   "execution_count": 19,
   "metadata": {},
   "outputs": [],
   "source": [
    "X_train, X_test, y_train, y_test = train_test_split(X, y, test_size = 0.2, random_state = 100545358)\n",
    "\n",
    "label_encoder = LabelEncoder()\n",
    "y_train_encoded = label_encoder.fit_transform(y_train)\n",
    "y_test_encoded = label_encoder.transform(y_test)\n",
    "\n",
    "# Define the preprocessor\n",
    "preprocessor = ColumnTransformer(\n",
    "    transformers=[\n",
    "        ('num', Pipeline(steps=[\n",
    "            ('imputer', SimpleImputer(strategy='mean')),  # Impute missing values with the mean\n",
    "            ('scaler', MinMaxScaler())  # Scale the numerical features\n",
    "        ]), X.select_dtypes(include=['int64', 'float64']).columns)\n",
    "    ])\n"
   ]
  },
  {
   "cell_type": "markdown",
   "metadata": {},
   "source": [
    "1. Decision Trees"
   ]
  },
  {
   "cell_type": "code",
   "execution_count": null,
   "metadata": {},
   "outputs": [
    {
     "name": "stdout",
     "output_type": "stream",
     "text": [
      "Starting GridSearchCV...\n",
      "\n",
      "GridSearchCV Best Hyperparameters: {'classifier__criterion': 'gini', 'classifier__max_depth': 10, 'classifier__max_features': None, 'classifier__min_samples_leaf': 1, 'classifier__min_samples_split': 2}\n",
      "F1 Score: 0.842809364548495\n",
      "GridSearchCV Training Time: 5.29 seconds\n",
      "\n"
     ]
    }
   ],
   "source": [
    "\n",
    "model = Pipeline(steps=[('preprocessor', preprocessor),\n",
    "                        ('classifier', DecisionTreeClassifier(random_state=100545358))])\n",
    "\n",
    "# Define the parameter grid (same for all 3 methods)\n",
    "# Using a list of values to try for each hyperparameter, as GridSearchCV requires (discrete distribution)\n",
    "param_grid = {\n",
    "    'classifier__max_depth': [3, 5, 7, 10, None],  # Max depth of the tree\n",
    "    'classifier__min_samples_split': [2, 5, 10],  # Minimum number of samples required to split a node\n",
    "    'classifier__min_samples_leaf': [1, 2, 5],     # Minimum number of samples required to be at a leaf node\n",
    "    'classifier__criterion': ['gini', 'entropy'],   # Splitting criteria\n",
    "    'classifier__max_features': ['sqrt', 'log2', None]  # Max features for each split\n",
    "}\n",
    "\n",
    "# Here we can use GridSearchCV (exhaustive search) to find the best hyperparameters, RandomizedSearchCV (not all combinations are tried) or Optuna (hyperparameter optimization framework)\n",
    "\n",
    "# 1. **GridSearchCV**\n",
    "print(\"Starting GridSearchCV...\\n\")\n",
    "start = time.time()\n",
    "grid_search = GridSearchCV(estimator=model, param_grid=param_grid, cv=5, n_jobs=-1, verbose=0) # 5-fold cross validation because we have 80/20 split\n",
    "# Grid search works by training the model on all possible combinations of hyperparameters (total number 5 x 3 x 3 x 2 x 3 = 90), and then selecting the best one\n",
    "grid_search.fit(X_train, y_train_encoded)\n",
    "grid_search_time = time.time() - start\n",
    "\n",
    "print(f\"GridSearchCV Best Hyperparameters: {grid_search.best_params_}\")\n",
    "y_pred = grid_search.best_estimator_.predict(X_test)\n",
    "print(f\"F1 Score: {f1_score(y_test_encoded, y_pred)}\")\n",
    "print(f\"GridSearchCV Training Time: {grid_search_time:.2f} seconds\\n\")\n",
    "\n"
   ]
  },
  {
   "cell_type": "code",
   "execution_count": null,
   "metadata": {},
   "outputs": [
    {
     "name": "stdout",
     "output_type": "stream",
     "text": [
      "Starting GridSearchCV for Distribution...\n",
      "\n",
      "GridSearchCV Best Hyperparameters: {'classifier__criterion': 'entropy', 'classifier__max_depth': 16, 'classifier__max_features': None, 'classifier__min_samples_leaf': 3, 'classifier__min_samples_split': 4}\n",
      "F1 Score: 0.8203389830508474\n",
      "GridSearchCV Training Time: 1.37 seconds\n",
      "\n"
     ]
    }
   ],
   "source": [
    "# parameters sampled from a distribution\n",
    "param_dist = {\n",
    "    'classifier__max_depth': randint(3, 20).rvs(size=3),  # Randomly sample max depth from 3 to 20\n",
    "    'classifier__min_samples_split': randint(2, 20).rvs(size=3),  # Randomly sample min_samples_split between 2 and 20\n",
    "    'classifier__min_samples_leaf': randint(1, 10).rvs(size=3),   # Randomly sample min_samples_leaf between 1 and 10\n",
    "    'classifier__criterion': ['gini', 'entropy'],      # Choose between 'gini' and 'entropy'\n",
    "    'classifier__max_features': ['sqrt', 'log2', None]  # Randomly sample max_features or use 'sqrt'/'log2'\n",
    "}\n",
    "\n",
    "print(\"Starting GridSearchCV for Sampled Distribution...\\n\")\n",
    "start = time.time()\n",
    "grid_search = GridSearchCV(estimator=model, param_grid=param_dist, cv=5, n_jobs=-1, verbose=0) # 5-fold cross validation because we have 80/20 split\n",
    "# Grid search works by training the model on all possible combinations of hyperparameters (total number 5 x 3 x 3 x 2 x 3 = 90), and then selecting the best one\n",
    "grid_search.fit(X_train, y_train_encoded)\n",
    "grid_search_time = time.time() - start\n",
    "\n",
    "print(f\"GridSearchCV Best Hyperparameters: {grid_search.best_params_}\")\n",
    "y_pred = grid_search.best_estimator_.predict(X_test)\n",
    "print(f\"F1 Score: {f1_score(y_test_encoded, y_pred)}\")\n",
    "print(f\"GridSearchCV Training Time: {grid_search_time:.2f} seconds\\n\")\n"
   ]
  },
  {
   "cell_type": "code",
   "execution_count": null,
   "metadata": {},
   "outputs": [
    {
     "name": "stdout",
     "output_type": "stream",
     "text": [
      "Starting RandomizedSearchCV...\n",
      "\n",
      "RandomizedSearchCV Best Hyperparameters: {'classifier__min_samples_split': 2, 'classifier__min_samples_leaf': 1, 'classifier__max_features': None, 'classifier__max_depth': 10, 'classifier__criterion': 'gini'}\n",
      "F1 Score: 0.842809364548495\n",
      "RandomizedSearchCV Training Time: 0.89 seconds\n",
      "\n"
     ]
    }
   ],
   "source": [
    "# 2. **RandomizedSearchCV**\n",
    "print(\"Starting RandomizedSearchCV...\\n\")\n",
    "start = time.time()\n",
    "random_search = RandomizedSearchCV(estimator=model, param_distributions=param_grid, n_iter=100, cv=5, n_jobs=-1, verbose=0, random_state=100545358)\n",
    "# Randomized search will select 100 random combinations of hyperparameters from the parametric space and train the model on them\n",
    "# Effectively this should be faster than GridSearchCV, but may not find the best hyperparameters\n",
    "\n",
    "random_search.fit(X_train, y_train_encoded)\n",
    "random_search_time = time.time() - start\n",
    "\n",
    "print(f\"RandomizedSearchCV Best Hyperparameters: {random_search.best_params_}\")\n",
    "y_pred = random_search.best_estimator_.predict(X_test)\n",
    "print(f\"F1 Score: {f1_score(y_test_encoded, y_pred)}\")\n",
    "print(f\"RandomizedSearchCV Training Time: {random_search_time:.2f} seconds\\n\")\n",
    "\n",
    "\n"
   ]
  },
  {
   "cell_type": "code",
   "execution_count": null,
   "metadata": {},
   "outputs": [
    {
     "name": "stdout",
     "output_type": "stream",
     "text": [
      "Starting RandomizedSearchCV from a distribution ...\n",
      "\n",
      "RandomizedSearchCV Best Hyperparameters: {'classifier__min_samples_split': 11, 'classifier__min_samples_leaf': 5, 'classifier__max_features': None, 'classifier__max_depth': 16, 'classifier__criterion': 'entropy'}\n",
      "F1 Score: 0.7892976588628763\n",
      "RandomizedSearchCV Training Time: 0.84 seconds\n",
      "\n"
     ]
    }
   ],
   "source": [
    "# 2. **RandomizedSearchCV**\n",
    "print(\"Starting RandomizedSearchCV from a sampled distribution ...\\n\")\n",
    "start = time.time()\n",
    "random_search = RandomizedSearchCV(estimator=model, param_distributions=param_dist, n_iter=100, cv=5, n_jobs=-1, verbose=0, random_state=100545358)\n",
    "# Randomized search will select 100 random combinations of hyperparameters from the parametric space and train the model on them\n",
    "# Effectively this should be faster than GridSearchCV, but may not find the best hyperparameters\n",
    "\n",
    "random_search.fit(X_train, y_train_encoded)\n",
    "random_search_time = time.time() - start\n",
    "\n",
    "print(f\"RandomizedSearchCV Best Hyperparameters: {random_search.best_params_}\")\n",
    "y_pred = random_search.best_estimator_.predict(X_test)\n",
    "print(f\"F1 Score: {f1_score(y_test_encoded, y_pred)}\")\n",
    "print(f\"RandomizedSearchCV Training Time: {random_search_time:.2f} seconds\\n\")\n",
    "\n"
   ]
  },
  {
   "cell_type": "markdown",
   "metadata": {},
   "source": [
    "In this case of running it, we found identical results with RandomizedSearchCV and GridSearchCV, this means one of the 100 attempts was the best one found by the exhaustive grid search (though grid search was more computationally expensive)"
   ]
  },
  {
   "cell_type": "code",
   "execution_count": 24,
   "metadata": {},
   "outputs": [
    {
     "name": "stdout",
     "output_type": "stream",
     "text": [
      "Starting Optuna...\n",
      "\n"
     ]
    }
   ],
   "source": [
    "# 3. **Optuna**\n",
    "print(\"Starting Optuna...\\n\")\n",
    "\n",
    "# Define the Optuna objective function\n",
    "def objective(trial):\n",
    "    # Define hyperparameters to tune\n",
    "    max_depth = trial.suggest_categorical('max_depth', [3, 5, 7, 10, None])\n",
    "    min_samples_split = trial.suggest_int('min_samples_split', 2, 10)\n",
    "    min_samples_leaf = trial.suggest_int('min_samples_leaf', 1, 5)\n",
    "    criterion = trial.suggest_categorical('criterion', ['gini', 'entropy'])\n",
    "    max_features = trial.suggest_categorical('max_features', [None, 'sqrt', 'log2'])\n",
    "\n",
    "    # Define the model with the current hyperparameters\n",
    "    model = Pipeline(steps=[('preprocessor', preprocessor),\n",
    "                            ('classifier', DecisionTreeClassifier(\n",
    "                                max_depth=max_depth,\n",
    "                                min_samples_split=min_samples_split,\n",
    "                                min_samples_leaf=min_samples_leaf,\n",
    "                                criterion=criterion,\n",
    "                                max_features=max_features,\n",
    "                                random_state=100545358))])\n",
    "    \n",
    "    # Train the model\n",
    "    model.fit(X_train, y_train_encoded)\n",
    "    \n",
    "    # Predict and calculate accuracy\n",
    "    y_pred = model.predict(X_test)\n",
    "    accuracy = f1_score(y_test_encoded, y_pred)\n",
    "    \n",
    "    return accuracy\n"
   ]
  },
  {
   "cell_type": "markdown",
   "metadata": {},
   "source": [
    "Comments about Optuna:\n",
    "\n",
    "Optuna works by selecting random hyperparameters from the parametric space and training the model on them\n",
    "\n",
    "However, it also uses a technique called Bayesian optimization to select the next set of hyperparameters\n",
    "\n",
    "This is done by building a probability model of the objective function and selecting the hyperparameters that maximize the expected improvement\n",
    "\n",
    "It also will proceed to do a maximum of 100 trials, however, unlike the RandomizedSearchCV, it may stop early if there is no improvement in the objective function, so it may be faster"
   ]
  },
  {
   "cell_type": "code",
   "execution_count": 25,
   "metadata": {},
   "outputs": [
    {
     "name": "stderr",
     "output_type": "stream",
     "text": [
      "[I 2024-12-02 17:26:54,725] A new study created in memory with name: no-name-87103e67-9ff3-4b6d-976c-85bc6500a8bc\n",
      "[I 2024-12-02 17:26:54,746] Trial 0 finished with value: 0.8082191780821918 and parameters: {'max_depth': 10, 'min_samples_split': 4, 'min_samples_leaf': 2, 'criterion': 'gini', 'max_features': None}. Best is trial 0 with value: 0.8082191780821918.\n",
      "[I 2024-12-02 17:26:54,759] Trial 1 finished with value: 0.6343042071197411 and parameters: {'max_depth': 3, 'min_samples_split': 7, 'min_samples_leaf': 5, 'criterion': 'entropy', 'max_features': 'sqrt'}. Best is trial 0 with value: 0.8082191780821918.\n",
      "[I 2024-12-02 17:26:54,773] Trial 2 finished with value: 0.6794871794871795 and parameters: {'max_depth': 5, 'min_samples_split': 10, 'min_samples_leaf': 2, 'criterion': 'gini', 'max_features': 'log2'}. Best is trial 0 with value: 0.8082191780821918.\n",
      "[I 2024-12-02 17:26:54,795] Trial 3 finished with value: 0.6813186813186813 and parameters: {'max_depth': 5, 'min_samples_split': 10, 'min_samples_leaf': 3, 'criterion': 'entropy', 'max_features': None}. Best is trial 0 with value: 0.8082191780821918.\n",
      "[I 2024-12-02 17:26:54,810] Trial 4 finished with value: 0.6794871794871795 and parameters: {'max_depth': 5, 'min_samples_split': 5, 'min_samples_leaf': 5, 'criterion': 'gini', 'max_features': 'log2'}. Best is trial 0 with value: 0.8082191780821918.\n",
      "[I 2024-12-02 17:26:54,823] Trial 5 finished with value: 0.6794871794871795 and parameters: {'max_depth': 5, 'min_samples_split': 4, 'min_samples_leaf': 3, 'criterion': 'gini', 'max_features': 'sqrt'}. Best is trial 0 with value: 0.8082191780821918.\n",
      "[I 2024-12-02 17:26:54,835] Trial 6 finished with value: 0.7389830508474576 and parameters: {'max_depth': 10, 'min_samples_split': 8, 'min_samples_leaf': 3, 'criterion': 'gini', 'max_features': 'log2'}. Best is trial 0 with value: 0.8082191780821918.\n",
      "[I 2024-12-02 17:26:54,855] Trial 7 finished with value: 0.7702702702702703 and parameters: {'max_depth': 10, 'min_samples_split': 10, 'min_samples_leaf': 5, 'criterion': 'entropy', 'max_features': None}. Best is trial 0 with value: 0.8082191780821918.\n",
      "[I 2024-12-02 17:26:54,867] Trial 8 finished with value: 0.6343042071197411 and parameters: {'max_depth': 3, 'min_samples_split': 9, 'min_samples_leaf': 3, 'criterion': 'gini', 'max_features': 'log2'}. Best is trial 0 with value: 0.8082191780821918.\n",
      "[I 2024-12-02 17:26:54,880] Trial 9 finished with value: 0.7766323024054983 and parameters: {'max_depth': None, 'min_samples_split': 9, 'min_samples_leaf': 1, 'criterion': 'entropy', 'max_features': 'sqrt'}. Best is trial 0 with value: 0.8082191780821918.\n",
      "[I 2024-12-02 17:26:54,909] Trial 10 finished with value: 0.8013245033112583 and parameters: {'max_depth': 7, 'min_samples_split': 2, 'min_samples_leaf': 1, 'criterion': 'gini', 'max_features': None}. Best is trial 0 with value: 0.8082191780821918.\n",
      "[I 2024-12-02 17:26:54,938] Trial 11 finished with value: 0.8013245033112583 and parameters: {'max_depth': 7, 'min_samples_split': 2, 'min_samples_leaf': 1, 'criterion': 'gini', 'max_features': None}. Best is trial 0 with value: 0.8082191780821918.\n",
      "[I 2024-12-02 17:26:54,966] Trial 12 finished with value: 0.78 and parameters: {'max_depth': 7, 'min_samples_split': 2, 'min_samples_leaf': 2, 'criterion': 'gini', 'max_features': None}. Best is trial 0 with value: 0.8082191780821918.\n",
      "[I 2024-12-02 17:26:54,993] Trial 13 finished with value: 0.78 and parameters: {'max_depth': 7, 'min_samples_split': 4, 'min_samples_leaf': 2, 'criterion': 'gini', 'max_features': None}. Best is trial 0 with value: 0.8082191780821918.\n",
      "[I 2024-12-02 17:26:55,023] Trial 14 finished with value: 0.8305647840531561 and parameters: {'max_depth': 10, 'min_samples_split': 3, 'min_samples_leaf': 1, 'criterion': 'gini', 'max_features': None}. Best is trial 14 with value: 0.8305647840531561.\n",
      "[I 2024-12-02 17:26:55,053] Trial 15 finished with value: 0.8082191780821918 and parameters: {'max_depth': 10, 'min_samples_split': 4, 'min_samples_leaf': 2, 'criterion': 'gini', 'max_features': None}. Best is trial 14 with value: 0.8305647840531561.\n",
      "[I 2024-12-02 17:26:55,083] Trial 16 finished with value: 0.8082191780821918 and parameters: {'max_depth': 10, 'min_samples_split': 6, 'min_samples_leaf': 4, 'criterion': 'gini', 'max_features': None}. Best is trial 14 with value: 0.8305647840531561.\n",
      "[I 2024-12-02 17:26:55,116] Trial 17 finished with value: 0.8305647840531561 and parameters: {'max_depth': 10, 'min_samples_split': 3, 'min_samples_leaf': 1, 'criterion': 'gini', 'max_features': None}. Best is trial 14 with value: 0.8305647840531561.\n",
      "[I 2024-12-02 17:26:55,156] Trial 18 finished with value: 0.8580645161290322 and parameters: {'max_depth': None, 'min_samples_split': 3, 'min_samples_leaf': 1, 'criterion': 'entropy', 'max_features': None}. Best is trial 18 with value: 0.8580645161290322.\n",
      "[I 2024-12-02 17:26:55,184] Trial 19 finished with value: 0.7773851590106007 and parameters: {'max_depth': None, 'min_samples_split': 6, 'min_samples_leaf': 4, 'criterion': 'entropy', 'max_features': 'sqrt'}. Best is trial 18 with value: 0.8580645161290322.\n",
      "[I 2024-12-02 17:26:55,220] Trial 20 finished with value: 0.8580645161290322 and parameters: {'max_depth': None, 'min_samples_split': 3, 'min_samples_leaf': 1, 'criterion': 'entropy', 'max_features': None}. Best is trial 18 with value: 0.8580645161290322.\n",
      "[I 2024-12-02 17:26:55,258] Trial 21 finished with value: 0.8580645161290322 and parameters: {'max_depth': None, 'min_samples_split': 3, 'min_samples_leaf': 1, 'criterion': 'entropy', 'max_features': None}. Best is trial 18 with value: 0.8580645161290322.\n",
      "[I 2024-12-02 17:26:55,296] Trial 22 finished with value: 0.8580645161290322 and parameters: {'max_depth': None, 'min_samples_split': 3, 'min_samples_leaf': 1, 'criterion': 'entropy', 'max_features': None}. Best is trial 18 with value: 0.8580645161290322.\n",
      "[I 2024-12-02 17:26:55,330] Trial 23 finished with value: 0.8506493506493507 and parameters: {'max_depth': None, 'min_samples_split': 5, 'min_samples_leaf': 1, 'criterion': 'entropy', 'max_features': None}. Best is trial 18 with value: 0.8580645161290322.\n",
      "[I 2024-12-02 17:26:55,369] Trial 24 finished with value: 0.8070175438596491 and parameters: {'max_depth': None, 'min_samples_split': 3, 'min_samples_leaf': 2, 'criterion': 'entropy', 'max_features': None}. Best is trial 18 with value: 0.8580645161290322.\n",
      "[I 2024-12-02 17:26:55,404] Trial 25 finished with value: 0.8506493506493507 and parameters: {'max_depth': None, 'min_samples_split': 5, 'min_samples_leaf': 1, 'criterion': 'entropy', 'max_features': None}. Best is trial 18 with value: 0.8580645161290322.\n",
      "[I 2024-12-02 17:26:55,442] Trial 26 finished with value: 0.8070175438596491 and parameters: {'max_depth': None, 'min_samples_split': 2, 'min_samples_leaf': 2, 'criterion': 'entropy', 'max_features': None}. Best is trial 18 with value: 0.8580645161290322.\n",
      "[I 2024-12-02 17:26:55,477] Trial 27 finished with value: 0.8580645161290322 and parameters: {'max_depth': None, 'min_samples_split': 3, 'min_samples_leaf': 1, 'criterion': 'entropy', 'max_features': None}. Best is trial 18 with value: 0.8580645161290322.\n",
      "[I 2024-12-02 17:26:55,503] Trial 28 finished with value: 0.7773851590106007 and parameters: {'max_depth': None, 'min_samples_split': 5, 'min_samples_leaf': 4, 'criterion': 'entropy', 'max_features': 'log2'}. Best is trial 18 with value: 0.8580645161290322.\n",
      "[I 2024-12-02 17:26:55,530] Trial 29 finished with value: 0.7902097902097902 and parameters: {'max_depth': None, 'min_samples_split': 4, 'min_samples_leaf': 2, 'criterion': 'entropy', 'max_features': 'sqrt'}. Best is trial 18 with value: 0.8580645161290322.\n",
      "[I 2024-12-02 17:26:55,557] Trial 30 finished with value: 0.6666666666666666 and parameters: {'max_depth': 3, 'min_samples_split': 7, 'min_samples_leaf': 1, 'criterion': 'entropy', 'max_features': None}. Best is trial 18 with value: 0.8580645161290322.\n",
      "[I 2024-12-02 17:26:55,594] Trial 31 finished with value: 0.8580645161290322 and parameters: {'max_depth': None, 'min_samples_split': 3, 'min_samples_leaf': 1, 'criterion': 'entropy', 'max_features': None}. Best is trial 18 with value: 0.8580645161290322.\n",
      "[I 2024-12-02 17:26:55,629] Trial 32 finished with value: 0.8580645161290322 and parameters: {'max_depth': None, 'min_samples_split': 3, 'min_samples_leaf': 1, 'criterion': 'entropy', 'max_features': None}. Best is trial 18 with value: 0.8580645161290322.\n",
      "[I 2024-12-02 17:26:55,663] Trial 33 finished with value: 0.8070175438596491 and parameters: {'max_depth': None, 'min_samples_split': 4, 'min_samples_leaf': 2, 'criterion': 'entropy', 'max_features': None}. Best is trial 18 with value: 0.8580645161290322.\n",
      "[I 2024-12-02 17:26:55,704] Trial 34 finished with value: 0.8562091503267973 and parameters: {'max_depth': None, 'min_samples_split': 2, 'min_samples_leaf': 1, 'criterion': 'entropy', 'max_features': None}. Best is trial 18 with value: 0.8580645161290322.\n",
      "[I 2024-12-02 17:26:55,741] Trial 35 finished with value: 0.8070175438596491 and parameters: {'max_depth': None, 'min_samples_split': 3, 'min_samples_leaf': 2, 'criterion': 'entropy', 'max_features': None}. Best is trial 18 with value: 0.8580645161290322.\n",
      "[I 2024-12-02 17:26:55,775] Trial 36 finished with value: 0.6343042071197411 and parameters: {'max_depth': 3, 'min_samples_split': 4, 'min_samples_leaf': 1, 'criterion': 'entropy', 'max_features': 'log2'}. Best is trial 18 with value: 0.8580645161290322.\n",
      "[I 2024-12-02 17:26:55,811] Trial 37 finished with value: 0.6551724137931034 and parameters: {'max_depth': 5, 'min_samples_split': 2, 'min_samples_leaf': 2, 'criterion': 'entropy', 'max_features': 'sqrt'}. Best is trial 18 with value: 0.8580645161290322.\n",
      "[I 2024-12-02 17:26:55,854] Trial 38 finished with value: 0.8506493506493507 and parameters: {'max_depth': None, 'min_samples_split': 6, 'min_samples_leaf': 1, 'criterion': 'entropy', 'max_features': None}. Best is trial 18 with value: 0.8580645161290322.\n",
      "[I 2024-12-02 17:26:55,887] Trial 39 finished with value: 0.6794871794871795 and parameters: {'max_depth': 5, 'min_samples_split': 3, 'min_samples_leaf': 3, 'criterion': 'entropy', 'max_features': 'log2'}. Best is trial 18 with value: 0.8580645161290322.\n",
      "[I 2024-12-02 17:26:55,926] Trial 40 finished with value: 0.8506493506493507 and parameters: {'max_depth': None, 'min_samples_split': 5, 'min_samples_leaf': 1, 'criterion': 'entropy', 'max_features': None}. Best is trial 18 with value: 0.8580645161290322.\n",
      "[I 2024-12-02 17:26:55,966] Trial 41 finished with value: 0.8580645161290322 and parameters: {'max_depth': None, 'min_samples_split': 3, 'min_samples_leaf': 1, 'criterion': 'entropy', 'max_features': None}. Best is trial 18 with value: 0.8580645161290322.\n",
      "[I 2024-12-02 17:26:56,005] Trial 42 finished with value: 0.8844884488448845 and parameters: {'max_depth': None, 'min_samples_split': 4, 'min_samples_leaf': 1, 'criterion': 'entropy', 'max_features': None}. Best is trial 42 with value: 0.8844884488448845.\n",
      "[I 2024-12-02 17:26:56,045] Trial 43 finished with value: 0.8844884488448845 and parameters: {'max_depth': None, 'min_samples_split': 4, 'min_samples_leaf': 1, 'criterion': 'entropy', 'max_features': None}. Best is trial 42 with value: 0.8844884488448845.\n",
      "[I 2024-12-02 17:26:56,089] Trial 44 finished with value: 0.8844884488448845 and parameters: {'max_depth': None, 'min_samples_split': 4, 'min_samples_leaf': 1, 'criterion': 'entropy', 'max_features': None}. Best is trial 42 with value: 0.8844884488448845.\n",
      "[I 2024-12-02 17:26:56,119] Trial 45 finished with value: 0.6343042071197411 and parameters: {'max_depth': 3, 'min_samples_split': 4, 'min_samples_leaf': 2, 'criterion': 'entropy', 'max_features': 'sqrt'}. Best is trial 42 with value: 0.8844884488448845.\n",
      "[I 2024-12-02 17:26:56,156] Trial 46 finished with value: 0.8844884488448845 and parameters: {'max_depth': None, 'min_samples_split': 4, 'min_samples_leaf': 1, 'criterion': 'entropy', 'max_features': None}. Best is trial 42 with value: 0.8844884488448845.\n",
      "[I 2024-12-02 17:26:56,193] Trial 47 finished with value: 0.7388059701492538 and parameters: {'max_depth': 7, 'min_samples_split': 4, 'min_samples_leaf': 1, 'criterion': 'entropy', 'max_features': None}. Best is trial 42 with value: 0.8844884488448845.\n",
      "[I 2024-12-02 17:26:56,242] Trial 48 finished with value: 0.6794871794871795 and parameters: {'max_depth': 5, 'min_samples_split': 5, 'min_samples_leaf': 2, 'criterion': 'entropy', 'max_features': 'log2'}. Best is trial 42 with value: 0.8844884488448845.\n",
      "[I 2024-12-02 17:26:56,279] Trial 49 finished with value: 0.7972508591065293 and parameters: {'max_depth': None, 'min_samples_split': 7, 'min_samples_leaf': 5, 'criterion': 'entropy', 'max_features': None}. Best is trial 42 with value: 0.8844884488448845.\n",
      "[I 2024-12-02 17:26:56,314] Trial 50 finished with value: 0.825503355704698 and parameters: {'max_depth': None, 'min_samples_split': 4, 'min_samples_leaf': 3, 'criterion': 'entropy', 'max_features': None}. Best is trial 42 with value: 0.8844884488448845.\n",
      "[I 2024-12-02 17:26:56,347] Trial 51 finished with value: 0.8844884488448845 and parameters: {'max_depth': None, 'min_samples_split': 4, 'min_samples_leaf': 1, 'criterion': 'entropy', 'max_features': None}. Best is trial 42 with value: 0.8844884488448845.\n",
      "[I 2024-12-02 17:26:56,383] Trial 52 finished with value: 0.8844884488448845 and parameters: {'max_depth': None, 'min_samples_split': 4, 'min_samples_leaf': 1, 'criterion': 'entropy', 'max_features': None}. Best is trial 42 with value: 0.8844884488448845.\n",
      "[I 2024-12-02 17:26:56,416] Trial 53 finished with value: 0.8506493506493507 and parameters: {'max_depth': None, 'min_samples_split': 5, 'min_samples_leaf': 1, 'criterion': 'entropy', 'max_features': None}. Best is trial 42 with value: 0.8844884488448845.\n",
      "[I 2024-12-02 17:26:56,451] Trial 54 finished with value: 0.8506493506493507 and parameters: {'max_depth': None, 'min_samples_split': 6, 'min_samples_leaf': 1, 'criterion': 'entropy', 'max_features': None}. Best is trial 42 with value: 0.8844884488448845.\n",
      "[I 2024-12-02 17:26:56,481] Trial 55 finished with value: 0.7388059701492538 and parameters: {'max_depth': 7, 'min_samples_split': 4, 'min_samples_leaf': 1, 'criterion': 'entropy', 'max_features': None}. Best is trial 42 with value: 0.8844884488448845.\n",
      "[I 2024-12-02 17:26:56,515] Trial 56 finished with value: 0.8506493506493507 and parameters: {'max_depth': None, 'min_samples_split': 5, 'min_samples_leaf': 1, 'criterion': 'entropy', 'max_features': None}. Best is trial 42 with value: 0.8844884488448845.\n",
      "[I 2024-12-02 17:26:56,545] Trial 57 finished with value: 0.8524590163934426 and parameters: {'max_depth': 10, 'min_samples_split': 4, 'min_samples_leaf': 1, 'criterion': 'gini', 'max_features': None}. Best is trial 42 with value: 0.8844884488448845.\n",
      "[I 2024-12-02 17:26:56,574] Trial 58 finished with value: 0.7902097902097902 and parameters: {'max_depth': None, 'min_samples_split': 4, 'min_samples_leaf': 2, 'criterion': 'entropy', 'max_features': 'sqrt'}. Best is trial 42 with value: 0.8844884488448845.\n",
      "[I 2024-12-02 17:26:56,610] Trial 59 finished with value: 0.8506493506493507 and parameters: {'max_depth': None, 'min_samples_split': 5, 'min_samples_leaf': 1, 'criterion': 'entropy', 'max_features': None}. Best is trial 42 with value: 0.8844884488448845.\n",
      "[I 2024-12-02 17:26:56,640] Trial 60 finished with value: 0.6666666666666666 and parameters: {'max_depth': 3, 'min_samples_split': 9, 'min_samples_leaf': 4, 'criterion': 'entropy', 'max_features': None}. Best is trial 42 with value: 0.8844884488448845.\n",
      "[I 2024-12-02 17:26:56,680] Trial 61 finished with value: 0.8844884488448845 and parameters: {'max_depth': None, 'min_samples_split': 4, 'min_samples_leaf': 1, 'criterion': 'entropy', 'max_features': None}. Best is trial 42 with value: 0.8844884488448845.\n",
      "[I 2024-12-02 17:26:56,717] Trial 62 finished with value: 0.8844884488448845 and parameters: {'max_depth': None, 'min_samples_split': 4, 'min_samples_leaf': 1, 'criterion': 'entropy', 'max_features': None}. Best is trial 42 with value: 0.8844884488448845.\n",
      "[I 2024-12-02 17:26:56,753] Trial 63 finished with value: 0.8844884488448845 and parameters: {'max_depth': None, 'min_samples_split': 4, 'min_samples_leaf': 1, 'criterion': 'entropy', 'max_features': None}. Best is trial 42 with value: 0.8844884488448845.\n",
      "[I 2024-12-02 17:26:56,789] Trial 64 finished with value: 0.8844884488448845 and parameters: {'max_depth': None, 'min_samples_split': 4, 'min_samples_leaf': 1, 'criterion': 'entropy', 'max_features': None}. Best is trial 42 with value: 0.8844884488448845.\n",
      "[I 2024-12-02 17:26:56,822] Trial 65 finished with value: 0.8618421052631579 and parameters: {'max_depth': None, 'min_samples_split': 5, 'min_samples_leaf': 1, 'criterion': 'gini', 'max_features': None}. Best is trial 42 with value: 0.8844884488448845.\n",
      "[I 2024-12-02 17:26:56,860] Trial 66 finished with value: 0.8506493506493507 and parameters: {'max_depth': None, 'min_samples_split': 5, 'min_samples_leaf': 1, 'criterion': 'entropy', 'max_features': None}. Best is trial 42 with value: 0.8844884488448845.\n",
      "[I 2024-12-02 17:26:56,894] Trial 67 finished with value: 0.7638888888888888 and parameters: {'max_depth': 10, 'min_samples_split': 6, 'min_samples_leaf': 2, 'criterion': 'entropy', 'max_features': None}. Best is trial 42 with value: 0.8844884488448845.\n",
      "[I 2024-12-02 17:26:56,923] Trial 68 finished with value: 0.8933333333333333 and parameters: {'max_depth': None, 'min_samples_split': 4, 'min_samples_leaf': 1, 'criterion': 'entropy', 'max_features': 'log2'}. Best is trial 68 with value: 0.8933333333333333.\n",
      "[I 2024-12-02 17:26:56,950] Trial 69 finished with value: 0.6851211072664359 and parameters: {'max_depth': 7, 'min_samples_split': 3, 'min_samples_leaf': 1, 'criterion': 'entropy', 'max_features': 'log2'}. Best is trial 68 with value: 0.8933333333333333.\n",
      "[I 2024-12-02 17:26:56,984] Trial 70 finished with value: 0.8464163822525598 and parameters: {'max_depth': None, 'min_samples_split': 5, 'min_samples_leaf': 1, 'criterion': 'gini', 'max_features': 'log2'}. Best is trial 68 with value: 0.8933333333333333.\n",
      "[I 2024-12-02 17:26:57,013] Trial 71 finished with value: 0.8933333333333333 and parameters: {'max_depth': None, 'min_samples_split': 4, 'min_samples_leaf': 1, 'criterion': 'entropy', 'max_features': 'log2'}. Best is trial 68 with value: 0.8933333333333333.\n",
      "[I 2024-12-02 17:26:57,040] Trial 72 finished with value: 0.8933333333333333 and parameters: {'max_depth': None, 'min_samples_split': 4, 'min_samples_leaf': 1, 'criterion': 'entropy', 'max_features': 'log2'}. Best is trial 68 with value: 0.8933333333333333.\n",
      "[I 2024-12-02 17:26:57,070] Trial 73 finished with value: 0.8933333333333333 and parameters: {'max_depth': None, 'min_samples_split': 4, 'min_samples_leaf': 1, 'criterion': 'entropy', 'max_features': 'log2'}. Best is trial 68 with value: 0.8933333333333333.\n",
      "[I 2024-12-02 17:26:57,098] Trial 74 finished with value: 0.8933333333333333 and parameters: {'max_depth': None, 'min_samples_split': 4, 'min_samples_leaf': 1, 'criterion': 'entropy', 'max_features': 'log2'}. Best is trial 68 with value: 0.8933333333333333.\n",
      "[I 2024-12-02 17:26:57,123] Trial 75 finished with value: 0.6551724137931034 and parameters: {'max_depth': 5, 'min_samples_split': 3, 'min_samples_leaf': 1, 'criterion': 'entropy', 'max_features': 'log2'}. Best is trial 68 with value: 0.8933333333333333.\n",
      "[I 2024-12-02 17:26:57,151] Trial 76 finished with value: 0.7290969899665551 and parameters: {'max_depth': None, 'min_samples_split': 5, 'min_samples_leaf': 1, 'criterion': 'entropy', 'max_features': 'log2'}. Best is trial 68 with value: 0.8933333333333333.\n",
      "[I 2024-12-02 17:26:57,177] Trial 77 finished with value: 0.7902097902097902 and parameters: {'max_depth': None, 'min_samples_split': 4, 'min_samples_leaf': 2, 'criterion': 'entropy', 'max_features': 'log2'}. Best is trial 68 with value: 0.8933333333333333.\n",
      "[I 2024-12-02 17:26:57,205] Trial 78 finished with value: 0.8410596026490066 and parameters: {'max_depth': None, 'min_samples_split': 3, 'min_samples_leaf': 1, 'criterion': 'entropy', 'max_features': 'log2'}. Best is trial 68 with value: 0.8933333333333333.\n",
      "[I 2024-12-02 17:26:57,232] Trial 79 finished with value: 0.8086642599277978 and parameters: {'max_depth': None, 'min_samples_split': 8, 'min_samples_leaf': 1, 'criterion': 'entropy', 'max_features': 'log2'}. Best is trial 68 with value: 0.8933333333333333.\n",
      "[I 2024-12-02 17:26:57,255] Trial 80 finished with value: 0.6343042071197411 and parameters: {'max_depth': 3, 'min_samples_split': 5, 'min_samples_leaf': 2, 'criterion': 'entropy', 'max_features': 'log2'}. Best is trial 68 with value: 0.8933333333333333.\n",
      "[I 2024-12-02 17:26:57,286] Trial 81 finished with value: 0.8933333333333333 and parameters: {'max_depth': None, 'min_samples_split': 4, 'min_samples_leaf': 1, 'criterion': 'entropy', 'max_features': 'log2'}. Best is trial 68 with value: 0.8933333333333333.\n",
      "[I 2024-12-02 17:26:57,319] Trial 82 finished with value: 0.8933333333333333 and parameters: {'max_depth': None, 'min_samples_split': 4, 'min_samples_leaf': 1, 'criterion': 'entropy', 'max_features': 'log2'}. Best is trial 68 with value: 0.8933333333333333.\n",
      "[I 2024-12-02 17:26:57,349] Trial 83 finished with value: 0.8933333333333333 and parameters: {'max_depth': None, 'min_samples_split': 4, 'min_samples_leaf': 1, 'criterion': 'entropy', 'max_features': 'log2'}. Best is trial 68 with value: 0.8933333333333333.\n",
      "[I 2024-12-02 17:26:57,379] Trial 84 finished with value: 0.8410596026490066 and parameters: {'max_depth': None, 'min_samples_split': 3, 'min_samples_leaf': 1, 'criterion': 'entropy', 'max_features': 'log2'}. Best is trial 68 with value: 0.8933333333333333.\n",
      "[I 2024-12-02 17:26:57,407] Trial 85 finished with value: 0.8933333333333333 and parameters: {'max_depth': None, 'min_samples_split': 4, 'min_samples_leaf': 1, 'criterion': 'entropy', 'max_features': 'log2'}. Best is trial 68 with value: 0.8933333333333333.\n",
      "[I 2024-12-02 17:26:57,432] Trial 86 finished with value: 0.8933333333333333 and parameters: {'max_depth': None, 'min_samples_split': 4, 'min_samples_leaf': 1, 'criterion': 'entropy', 'max_features': 'log2'}. Best is trial 68 with value: 0.8933333333333333.\n",
      "[I 2024-12-02 17:26:57,459] Trial 87 finished with value: 0.7558528428093646 and parameters: {'max_depth': 10, 'min_samples_split': 3, 'min_samples_leaf': 1, 'criterion': 'entropy', 'max_features': 'log2'}. Best is trial 68 with value: 0.8933333333333333.\n",
      "[I 2024-12-02 17:26:57,487] Trial 88 finished with value: 0.8109965635738832 and parameters: {'max_depth': None, 'min_samples_split': 4, 'min_samples_leaf': 1, 'criterion': 'gini', 'max_features': 'log2'}. Best is trial 68 with value: 0.8933333333333333.\n",
      "[I 2024-12-02 17:26:57,517] Trial 89 finished with value: 0.8410596026490066 and parameters: {'max_depth': None, 'min_samples_split': 3, 'min_samples_leaf': 1, 'criterion': 'entropy', 'max_features': 'log2'}. Best is trial 68 with value: 0.8933333333333333.\n",
      "[I 2024-12-02 17:26:57,543] Trial 90 finished with value: 0.6773162939297125 and parameters: {'max_depth': 5, 'min_samples_split': 5, 'min_samples_leaf': 1, 'criterion': 'entropy', 'max_features': 'log2'}. Best is trial 68 with value: 0.8933333333333333.\n",
      "[I 2024-12-02 17:26:57,569] Trial 91 finished with value: 0.8933333333333333 and parameters: {'max_depth': None, 'min_samples_split': 4, 'min_samples_leaf': 1, 'criterion': 'entropy', 'max_features': 'log2'}. Best is trial 68 with value: 0.8933333333333333.\n",
      "[I 2024-12-02 17:26:57,599] Trial 92 finished with value: 0.8933333333333333 and parameters: {'max_depth': None, 'min_samples_split': 4, 'min_samples_leaf': 1, 'criterion': 'entropy', 'max_features': 'log2'}. Best is trial 68 with value: 0.8933333333333333.\n",
      "[I 2024-12-02 17:26:57,625] Trial 93 finished with value: 0.8933333333333333 and parameters: {'max_depth': None, 'min_samples_split': 4, 'min_samples_leaf': 1, 'criterion': 'entropy', 'max_features': 'log2'}. Best is trial 68 with value: 0.8933333333333333.\n",
      "[I 2024-12-02 17:26:57,653] Trial 94 finished with value: 0.8933333333333333 and parameters: {'max_depth': None, 'min_samples_split': 4, 'min_samples_leaf': 1, 'criterion': 'entropy', 'max_features': 'log2'}. Best is trial 68 with value: 0.8933333333333333.\n",
      "[I 2024-12-02 17:26:57,680] Trial 95 finished with value: 0.8933333333333333 and parameters: {'max_depth': None, 'min_samples_split': 4, 'min_samples_leaf': 1, 'criterion': 'entropy', 'max_features': 'log2'}. Best is trial 68 with value: 0.8933333333333333.\n",
      "[I 2024-12-02 17:26:57,710] Trial 96 finished with value: 0.8933333333333333 and parameters: {'max_depth': None, 'min_samples_split': 4, 'min_samples_leaf': 1, 'criterion': 'entropy', 'max_features': 'log2'}. Best is trial 68 with value: 0.8933333333333333.\n",
      "[I 2024-12-02 17:26:57,740] Trial 97 finished with value: 0.6591760299625468 and parameters: {'max_depth': 7, 'min_samples_split': 5, 'min_samples_leaf': 1, 'criterion': 'entropy', 'max_features': 'log2'}. Best is trial 68 with value: 0.8933333333333333.\n",
      "[I 2024-12-02 17:26:57,766] Trial 98 finished with value: 0.8410596026490066 and parameters: {'max_depth': None, 'min_samples_split': 3, 'min_samples_leaf': 1, 'criterion': 'entropy', 'max_features': 'log2'}. Best is trial 68 with value: 0.8933333333333333.\n",
      "[I 2024-12-02 17:26:57,792] Trial 99 finished with value: 0.8933333333333333 and parameters: {'max_depth': None, 'min_samples_split': 4, 'min_samples_leaf': 1, 'criterion': 'entropy', 'max_features': 'log2'}. Best is trial 68 with value: 0.8933333333333333.\n"
     ]
    },
    {
     "name": "stdout",
     "output_type": "stream",
     "text": [
      "Optuna Best Hyperparameters: {'max_depth': None, 'min_samples_split': 4, 'min_samples_leaf': 1, 'criterion': 'entropy', 'max_features': 'log2'}\n",
      "F1 Score: 0.8933333333333333\n",
      "Optuna Training Time: 3.07 seconds\n",
      "\n"
     ]
    }
   ],
   "source": [
    "# Create and optimize the Optuna study\n",
    "start = time.time()\n",
    "study = optuna.create_study(direction='maximize')\n",
    "study.optimize(objective, n_trials=100)\n",
    "optuna_time = time.time() - start\n",
    "\n",
    "print(f\"Optuna Best Hyperparameters: {study.best_params}\")\n",
    "best_model = Pipeline(steps=[('preprocessor', preprocessor),\n",
    "                              ('classifier', DecisionTreeClassifier(\n",
    "                                  **study.best_params,\n",
    "                                  random_state=100545358))])\n",
    "\n",
    "best_model.fit(X_train, y_train_encoded)\n",
    "y_pred = best_model.predict(X_test)\n",
    "print(f\"F1 Score: {f1_score(y_test_encoded, y_pred)}\")\n",
    "print(f\"Optuna Training Time: {optuna_time:.2f} seconds\\n\")\n"
   ]
  },
  {
   "cell_type": "markdown",
   "metadata": {},
   "source": [
    "In this case, Optuna's F1 Score = 0.825503355704698, which is less than GridSearchCV's F1 Score: 0.842809364548495\n",
    "\n",
    "Actually, it is impossible for Optuna to beat GridSearchCV measured by only F1 Score because Grid Search is exhaustive\n",
    "\n",
    "For a larger set of hyperparameters, Optuna would be better because GridSearchCV would simply be too computationally expensive\n",
    "\n",
    "But here, Optuna is inferior (it is only 1.5 seconds faster)"
   ]
  },
  {
   "cell_type": "markdown",
   "metadata": {},
   "source": [
    "2. KNN"
   ]
  },
  {
   "cell_type": "code",
   "execution_count": 26,
   "metadata": {},
   "outputs": [
    {
     "name": "stdout",
     "output_type": "stream",
     "text": [
      "Starting GridSearchCV...\n",
      "\n",
      "GridSearchCV Best Hyperparameters: {'classifier__algorithm': 'auto', 'classifier__leaf_size': 10, 'classifier__n_neighbors': 3, 'classifier__p': 1, 'classifier__weights': 'distance'}\n",
      "F1 Score: 0.9038461538461539\n",
      "GridSearchCV Training Time: 5.66 seconds\n",
      "\n"
     ]
    }
   ],
   "source": [
    "\n",
    "model = Pipeline(steps=[('preprocessor', preprocessor),\n",
    "                        ('classifier', KNeighborsClassifier())])\n",
    "\n",
    "# Define the parameter grid (same for all 3 methods)\n",
    "param_grid = {\n",
    "    'classifier__n_neighbors': [3, 5, 7, 10, 15, 20],  # Number of neighbors to use\n",
    "    'classifier__weights': ['uniform', 'distance'],  # Weight function used in prediction\n",
    "    'classifier__algorithm': ['auto', 'ball_tree', 'kd_tree', 'brute'],  # Algorithm to compute the nearest neighbors\n",
    "    'classifier__leaf_size': [10, 20, 30, 40, 50],  # Leaf size for BallTree or KDTree\n",
    "    'classifier__p': [1, 2],  # Power parameter for the Minkowski distance (1 = Manhattan, 2 = Euclidean)\n",
    "}\n",
    "\n",
    "\n",
    "# 1. **GridSearchCV**\n",
    "print(\"Starting GridSearchCV...\\n\")\n",
    "start = time.time()\n",
    "grid_search = GridSearchCV(estimator=model, param_grid=param_grid, cv=5, n_jobs=-1, verbose=0)\n",
    "grid_search.fit(X_train, y_train_encoded)\n",
    "grid_search_time = time.time() - start\n",
    "\n",
    "print(f\"GridSearchCV Best Hyperparameters: {grid_search.best_params_}\")\n",
    "y_pred = grid_search.best_estimator_.predict(X_test)\n",
    "print(f\"F1 Score: {f1_score(y_test_encoded, y_pred)}\")\n",
    "print(f\"GridSearchCV Training Time: {grid_search_time:.2f} seconds\\n\")"
   ]
  },
  {
   "cell_type": "code",
   "execution_count": null,
   "metadata": {},
   "outputs": [
    {
     "name": "stdout",
     "output_type": "stream",
     "text": [
      "Starting GridSearchCV from Distribution...\n",
      "\n",
      "GridSearchCV Best Hyperparameters: {'classifier__algorithm': 'auto', 'classifier__leaf_size': 36, 'classifier__n_neighbors': 13, 'classifier__p': 1.1581783411577682, 'classifier__weights': 'distance'}\n",
      "F1 Score: 0.8143322475570033\n",
      "GridSearchCV Training Time: 12.17 seconds\n",
      "\n"
     ]
    }
   ],
   "source": [
    "param_dist = {\n",
    "    'classifier__n_neighbors': randint(3, 21).rvs(size=3),  # n_neighbors remains as an integer, sampled between 3 and 20\n",
    "    'classifier__weights': ['uniform', 'distance'],  # Categorical choice between 'uniform' or 'distance'\n",
    "    'classifier__algorithm': ['auto', 'ball_tree', 'kd_tree', 'brute'],  # Categorical choice\n",
    "    'classifier__leaf_size': randint(10, 50).rvs(size=3),  # Randomly sample leaf_size between 10 and 50 (uniform continuous)\n",
    "    'classifier__p': uniform(1, 2).rvs(size=3),  # Randomly sample 'p' between 1 and 2 (uniform continuous)\n",
    "}\n",
    "print(\"Starting GridSearchCV from Sampled Distribution...\\n\")\n",
    "start = time.time()\n",
    "grid_search = GridSearchCV(estimator=model, param_grid=param_dist, cv=5, n_jobs=-1, verbose=0)\n",
    "grid_search.fit(X_train, y_train_encoded)\n",
    "grid_search_time = time.time() - start\n",
    "\n",
    "print(f\"GridSearchCV Best Hyperparameters: {grid_search.best_params_}\")\n",
    "y_pred = grid_search.best_estimator_.predict(X_test)\n",
    "print(f\"F1 Score: {f1_score(y_test_encoded, y_pred)}\")\n",
    "print(f\"GridSearchCV Training Time: {grid_search_time:.2f} seconds\\n\")"
   ]
  },
  {
   "cell_type": "code",
   "execution_count": 28,
   "metadata": {},
   "outputs": [
    {
     "name": "stdout",
     "output_type": "stream",
     "text": [
      "Starting RandomizedSearchCV...\n",
      "\n",
      "RandomizedSearchCV Best Hyperparameters: {'classifier__weights': 'distance', 'classifier__p': 1, 'classifier__n_neighbors': 3, 'classifier__leaf_size': 50, 'classifier__algorithm': 'brute'}\n",
      "F1 Score: 0.9038461538461539\n",
      "RandomizedSearchCV Training Time: 1.46 seconds\n",
      "\n"
     ]
    }
   ],
   "source": [
    "\n",
    "# 2. **RandomizedSearchCV**\n",
    "print(\"Starting RandomizedSearchCV...\\n\")\n",
    "start = time.time()\n",
    "random_search = RandomizedSearchCV(estimator=model, param_distributions=param_grid, n_iter=100, cv=5, n_jobs=-1, verbose=0, random_state=100545358)\n",
    "random_search.fit(X_train, y_train_encoded)\n",
    "random_search_time = time.time() - start\n",
    "\n",
    "print(f\"RandomizedSearchCV Best Hyperparameters: {random_search.best_params_}\")\n",
    "y_pred = random_search.best_estimator_.predict(X_test)\n",
    "print(f\"F1 Score: {f1_score(y_test_encoded, y_pred)}\")\n",
    "print(f\"RandomizedSearchCV Training Time: {random_search_time:.2f} seconds\\n\")"
   ]
  },
  {
   "cell_type": "markdown",
   "metadata": {},
   "source": [
    "Strong performance with high F1 Score = 0.9038461538461539\n",
    "Recommends classifier_weights = \"distance\"; neighbors' contributions are weighted by their distance, giving closer neighbors more influence which is a very good approach for the relatively small dataset in this problem"
   ]
  },
  {
   "cell_type": "code",
   "execution_count": null,
   "metadata": {},
   "outputs": [
    {
     "name": "stdout",
     "output_type": "stream",
     "text": [
      "Starting RandomizedSearchCV from distribution...\n",
      "\n",
      "RandomizedSearchCV Best Hyperparameters: {'classifier__weights': 'distance', 'classifier__p': 1.1581783411577682, 'classifier__n_neighbors': 13, 'classifier__leaf_size': 45, 'classifier__algorithm': 'brute'}\n",
      "F1 Score: 0.8143322475570033\n",
      "RandomizedSearchCV Training Time: 5.58 seconds\n",
      "\n"
     ]
    }
   ],
   "source": [
    "print(\"Starting RandomizedSearchCV from sampled distribution...\\n\")\n",
    "start = time.time()\n",
    "random_search = RandomizedSearchCV(estimator=model, param_distributions=param_dist, n_iter=100, cv=5, n_jobs=-1, verbose=0, random_state=100545358)\n",
    "random_search.fit(X_train, y_train_encoded)\n",
    "random_search_time = time.time() - start\n",
    "\n",
    "print(f\"RandomizedSearchCV Best Hyperparameters: {random_search.best_params_}\")\n",
    "y_pred = random_search.best_estimator_.predict(X_test)\n",
    "print(f\"F1 Score: {f1_score(y_test_encoded, y_pred)}\")\n",
    "print(f\"RandomizedSearchCV Training Time: {random_search_time:.2f} seconds\\n\")"
   ]
  },
  {
   "cell_type": "code",
   "execution_count": 30,
   "metadata": {},
   "outputs": [
    {
     "name": "stderr",
     "output_type": "stream",
     "text": [
      "[I 2024-12-02 17:27:22,879] A new study created in memory with name: no-name-61586e31-ab92-495f-8aab-ccc476664503\n",
      "[I 2024-12-02 17:27:22,896] Trial 0 finished with value: 0.7383512544802867 and parameters: {'max_depth': 7, 'min_samples_split': 7, 'min_samples_leaf': 5, 'criterion': 'gini', 'max_features': 'log2'}. Best is trial 0 with value: 0.7383512544802867.\n",
      "[I 2024-12-02 17:27:22,911] Trial 1 finished with value: 0.656 and parameters: {'max_depth': 10, 'min_samples_split': 9, 'min_samples_leaf': 4, 'criterion': 'entropy', 'max_features': 'log2'}. Best is trial 0 with value: 0.7383512544802867.\n",
      "[I 2024-12-02 17:27:22,926] Trial 2 finished with value: 0.7804878048780488 and parameters: {'max_depth': 7, 'min_samples_split': 10, 'min_samples_leaf': 1, 'criterion': 'entropy', 'max_features': 'sqrt'}. Best is trial 2 with value: 0.7804878048780488.\n",
      "[I 2024-12-02 17:27:22,941] Trial 3 finished with value: 0.6794871794871795 and parameters: {'max_depth': 5, 'min_samples_split': 7, 'min_samples_leaf': 4, 'criterion': 'entropy', 'max_features': 'sqrt'}. Best is trial 2 with value: 0.7804878048780488.\n",
      "[I 2024-12-02 17:27:22,957] Trial 4 finished with value: 0.6666666666666666 and parameters: {'max_depth': 3, 'min_samples_split': 4, 'min_samples_leaf': 3, 'criterion': 'entropy', 'max_features': None}. Best is trial 2 with value: 0.7804878048780488.\n",
      "[I 2024-12-02 17:27:22,971] Trial 5 finished with value: 0.7272727272727273 and parameters: {'max_depth': 7, 'min_samples_split': 10, 'min_samples_leaf': 5, 'criterion': 'entropy', 'max_features': 'sqrt'}. Best is trial 2 with value: 0.7804878048780488.\n",
      "[I 2024-12-02 17:27:22,986] Trial 6 finished with value: 0.7083333333333334 and parameters: {'max_depth': 7, 'min_samples_split': 3, 'min_samples_leaf': 4, 'criterion': 'entropy', 'max_features': 'log2'}. Best is trial 2 with value: 0.7804878048780488.\n",
      "[I 2024-12-02 17:27:22,999] Trial 7 finished with value: 0.6551724137931034 and parameters: {'max_depth': 5, 'min_samples_split': 4, 'min_samples_leaf': 1, 'criterion': 'entropy', 'max_features': 'log2'}. Best is trial 2 with value: 0.7804878048780488.\n"
     ]
    },
    {
     "name": "stdout",
     "output_type": "stream",
     "text": [
      "Starting Optuna...\n",
      "\n"
     ]
    },
    {
     "name": "stderr",
     "output_type": "stream",
     "text": [
      "[I 2024-12-02 17:27:23,012] Trial 8 finished with value: 0.6773162939297125 and parameters: {'max_depth': 5, 'min_samples_split': 6, 'min_samples_leaf': 1, 'criterion': 'gini', 'max_features': 'log2'}. Best is trial 2 with value: 0.7804878048780488.\n",
      "[I 2024-12-02 17:27:23,026] Trial 9 finished with value: 0.7491166077738516 and parameters: {'max_depth': None, 'min_samples_split': 7, 'min_samples_leaf': 1, 'criterion': 'gini', 'max_features': 'sqrt'}. Best is trial 2 with value: 0.7804878048780488.\n",
      "[I 2024-12-02 17:27:23,050] Trial 10 finished with value: 0.657243816254417 and parameters: {'max_depth': 3, 'min_samples_split': 10, 'min_samples_leaf': 2, 'criterion': 'gini', 'max_features': None}. Best is trial 2 with value: 0.7804878048780488.\n",
      "[I 2024-12-02 17:27:23,074] Trial 11 finished with value: 0.779783393501805 and parameters: {'max_depth': None, 'min_samples_split': 8, 'min_samples_leaf': 2, 'criterion': 'gini', 'max_features': 'sqrt'}. Best is trial 2 with value: 0.7804878048780488.\n",
      "[I 2024-12-02 17:27:23,097] Trial 12 finished with value: 0.7730496453900709 and parameters: {'max_depth': None, 'min_samples_split': 9, 'min_samples_leaf': 2, 'criterion': 'gini', 'max_features': 'sqrt'}. Best is trial 2 with value: 0.7804878048780488.\n",
      "[I 2024-12-02 17:27:23,121] Trial 13 finished with value: 0.779783393501805 and parameters: {'max_depth': None, 'min_samples_split': 8, 'min_samples_leaf': 2, 'criterion': 'gini', 'max_features': 'sqrt'}. Best is trial 2 with value: 0.7804878048780488.\n",
      "[I 2024-12-02 17:27:23,146] Trial 14 finished with value: 0.7430555555555556 and parameters: {'max_depth': 10, 'min_samples_split': 9, 'min_samples_leaf': 2, 'criterion': 'entropy', 'max_features': 'sqrt'}. Best is trial 2 with value: 0.7804878048780488.\n",
      "[I 2024-12-02 17:27:23,169] Trial 15 finished with value: 0.7781818181818182 and parameters: {'max_depth': None, 'min_samples_split': 6, 'min_samples_leaf': 3, 'criterion': 'gini', 'max_features': 'sqrt'}. Best is trial 2 with value: 0.7804878048780488.\n",
      "[I 2024-12-02 17:27:23,196] Trial 16 finished with value: 0.7814569536423841 and parameters: {'max_depth': 7, 'min_samples_split': 8, 'min_samples_leaf': 1, 'criterion': 'gini', 'max_features': None}. Best is trial 16 with value: 0.7814569536423841.\n",
      "[I 2024-12-02 17:27:23,226] Trial 17 finished with value: 0.7121212121212122 and parameters: {'max_depth': 7, 'min_samples_split': 10, 'min_samples_leaf': 1, 'criterion': 'entropy', 'max_features': None}. Best is trial 16 with value: 0.7814569536423841.\n",
      "[I 2024-12-02 17:27:23,255] Trial 18 finished with value: 0.7656765676567657 and parameters: {'max_depth': 7, 'min_samples_split': 8, 'min_samples_leaf': 3, 'criterion': 'gini', 'max_features': None}. Best is trial 16 with value: 0.7814569536423841.\n",
      "[I 2024-12-02 17:27:23,290] Trial 19 finished with value: 0.7388059701492538 and parameters: {'max_depth': 7, 'min_samples_split': 2, 'min_samples_leaf': 1, 'criterion': 'entropy', 'max_features': None}. Best is trial 16 with value: 0.7814569536423841.\n",
      "[I 2024-12-02 17:27:23,324] Trial 20 finished with value: 0.7121212121212122 and parameters: {'max_depth': 7, 'min_samples_split': 9, 'min_samples_leaf': 1, 'criterion': 'entropy', 'max_features': None}. Best is trial 16 with value: 0.7814569536423841.\n",
      "[I 2024-12-02 17:27:23,351] Trial 21 finished with value: 0.779783393501805 and parameters: {'max_depth': None, 'min_samples_split': 8, 'min_samples_leaf': 2, 'criterion': 'gini', 'max_features': 'sqrt'}. Best is trial 16 with value: 0.7814569536423841.\n",
      "[I 2024-12-02 17:27:23,381] Trial 22 finished with value: 0.6915254237288135 and parameters: {'max_depth': 7, 'min_samples_split': 5, 'min_samples_leaf': 2, 'criterion': 'gini', 'max_features': 'sqrt'}. Best is trial 16 with value: 0.7814569536423841.\n",
      "[I 2024-12-02 17:27:23,415] Trial 23 finished with value: 0.7687296416938111 and parameters: {'max_depth': 10, 'min_samples_split': 8, 'min_samples_leaf': 1, 'criterion': 'gini', 'max_features': 'sqrt'}. Best is trial 16 with value: 0.7814569536423841.\n",
      "[I 2024-12-02 17:27:23,464] Trial 24 finished with value: 0.657243816254417 and parameters: {'max_depth': 3, 'min_samples_split': 10, 'min_samples_leaf': 2, 'criterion': 'gini', 'max_features': None}. Best is trial 16 with value: 0.7814569536423841.\n",
      "[I 2024-12-02 17:27:23,497] Trial 25 finished with value: 0.7491166077738516 and parameters: {'max_depth': None, 'min_samples_split': 7, 'min_samples_leaf': 1, 'criterion': 'gini', 'max_features': 'sqrt'}. Best is trial 16 with value: 0.7814569536423841.\n",
      "[I 2024-12-02 17:27:23,528] Trial 26 finished with value: 0.7733333333333333 and parameters: {'max_depth': 7, 'min_samples_split': 9, 'min_samples_leaf': 2, 'criterion': 'gini', 'max_features': None}. Best is trial 16 with value: 0.7814569536423841.\n",
      "[I 2024-12-02 17:27:23,552] Trial 27 finished with value: 0.6851211072664359 and parameters: {'max_depth': 7, 'min_samples_split': 8, 'min_samples_leaf': 1, 'criterion': 'gini', 'max_features': 'sqrt'}. Best is trial 16 with value: 0.7814569536423841.\n",
      "[I 2024-12-02 17:27:23,578] Trial 28 finished with value: 0.8197879858657244 and parameters: {'max_depth': None, 'min_samples_split': 5, 'min_samples_leaf': 2, 'criterion': 'entropy', 'max_features': 'sqrt'}. Best is trial 28 with value: 0.8197879858657244.\n",
      "[I 2024-12-02 17:27:23,609] Trial 29 finished with value: 0.6937269372693727 and parameters: {'max_depth': 7, 'min_samples_split': 5, 'min_samples_leaf': 3, 'criterion': 'entropy', 'max_features': None}. Best is trial 28 with value: 0.8197879858657244.\n",
      "[I 2024-12-02 17:27:23,637] Trial 30 finished with value: 0.7794117647058824 and parameters: {'max_depth': 10, 'min_samples_split': 5, 'min_samples_leaf': 1, 'criterion': 'entropy', 'max_features': 'log2'}. Best is trial 28 with value: 0.8197879858657244.\n",
      "[I 2024-12-02 17:27:23,666] Trial 31 finished with value: 0.8206896551724138 and parameters: {'max_depth': None, 'min_samples_split': 6, 'min_samples_leaf': 2, 'criterion': 'entropy', 'max_features': 'sqrt'}. Best is trial 31 with value: 0.8206896551724138.\n",
      "[I 2024-12-02 17:27:23,693] Trial 32 finished with value: 0.8206896551724138 and parameters: {'max_depth': None, 'min_samples_split': 6, 'min_samples_leaf': 3, 'criterion': 'entropy', 'max_features': 'sqrt'}. Best is trial 31 with value: 0.8206896551724138.\n",
      "[I 2024-12-02 17:27:23,720] Trial 33 finished with value: 0.8206896551724138 and parameters: {'max_depth': None, 'min_samples_split': 6, 'min_samples_leaf': 3, 'criterion': 'entropy', 'max_features': 'sqrt'}. Best is trial 31 with value: 0.8206896551724138.\n",
      "[I 2024-12-02 17:27:23,748] Trial 34 finished with value: 0.8206896551724138 and parameters: {'max_depth': None, 'min_samples_split': 6, 'min_samples_leaf': 3, 'criterion': 'entropy', 'max_features': 'sqrt'}. Best is trial 31 with value: 0.8206896551724138.\n",
      "[I 2024-12-02 17:27:23,775] Trial 35 finished with value: 0.8206896551724138 and parameters: {'max_depth': None, 'min_samples_split': 6, 'min_samples_leaf': 3, 'criterion': 'entropy', 'max_features': 'sqrt'}. Best is trial 31 with value: 0.8206896551724138.\n",
      "[I 2024-12-02 17:27:23,803] Trial 36 finished with value: 0.7773851590106007 and parameters: {'max_depth': None, 'min_samples_split': 7, 'min_samples_leaf': 4, 'criterion': 'entropy', 'max_features': 'sqrt'}. Best is trial 31 with value: 0.8206896551724138.\n",
      "[I 2024-12-02 17:27:23,830] Trial 37 finished with value: 0.8206896551724138 and parameters: {'max_depth': None, 'min_samples_split': 4, 'min_samples_leaf': 3, 'criterion': 'entropy', 'max_features': 'sqrt'}. Best is trial 31 with value: 0.8206896551724138.\n",
      "[I 2024-12-02 17:27:23,860] Trial 38 finished with value: 0.7773851590106007 and parameters: {'max_depth': None, 'min_samples_split': 6, 'min_samples_leaf': 4, 'criterion': 'entropy', 'max_features': 'sqrt'}. Best is trial 31 with value: 0.8206896551724138.\n",
      "[I 2024-12-02 17:27:23,886] Trial 39 finished with value: 0.7692307692307693 and parameters: {'max_depth': None, 'min_samples_split': 7, 'min_samples_leaf': 3, 'criterion': 'entropy', 'max_features': 'sqrt'}. Best is trial 31 with value: 0.8206896551724138.\n",
      "[I 2024-12-02 17:27:23,914] Trial 40 finished with value: 0.6794871794871795 and parameters: {'max_depth': 5, 'min_samples_split': 4, 'min_samples_leaf': 4, 'criterion': 'entropy', 'max_features': 'log2'}. Best is trial 31 with value: 0.8206896551724138.\n",
      "[I 2024-12-02 17:27:23,943] Trial 41 finished with value: 0.8206896551724138 and parameters: {'max_depth': None, 'min_samples_split': 6, 'min_samples_leaf': 3, 'criterion': 'entropy', 'max_features': 'sqrt'}. Best is trial 31 with value: 0.8206896551724138.\n",
      "[I 2024-12-02 17:27:23,971] Trial 42 finished with value: 0.8206896551724138 and parameters: {'max_depth': None, 'min_samples_split': 6, 'min_samples_leaf': 3, 'criterion': 'entropy', 'max_features': 'sqrt'}. Best is trial 31 with value: 0.8206896551724138.\n",
      "[I 2024-12-02 17:27:24,000] Trial 43 finished with value: 0.8206896551724138 and parameters: {'max_depth': None, 'min_samples_split': 6, 'min_samples_leaf': 3, 'criterion': 'entropy', 'max_features': 'sqrt'}. Best is trial 31 with value: 0.8206896551724138.\n",
      "[I 2024-12-02 17:27:24,026] Trial 44 finished with value: 0.740484429065744 and parameters: {'max_depth': None, 'min_samples_split': 5, 'min_samples_leaf': 5, 'criterion': 'entropy', 'max_features': 'sqrt'}. Best is trial 31 with value: 0.8206896551724138.\n",
      "[I 2024-12-02 17:27:24,052] Trial 45 finished with value: 0.6343042071197411 and parameters: {'max_depth': 3, 'min_samples_split': 7, 'min_samples_leaf': 4, 'criterion': 'entropy', 'max_features': 'sqrt'}. Best is trial 31 with value: 0.8206896551724138.\n",
      "[I 2024-12-02 17:27:24,083] Trial 46 finished with value: 0.7773851590106007 and parameters: {'max_depth': None, 'min_samples_split': 6, 'min_samples_leaf': 4, 'criterion': 'entropy', 'max_features': 'sqrt'}. Best is trial 31 with value: 0.8206896551724138.\n",
      "[I 2024-12-02 17:27:24,108] Trial 47 finished with value: 0.6794871794871795 and parameters: {'max_depth': 5, 'min_samples_split': 5, 'min_samples_leaf': 3, 'criterion': 'entropy', 'max_features': 'log2'}. Best is trial 31 with value: 0.8206896551724138.\n",
      "[I 2024-12-02 17:27:24,135] Trial 48 finished with value: 0.8206896551724138 and parameters: {'max_depth': None, 'min_samples_split': 6, 'min_samples_leaf': 3, 'criterion': 'entropy', 'max_features': 'sqrt'}. Best is trial 31 with value: 0.8206896551724138.\n",
      "[I 2024-12-02 17:27:24,162] Trial 49 finished with value: 0.7692307692307693 and parameters: {'max_depth': None, 'min_samples_split': 7, 'min_samples_leaf': 3, 'criterion': 'entropy', 'max_features': 'sqrt'}. Best is trial 31 with value: 0.8206896551724138.\n",
      "[I 2024-12-02 17:27:24,189] Trial 50 finished with value: 0.8206896551724138 and parameters: {'max_depth': None, 'min_samples_split': 6, 'min_samples_leaf': 3, 'criterion': 'entropy', 'max_features': 'sqrt'}. Best is trial 31 with value: 0.8206896551724138.\n",
      "[I 2024-12-02 17:27:24,218] Trial 51 finished with value: 0.8206896551724138 and parameters: {'max_depth': None, 'min_samples_split': 3, 'min_samples_leaf': 3, 'criterion': 'entropy', 'max_features': 'sqrt'}. Best is trial 31 with value: 0.8206896551724138.\n",
      "[I 2024-12-02 17:27:24,243] Trial 52 finished with value: 0.8206896551724138 and parameters: {'max_depth': None, 'min_samples_split': 4, 'min_samples_leaf': 3, 'criterion': 'entropy', 'max_features': 'sqrt'}. Best is trial 31 with value: 0.8206896551724138.\n",
      "[I 2024-12-02 17:27:24,268] Trial 53 finished with value: 0.7773851590106007 and parameters: {'max_depth': None, 'min_samples_split': 4, 'min_samples_leaf': 4, 'criterion': 'entropy', 'max_features': 'sqrt'}. Best is trial 31 with value: 0.8206896551724138.\n",
      "[I 2024-12-02 17:27:24,297] Trial 54 finished with value: 0.8206896551724138 and parameters: {'max_depth': None, 'min_samples_split': 3, 'min_samples_leaf': 3, 'criterion': 'entropy', 'max_features': 'sqrt'}. Best is trial 31 with value: 0.8206896551724138.\n",
      "[I 2024-12-02 17:27:24,322] Trial 55 finished with value: 0.8206896551724138 and parameters: {'max_depth': None, 'min_samples_split': 5, 'min_samples_leaf': 3, 'criterion': 'entropy', 'max_features': 'sqrt'}. Best is trial 31 with value: 0.8206896551724138.\n",
      "[I 2024-12-02 17:27:24,347] Trial 56 finished with value: 0.6343042071197411 and parameters: {'max_depth': 3, 'min_samples_split': 2, 'min_samples_leaf': 2, 'criterion': 'entropy', 'max_features': 'sqrt'}. Best is trial 31 with value: 0.8206896551724138.\n",
      "[I 2024-12-02 17:27:24,373] Trial 57 finished with value: 0.7202797202797203 and parameters: {'max_depth': 10, 'min_samples_split': 7, 'min_samples_leaf': 3, 'criterion': 'entropy', 'max_features': 'log2'}. Best is trial 31 with value: 0.8206896551724138.\n",
      "[I 2024-12-02 17:27:24,400] Trial 58 finished with value: 0.7902097902097902 and parameters: {'max_depth': None, 'min_samples_split': 4, 'min_samples_leaf': 2, 'criterion': 'entropy', 'max_features': 'sqrt'}. Best is trial 31 with value: 0.8206896551724138.\n",
      "[I 2024-12-02 17:27:24,425] Trial 59 finished with value: 0.6794871794871795 and parameters: {'max_depth': 5, 'min_samples_split': 6, 'min_samples_leaf': 3, 'criterion': 'entropy', 'max_features': 'sqrt'}. Best is trial 31 with value: 0.8206896551724138.\n",
      "[I 2024-12-02 17:27:24,452] Trial 60 finished with value: 0.7773851590106007 and parameters: {'max_depth': None, 'min_samples_split': 5, 'min_samples_leaf': 4, 'criterion': 'entropy', 'max_features': 'sqrt'}. Best is trial 31 with value: 0.8206896551724138.\n",
      "[I 2024-12-02 17:27:24,477] Trial 61 finished with value: 0.8206896551724138 and parameters: {'max_depth': None, 'min_samples_split': 6, 'min_samples_leaf': 3, 'criterion': 'entropy', 'max_features': 'sqrt'}. Best is trial 31 with value: 0.8206896551724138.\n",
      "[I 2024-12-02 17:27:24,506] Trial 62 finished with value: 0.8206896551724138 and parameters: {'max_depth': None, 'min_samples_split': 6, 'min_samples_leaf': 3, 'criterion': 'entropy', 'max_features': 'sqrt'}. Best is trial 31 with value: 0.8206896551724138.\n",
      "[I 2024-12-02 17:27:24,532] Trial 63 finished with value: 0.7692307692307693 and parameters: {'max_depth': None, 'min_samples_split': 7, 'min_samples_leaf': 3, 'criterion': 'entropy', 'max_features': 'sqrt'}. Best is trial 31 with value: 0.8206896551724138.\n",
      "[I 2024-12-02 17:27:24,560] Trial 64 finished with value: 0.8206896551724138 and parameters: {'max_depth': None, 'min_samples_split': 6, 'min_samples_leaf': 2, 'criterion': 'entropy', 'max_features': 'sqrt'}. Best is trial 31 with value: 0.8206896551724138.\n",
      "[I 2024-12-02 17:27:24,587] Trial 65 finished with value: 0.8206896551724138 and parameters: {'max_depth': None, 'min_samples_split': 5, 'min_samples_leaf': 3, 'criterion': 'entropy', 'max_features': 'sqrt'}. Best is trial 31 with value: 0.8206896551724138.\n",
      "[I 2024-12-02 17:27:24,612] Trial 66 finished with value: 0.7692307692307693 and parameters: {'max_depth': None, 'min_samples_split': 7, 'min_samples_leaf': 3, 'criterion': 'entropy', 'max_features': 'sqrt'}. Best is trial 31 with value: 0.8206896551724138.\n",
      "[I 2024-12-02 17:27:24,641] Trial 67 finished with value: 0.7622377622377622 and parameters: {'max_depth': 10, 'min_samples_split': 6, 'min_samples_leaf': 2, 'criterion': 'entropy', 'max_features': 'sqrt'}. Best is trial 31 with value: 0.8206896551724138.\n",
      "[I 2024-12-02 17:27:24,667] Trial 68 finished with value: 0.6343042071197411 and parameters: {'max_depth': 3, 'min_samples_split': 5, 'min_samples_leaf': 3, 'criterion': 'entropy', 'max_features': 'sqrt'}. Best is trial 31 with value: 0.8206896551724138.\n",
      "[I 2024-12-02 17:27:24,695] Trial 69 finished with value: 0.7773851590106007 and parameters: {'max_depth': None, 'min_samples_split': 3, 'min_samples_leaf': 4, 'criterion': 'entropy', 'max_features': 'log2'}. Best is trial 31 with value: 0.8206896551724138.\n",
      "[I 2024-12-02 17:27:24,744] Trial 70 finished with value: 0.8206896551724138 and parameters: {'max_depth': None, 'min_samples_split': 6, 'min_samples_leaf': 2, 'criterion': 'entropy', 'max_features': 'sqrt'}. Best is trial 31 with value: 0.8206896551724138.\n",
      "[I 2024-12-02 17:27:24,774] Trial 71 finished with value: 0.8206896551724138 and parameters: {'max_depth': None, 'min_samples_split': 6, 'min_samples_leaf': 3, 'criterion': 'entropy', 'max_features': 'sqrt'}. Best is trial 31 with value: 0.8206896551724138.\n",
      "[I 2024-12-02 17:27:24,800] Trial 72 finished with value: 0.8206896551724138 and parameters: {'max_depth': None, 'min_samples_split': 6, 'min_samples_leaf': 3, 'criterion': 'entropy', 'max_features': 'sqrt'}. Best is trial 31 with value: 0.8206896551724138.\n",
      "[I 2024-12-02 17:27:24,828] Trial 73 finished with value: 0.7692307692307693 and parameters: {'max_depth': None, 'min_samples_split': 7, 'min_samples_leaf': 3, 'criterion': 'entropy', 'max_features': 'sqrt'}. Best is trial 31 with value: 0.8206896551724138.\n",
      "[I 2024-12-02 17:27:24,854] Trial 74 finished with value: 0.7692307692307693 and parameters: {'max_depth': None, 'min_samples_split': 7, 'min_samples_leaf': 3, 'criterion': 'entropy', 'max_features': 'sqrt'}. Best is trial 31 with value: 0.8206896551724138.\n",
      "[I 2024-12-02 17:27:24,881] Trial 75 finished with value: 0.8206896551724138 and parameters: {'max_depth': None, 'min_samples_split': 5, 'min_samples_leaf': 3, 'criterion': 'entropy', 'max_features': 'sqrt'}. Best is trial 31 with value: 0.8206896551724138.\n",
      "[I 2024-12-02 17:27:24,911] Trial 76 finished with value: 0.6813186813186813 and parameters: {'max_depth': 5, 'min_samples_split': 6, 'min_samples_leaf': 3, 'criterion': 'entropy', 'max_features': None}. Best is trial 31 with value: 0.8206896551724138.\n",
      "[I 2024-12-02 17:27:24,938] Trial 77 finished with value: 0.7773851590106007 and parameters: {'max_depth': None, 'min_samples_split': 6, 'min_samples_leaf': 4, 'criterion': 'entropy', 'max_features': 'sqrt'}. Best is trial 31 with value: 0.8206896551724138.\n",
      "[I 2024-12-02 17:27:24,965] Trial 78 finished with value: 0.740484429065744 and parameters: {'max_depth': None, 'min_samples_split': 6, 'min_samples_leaf': 5, 'criterion': 'entropy', 'max_features': 'sqrt'}. Best is trial 31 with value: 0.8206896551724138.\n",
      "[I 2024-12-02 17:27:24,993] Trial 79 finished with value: 0.7889273356401384 and parameters: {'max_depth': None, 'min_samples_split': 7, 'min_samples_leaf': 2, 'criterion': 'entropy', 'max_features': 'sqrt'}. Best is trial 31 with value: 0.8206896551724138.\n",
      "[I 2024-12-02 17:27:25,019] Trial 80 finished with value: 0.7432950191570882 and parameters: {'max_depth': 10, 'min_samples_split': 5, 'min_samples_leaf': 3, 'criterion': 'entropy', 'max_features': 'sqrt'}. Best is trial 31 with value: 0.8206896551724138.\n",
      "[I 2024-12-02 17:27:25,046] Trial 81 finished with value: 0.8206896551724138 and parameters: {'max_depth': None, 'min_samples_split': 6, 'min_samples_leaf': 3, 'criterion': 'entropy', 'max_features': 'sqrt'}. Best is trial 31 with value: 0.8206896551724138.\n",
      "[I 2024-12-02 17:27:25,077] Trial 82 finished with value: 0.8206896551724138 and parameters: {'max_depth': None, 'min_samples_split': 6, 'min_samples_leaf': 3, 'criterion': 'entropy', 'max_features': 'sqrt'}. Best is trial 31 with value: 0.8206896551724138.\n",
      "[I 2024-12-02 17:27:25,106] Trial 83 finished with value: 0.8206896551724138 and parameters: {'max_depth': None, 'min_samples_split': 6, 'min_samples_leaf': 3, 'criterion': 'entropy', 'max_features': 'sqrt'}. Best is trial 31 with value: 0.8206896551724138.\n",
      "[I 2024-12-02 17:27:25,134] Trial 84 finished with value: 0.8206896551724138 and parameters: {'max_depth': None, 'min_samples_split': 5, 'min_samples_leaf': 3, 'criterion': 'entropy', 'max_features': 'sqrt'}. Best is trial 31 with value: 0.8206896551724138.\n",
      "[I 2024-12-02 17:27:25,162] Trial 85 finished with value: 0.8206896551724138 and parameters: {'max_depth': None, 'min_samples_split': 6, 'min_samples_leaf': 3, 'criterion': 'entropy', 'max_features': 'sqrt'}. Best is trial 31 with value: 0.8206896551724138.\n",
      "[I 2024-12-02 17:27:25,189] Trial 86 finished with value: 0.6343042071197411 and parameters: {'max_depth': 3, 'min_samples_split': 7, 'min_samples_leaf': 3, 'criterion': 'entropy', 'max_features': 'log2'}. Best is trial 31 with value: 0.8206896551724138.\n",
      "[I 2024-12-02 17:27:25,216] Trial 87 finished with value: 0.7781818181818182 and parameters: {'max_depth': None, 'min_samples_split': 5, 'min_samples_leaf': 3, 'criterion': 'gini', 'max_features': 'sqrt'}. Best is trial 31 with value: 0.8206896551724138.\n",
      "[I 2024-12-02 17:27:25,252] Trial 88 finished with value: 0.825503355704698 and parameters: {'max_depth': None, 'min_samples_split': 6, 'min_samples_leaf': 3, 'criterion': 'entropy', 'max_features': None}. Best is trial 88 with value: 0.825503355704698.\n",
      "[I 2024-12-02 17:27:25,291] Trial 89 finished with value: 0.8278145695364238 and parameters: {'max_depth': None, 'min_samples_split': 7, 'min_samples_leaf': 3, 'criterion': 'entropy', 'max_features': None}. Best is trial 89 with value: 0.8278145695364238.\n",
      "[I 2024-12-02 17:27:25,332] Trial 90 finished with value: 0.8278145695364238 and parameters: {'max_depth': None, 'min_samples_split': 7, 'min_samples_leaf': 3, 'criterion': 'entropy', 'max_features': None}. Best is trial 89 with value: 0.8278145695364238.\n",
      "[I 2024-12-02 17:27:25,374] Trial 91 finished with value: 0.8206896551724138 and parameters: {'max_depth': None, 'min_samples_split': 8, 'min_samples_leaf': 3, 'criterion': 'entropy', 'max_features': None}. Best is trial 89 with value: 0.8278145695364238.\n",
      "[I 2024-12-02 17:27:25,417] Trial 92 finished with value: 0.8278145695364238 and parameters: {'max_depth': None, 'min_samples_split': 7, 'min_samples_leaf': 3, 'criterion': 'entropy', 'max_features': None}. Best is trial 89 with value: 0.8278145695364238.\n",
      "[I 2024-12-02 17:27:25,458] Trial 93 finished with value: 0.8278145695364238 and parameters: {'max_depth': None, 'min_samples_split': 7, 'min_samples_leaf': 3, 'criterion': 'entropy', 'max_features': None}. Best is trial 89 with value: 0.8278145695364238.\n",
      "[I 2024-12-02 17:27:25,497] Trial 94 finished with value: 0.8278145695364238 and parameters: {'max_depth': None, 'min_samples_split': 7, 'min_samples_leaf': 3, 'criterion': 'entropy', 'max_features': None}. Best is trial 89 with value: 0.8278145695364238.\n",
      "[I 2024-12-02 17:27:25,537] Trial 95 finished with value: 0.8206896551724138 and parameters: {'max_depth': None, 'min_samples_split': 8, 'min_samples_leaf': 3, 'criterion': 'entropy', 'max_features': None}. Best is trial 89 with value: 0.8278145695364238.\n",
      "[I 2024-12-02 17:27:25,573] Trial 96 finished with value: 0.7121212121212122 and parameters: {'max_depth': 7, 'min_samples_split': 7, 'min_samples_leaf': 3, 'criterion': 'entropy', 'max_features': None}. Best is trial 89 with value: 0.8278145695364238.\n",
      "[I 2024-12-02 17:27:25,610] Trial 97 finished with value: 0.6813186813186813 and parameters: {'max_depth': 5, 'min_samples_split': 7, 'min_samples_leaf': 2, 'criterion': 'entropy', 'max_features': None}. Best is trial 89 with value: 0.8278145695364238.\n",
      "[I 2024-12-02 17:27:25,650] Trial 98 finished with value: 0.7986111111111112 and parameters: {'max_depth': None, 'min_samples_split': 8, 'min_samples_leaf': 3, 'criterion': 'gini', 'max_features': None}. Best is trial 89 with value: 0.8278145695364238.\n",
      "[I 2024-12-02 17:27:25,686] Trial 99 finished with value: 0.8042704626334519 and parameters: {'max_depth': None, 'min_samples_split': 7, 'min_samples_leaf': 4, 'criterion': 'entropy', 'max_features': None}. Best is trial 89 with value: 0.8278145695364238.\n"
     ]
    },
    {
     "name": "stdout",
     "output_type": "stream",
     "text": [
      "Optuna Best Hyperparameters: {'max_depth': None, 'min_samples_split': 7, 'min_samples_leaf': 3, 'criterion': 'entropy', 'max_features': None}\n",
      "F1 Score: 0.8278145695364238\n",
      "Optuna Training Time: 2.81 seconds\n",
      "\n"
     ]
    }
   ],
   "source": [
    "# 3. **Optuna**\n",
    "print(\"Starting Optuna...\\n\")\n",
    "\n",
    "# Define the Optuna objective function\n",
    "def objective(trial):\n",
    "    # Define hyperparameters to tune\n",
    "    max_depth = trial.suggest_categorical('max_depth', [3, 5, 7, 10, None])\n",
    "    min_samples_split = trial.suggest_int('min_samples_split', 2, 10)\n",
    "    min_samples_leaf = trial.suggest_int('min_samples_leaf', 1, 5)\n",
    "    criterion = trial.suggest_categorical('criterion', ['gini', 'entropy'])\n",
    "    max_features = trial.suggest_categorical('max_features', [None, 'sqrt', 'log2'])\n",
    "\n",
    "    # Define the model with the current hyperparameters\n",
    "    model = Pipeline(steps=[('preprocessor', preprocessor),\n",
    "                            ('classifier', DecisionTreeClassifier(\n",
    "                                max_depth=max_depth,\n",
    "                                min_samples_split=min_samples_split,\n",
    "                                min_samples_leaf=min_samples_leaf,\n",
    "                                criterion=criterion,\n",
    "                                max_features=max_features,\n",
    "                                random_state=100545358))])\n",
    "    \n",
    "    # Train the model\n",
    "    model.fit(X_train, y_train_encoded)\n",
    "    \n",
    "    # Predict and calculate accuracy\n",
    "    y_pred = model.predict(X_test)\n",
    "    accuracy = f1_score(y_test_encoded, y_pred)\n",
    "    \n",
    "    return accuracy\n",
    "\n",
    "# Create and optimize the Optuna study\n",
    "start = time.time()\n",
    "study = optuna.create_study(direction='maximize')\n",
    "study.optimize(objective, n_trials=100)\n",
    "optuna_time = time.time() - start\n",
    "\n",
    "print(f\"Optuna Best Hyperparameters: {study.best_params}\")\n",
    "best_model = Pipeline(steps=[('preprocessor', preprocessor),\n",
    "                              ('classifier', DecisionTreeClassifier(\n",
    "                                  **study.best_params,\n",
    "                                  random_state=100545358))])\n",
    "\n",
    "best_model.fit(X_train, y_train_encoded)\n",
    "y_pred = best_model.predict(X_test)\n",
    "print(f\"F1 Score: {f1_score(y_test_encoded, y_pred)}\")\n",
    "print(f\"Optuna Training Time: {optuna_time:.2f} seconds\\n\")\n",
    "\n"
   ]
  },
  {
   "cell_type": "markdown",
   "metadata": {},
   "source": [
    "The best performing Hyperparameter Optimization was Grid Search in both cases (it was equal to RandomizedSearchCV in Case 1: Decision Trees Classifier). \n",
    "\n",
    "Since it is exhaustive, it makes sense that it will be strongest (all combinations of hyperparameters can be examined)\n",
    "\n",
    "## Part 4: Use Grid Search for advanced methods."
   ]
  },
  {
   "cell_type": "markdown",
   "metadata": {},
   "source": [
    "1. SVM - support vector machine"
   ]
  },
  {
   "cell_type": "code",
   "execution_count": 31,
   "metadata": {},
   "outputs": [
    {
     "name": "stdout",
     "output_type": "stream",
     "text": [
      "Best score for SVM: 0.770764119601329\n"
     ]
    }
   ],
   "source": [
    "svm = Pipeline(steps=[\n",
    "    ('preprocessor', preprocessor),  # Scale the features\n",
    "    ('classifier', SVC(random_state=100545358))  # Support Vector Machine classifier\n",
    "])\n",
    "\n",
    "# Fit the model on the training data\n",
    "svm.fit(X_train, y_train_encoded)\n",
    "\n",
    "# Predict on the test set\n",
    "y_pred = svm.predict(X_test)\n",
    "\n",
    "# Convert numeric predictions to string labels\n",
    "y_pred_str = ['No' if label == 0 else 'Yes' for label in y_pred]\n",
    "\n",
    "# Compute the F1 score\n",
    "print(\"Best score for SVM:\", f1_score(y_test, y_pred_str, pos_label='Yes'))"
   ]
  },
  {
   "cell_type": "code",
   "execution_count": 32,
   "metadata": {},
   "outputs": [
    {
     "name": "stdout",
     "output_type": "stream",
     "text": [
      "Fitting 5 folds for each of 12 candidates, totalling 60 fits\n",
      "Best hyperparameters for SVM: {'classifier__C': 10, 'classifier__gamma': 'scale', 'classifier__kernel': 'rbf'}\n",
      "Best score for SVM: 0.7842105263157895\n"
     ]
    }
   ],
   "source": [
    "# SVM with hyper-parameters\n",
    "param_grid_svm = {\n",
    "    'classifier__C': [0.1, 1, 10],  # Regularization parameter, regarding the tolerance for misclassification\n",
    "    'classifier__kernel': ['linear', 'rbf'],  # Kernel type to use\n",
    "    'classifier__gamma': ['scale', 'auto'],  # Kernel coefficient for 'rbf', treating non-linear classifiable data (like the data in this problem)\n",
    "}\n",
    "\n",
    "svm_model = Pipeline(steps=[\n",
    "    ('preprocessor', preprocessor),  # Scale the features\n",
    "    ('classifier', SVC(random_state=100545358))  # Support Vector Machine classifier\n",
    "])\n",
    "\n",
    "# GridSearch for SVM\n",
    "grid_search_svm = GridSearchCV(estimator=svm_model, param_grid=param_grid_svm, cv=5, n_jobs=-1, verbose=1)\n",
    "# again, using 5-fold cross validation\n",
    "grid_search_svm.fit(X_train, y_train_encoded)\n",
    "\n",
    "# It says there are \"12 candidates\" because there are 2 x 2 x 3 = 12 possible combinations of hyperparameters\n",
    "\n",
    "print(\"Best hyperparameters for SVM:\", grid_search_svm.best_params_)\n",
    "print(\"Best score for SVM:\", grid_search_svm.best_score_)"
   ]
  },
  {
   "cell_type": "markdown",
   "metadata": {},
   "source": [
    "SVM is poorly performing here (score = 0.7842105263157895).\n",
    "\n",
    "One reason might be because SVMs will work best with larger datasets where there is enough data for the model to learn a meaningful decision boundary. \n",
    "\n",
    "Here, we have a suggestion of classifier__C = 10 (very high choice, focusing on fitting the training data well), but with a small dataset as we have, it is likely overfitting (too sensitive to the 20% training data)"
   ]
  },
  {
   "cell_type": "markdown",
   "metadata": {},
   "source": [
    "2. Random Forest with Default Hyperparameters"
   ]
  },
  {
   "cell_type": "code",
   "execution_count": 33,
   "metadata": {},
   "outputs": [
    {
     "name": "stdout",
     "output_type": "stream",
     "text": [
      "Random Forest with deafult 0.9209621993127147\n"
     ]
    }
   ],
   "source": [
    "rfc = Pipeline(steps=[\n",
    "    ('preprocessor', preprocessor),  \n",
    "    ('classifier', RandomForestClassifier(random_state=100545358))  \n",
    "])\n",
    "rfc.fit(X_train,y_train_encoded)\n",
    "y_pred = rfc.predict(X_test)\n",
    "y_pred_str = ['No' if label == 0 else 'Yes' for label in y_pred]\n",
    "\n",
    "# Compute the F1 score\n",
    "print('Random Forest with deafult',f1_score(y_test,y_pred_str,pos_label='Yes'))"
   ]
  },
  {
   "cell_type": "code",
   "execution_count": 34,
   "metadata": {},
   "outputs": [
    {
     "name": "stdout",
     "output_type": "stream",
     "text": [
      "Fitting 5 folds for each of 288 candidates, totalling 1440 fits\n",
      "Best hyperparameters for Random Forest: {'classifier__criterion': 'entropy', 'classifier__max_depth': 20, 'classifier__max_features': 'sqrt', 'classifier__min_samples_leaf': 1, 'classifier__min_samples_split': 2, 'classifier__n_estimators': 200}\n",
      "Best score for Random Forest: 0.881578947368421\n"
     ]
    }
   ],
   "source": [
    "param_grid_rf = {\n",
    "    'classifier__n_estimators': [100, 200],  # Number of trees in the forest\n",
    "    'classifier__max_depth': [10, 20, 30, None],  # Maximum depth of the tree\n",
    "    'classifier__min_samples_split': [2, 5, 10],  # Minimum number of samples required to split an internal node\n",
    "    'classifier__min_samples_leaf': [1, 2, 4],  # Minimum number of samples required to be at a leaf node\n",
    "    'classifier__max_features': ['sqrt', 'log2'],  # Number of features to consider for the best split\n",
    "    'classifier__criterion': ['gini', 'entropy'],  # Function to measure the quality of a split\n",
    "}\n",
    "rf_model = Pipeline(steps=[\n",
    "    ('preprocessor',preprocessor),\n",
    "    ('classifier', RandomForestClassifier(random_state=100545358))  # Random Forest classifier\n",
    "])\n",
    "\n",
    "# Random Forests have more hyperparameters, so GridSearch will take some time\n",
    "# For every prediction, RandomForest is a majority vote of the trees in the forest\n",
    "\n",
    "# GridSearch for Random Forest\n",
    "grid_search_rf = GridSearchCV(estimator=rf_model, param_grid=param_grid_rf, cv=5, n_jobs=-1, verbose=1)\n",
    "grid_search_rf.fit(X_train, y_train_encoded)\n",
    "\n",
    "print(\"Best hyperparameters for Random Forest:\", grid_search_rf.best_params_)\n",
    "print(\"Best score for Random Forest:\", grid_search_rf.best_score_)"
   ]
  },
  {
   "cell_type": "markdown",
   "metadata": {},
   "source": [
    "This is a strong score for a Random Forest model\n",
    "\n",
    "The suggestions from the Hyperparameter Tuning provide flexibility in the model \n",
    "\n",
    "classifier__min_samples_leaf: 1 (each leaf node must have at least one sample, which is the smallest possible and means the tree can be quite vast)\n",
    "\n",
    "classifier__min_samples_split: 2 - even nodes with only two samples can be split further, which means the model can learn from small details; therefore, flexibility added"
   ]
  },
  {
   "cell_type": "markdown",
   "metadata": {},
   "source": [
    "3. Gradient Boosting\n",
    "\n",
    "Chosen because it is a good balance for performance and ease of use\n",
    "\n",
    "lightgbm, xgboost, catboost are all optimized for speed and scale, so they are better for large datasets and have many advanced options.\n",
    "\n",
    "They are also faster, but since our dataset is moderately sized, the computation time difference is trivial\n",
    "\n",
    "Finally, histgradientboosting requires slightly more complex setup"
   ]
  },
  {
   "cell_type": "code",
   "execution_count": 35,
   "metadata": {},
   "outputs": [
    {
     "name": "stdout",
     "output_type": "stream",
     "text": [
      "Fitting 5 folds for each of 64 candidates, totalling 320 fits\n",
      "Best hyperparameters for Gradient Boosting: {'classifier__learning_rate': 0.1, 'classifier__max_depth': 5, 'classifier__min_samples_leaf': 1, 'classifier__min_samples_split': 5, 'classifier__n_estimators': 200, 'classifier__subsample': 0.8}\n",
      "F1 Score: 0.9319727891156463\n"
     ]
    }
   ],
   "source": [
    "gb_model = Pipeline(steps=[\n",
    "    ('preprocessor', preprocessor),  # Scale the features (optional but often useful)\n",
    "    ('classifier', GradientBoostingClassifier(random_state=100545358))  # GradientBoostingClassifier\n",
    "])\n",
    "\n",
    "# Define the parameter grid for Gradient Boosting\n",
    "param_grid_gb = {\n",
    "    'classifier__n_estimators': [100, 200],  # Number of boosting rounds (trees)\n",
    "    'classifier__learning_rate': [0.05, 0.1],  # Learning rate\n",
    "    'classifier__max_depth': [3, 5],  # Maximum depth of trees\n",
    "    'classifier__min_samples_split': [2, 5],  # Minimum number of samples required to split a node\n",
    "    'classifier__min_samples_leaf': [1, 2],  # Minimum number of samples required to be at a leaf node\n",
    "    'classifier__subsample': [0.8, 1.0],  # Fraction of samples used for fitting each base learner\n",
    "}\n",
    "\n",
    "\n",
    "# Perform GridSearchCV\n",
    "grid_search_gb = GridSearchCV(estimator=gb_model, param_grid=param_grid_gb, cv=5, n_jobs=-1, verbose=1)\n",
    "grid_search_gb.fit(X_train, y_train_encoded)\n",
    "\n",
    "# Print the best hyperparameters and best score\n",
    "print(\"Best hyperparameters for Gradient Boosting:\", grid_search_gb.best_params_)\n",
    "\n",
    "# Get the best model and evaluate its performance\n",
    "best_gb_model = grid_search_gb.best_estimator_\n",
    "y_pred = best_gb_model.predict(X_test)\n",
    "print(f\"F1 Score: {f1_score(y_test_encoded, y_pred)}\")"
   ]
  },
  {
   "cell_type": "markdown",
   "metadata": {},
   "source": [
    "This is the best method as it has the highest F1-score (accuracy)\n",
    "\n",
    "The optimized hyperparameters create shallow trees (max depth of the tree is 5, and the minimum number of splits is also 5). Also, the maximum number of trees is 200, which is a good number (too many trees would cause overfitting)"
   ]
  },
  {
   "cell_type": "markdown",
   "metadata": {},
   "source": [
    "## Part 5: Results and Final Model"
   ]
  },
  {
   "cell_type": "markdown",
   "metadata": {},
   "source": [
    "The best method is gradient boosting which has an accuracy that exceeds simple KNN/Decision Trees. \n",
    "\n",
    "Gradient boosting takes the best of the decision trees model and guides it to the correct results with the application of the loss function.\n",
    "\n"
   ]
  },
  {
   "cell_type": "code",
   "execution_count": 36,
   "metadata": {},
   "outputs": [
    {
     "name": "stdout",
     "output_type": "stream",
     "text": [
      "   n_estimators  learning_rate  max_depth  min_samples_split  \\\n",
      "0           200           0.10          5                  5   \n",
      "1           200           0.10          5                  5   \n",
      "2           200           0.10          5                  2   \n",
      "3           200           0.10          5                  2   \n",
      "4           200           0.10          5                  2   \n",
      "5           200           0.10          5                  5   \n",
      "6           200           0.10          5                  2   \n",
      "7           200           0.05          5                  5   \n",
      "8           200           0.10          5                  5   \n",
      "9           100           0.10          5                  5   \n",
      "\n",
      "   min_samples_leaf  subsample  mean_test_score  std_test_score  lower_ci  \\\n",
      "0                 1        0.8         0.874561        0.022122  0.855171   \n",
      "1                 2        0.8         0.873684        0.025933  0.850953   \n",
      "2                 1        0.8         0.871053        0.022467  0.851359   \n",
      "3                 2        1.0         0.868421        0.026607  0.845099   \n",
      "4                 2        0.8         0.867544        0.021736  0.848491   \n",
      "5                 1        1.0         0.866667        0.018316  0.850612   \n",
      "6                 1        1.0         0.865789        0.015838  0.851907   \n",
      "7                 2        0.8         0.864035        0.030764  0.837069   \n",
      "8                 2        1.0         0.862281        0.019338  0.845330   \n",
      "9                 1        0.8         0.859649        0.025574  0.837232   \n",
      "\n",
      "   upper_ci  \n",
      "0  0.893952  \n",
      "1  0.896415  \n",
      "2  0.890746  \n",
      "3  0.891743  \n",
      "4  0.886596  \n",
      "5  0.882722  \n",
      "6  0.879672  \n",
      "7  0.891001  \n",
      "8  0.879231  \n",
      "9  0.882066  \n",
      "F1 Score for Best Gradient Boosting Model: 0.9319727891156463\n"
     ]
    }
   ],
   "source": [
    "# Get the results of grid search, and report some metrics\n",
    "\n",
    "# For each hyperparameter combination, we can report the mean accuracy and standard deviation over the 5 folds\n",
    "\n",
    "results = pd.DataFrame(grid_search_gb.cv_results_)\n",
    "\n",
    "# Get the hyperparameters and accuracy columns\n",
    "cols = ['param_classifier__n_estimators', 'param_classifier__learning_rate', 'param_classifier__max_depth', 'param_classifier__min_samples_split', 'param_classifier__min_samples_leaf', 'param_classifier__subsample', 'mean_test_score', 'std_test_score']\n",
    "\n",
    "# Sort the results by mean_test_score\n",
    "results = results[cols].sort_values(by='mean_test_score', ascending=False)\n",
    "\n",
    "# reset index\n",
    "results.reset_index(drop=True, inplace=True)\n",
    "\n",
    "# Add the 95% confidence intervals for the mean test score\n",
    "# z-score for 95% confidence interval = 1.96\n",
    "# divide by sqrt(5) because we have 5 folds\n",
    "\n",
    "results['lower_ci'] = results['mean_test_score'] - 1.96 * results['std_test_score'] / np.sqrt(5)\n",
    "\n",
    "results['upper_ci'] = results['mean_test_score'] + 1.96 * results['std_test_score'] / np.sqrt(5)\n",
    "\n",
    "# Change names for better readability\n",
    "\n",
    "results.columns = ['n_estimators', 'learning_rate', 'max_depth', 'min_samples_split', 'min_samples_leaf', 'subsample', 'mean_test_score', 'std_test_score', 'lower_ci', 'upper_ci']\n",
    "\n",
    "# to make some conclusions, print the top results\n",
    "\n",
    "print(results.head(10))\n",
    "\n",
    "print(f\"F1 Score for Best Gradient Boosting Model: {f1_score(y_test_encoded, y_pred)}\")\n",
    "\n",
    "\n",
    "\n"
   ]
  },
  {
   "cell_type": "markdown",
   "metadata": {},
   "source": [
    "Conclusions from analyzing the results of the Gradient Boosting Model:\n",
    "\n",
    "1. Large number of trees is best \n",
    "\n",
    "2. A learning rate of 0.10 is optimal, which is moderate compared to a smaller value like 0.05, so the results are converging efficiently without overfitting, and a smaller number of iterations (learners) are needed\n",
    "\n",
    "3. Only a max tree depth of 5 is appropriate, any smaller and the performance is hindered because the complexity of the data is not appropriately captured.\n",
    "\n",
    "4. The values for min_samples_split (either 2 or 5) do not show any drastic difference in performance. So, the maximum tree depth is the more valuable hyperparameter.\n",
    "\n",
    "5. In the top three cases, the value of 0.8 for the subsample size is optimal, so using a subset of the data for each boosting round is better for performance.\n",
    "\n",
    "About the confidence interval:\n",
    "\n",
    "1. The best configuration of hyperparameters shows a mean test score of 0.874561 and a tight 95% confidence interval of [0.855171, 0.893952]. This narrow bound means the performance is both consistent and strong.\n",
    "\n",
    "2. The mean test scores are all above 0.85 in the top 10 hyperparameter configurations. This suggests even choosing a slightly inferior configuration (which might be obtained if we were not using Grid Search) would not damage the performance of the model significantly\n"
   ]
  },
  {
   "cell_type": "markdown",
   "metadata": {},
   "source": [
    "Making predictions on the competition_data using the gradient boosting model"
   ]
  },
  {
   "cell_type": "code",
   "execution_count": null,
   "metadata": {},
   "outputs": [
    {
     "data": {
      "text/plain": [
       "['final_model_14.pkl']"
      ]
     },
     "execution_count": 41,
     "metadata": {},
     "output_type": "execute_result"
    }
   ],
   "source": [
    "# y (the target variable) will be generated by the model (best_gb)\n",
    "X_competition = competition_data\n",
    "# training data is already encoded from before\n",
    "\n",
    "# Fit the best Gradient Boosting model\n",
    "best_gb_model.fit(X_train, y_train_encoded)\n",
    "\n",
    "# Predict the target values\n",
    "y_pred = best_gb_model.predict(X_competition)\n",
    "\n",
    "# Decode the target variable, change numerical to categorical (Yes/No)\n",
    "y_pred = label_encoder.inverse_transform(y_pred)\n",
    "\n",
    "# Save the predictions to a CSV file\n",
    "y_pred = pd.DataFrame(y_pred, columns=['Attrition'])\n",
    "y_pred.to_csv(\"attrition_predictions_14.csv\", index=False)\n",
    "\n",
    "# Save the best Gradient Boosting model\n",
    "joblib.dump(best_gb_model, \"final_model_14.pkl\")"
   ]
  }
 ],
 "metadata": {
  "kernelspec": {
   "display_name": "Python 3",
   "language": "python",
   "name": "python3"
  },
  "language_info": {
   "codemirror_mode": {
    "name": "ipython",
    "version": 3
   },
   "file_extension": ".py",
   "mimetype": "text/x-python",
   "name": "python",
   "nbconvert_exporter": "python",
   "pygments_lexer": "ipython3",
   "version": "3.12.2"
  }
 },
 "nbformat": 4,
 "nbformat_minor": 2
}
