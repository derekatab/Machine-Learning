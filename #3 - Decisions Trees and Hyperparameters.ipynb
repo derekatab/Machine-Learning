{
 "cells": [
  {
   "cell_type": "markdown",
   "metadata": {
    "id": "IDVDTEO02fqh"
   },
   "source": [
    "![LogoUC3M](https://login.uc3m.es/imgs/uc3m.png)\n",
    "\n",
    "# Machine Learning · Bachelor in Management and Technology\n",
    "# Tutorial 2: Hyperparameter optimization\n",
    "\n",
    "Hyperparameter optimization is an essential step in machine learning that can significantly impact the performance of your model. In this notebook, we will explore various techniques for optimizing hyperparameters and learn how to use them in practice. We will cover both manual and automated methods for hyperparameter tuning, including grid search, random search, and Optuna optimization (via an external integrated package to Scikit-Learn). We will also discuss the advantages and limitations of each method and provide practical examples to help you get started with hyperparameter optimization. By the end of this notebook, you will have a solid understanding of hyperparameter optimization and the tools necessary to fine-tune your machine learning models for optimal performance.\n",
    "\n",
    "One important aspect of hyperparameter optimization is the evaluation of different hyperparameter configurations. To do this, we typically use a validation set to estimate the performance of each configuration. However, selecting the best hyperparameters based on a single validation set can lead to **overfitting**. To avoid this problem, we can use different methods like leave one out or nested cross-validation. These techniques allows us to estimate the performance of each hyperparameter configuration on unseen data and avoid overfitting.\n"
   ]
  },
  {
   "cell_type": "markdown",
   "metadata": {
    "id": "RjO0ZHCkZp30"
   },
   "source": [
    "# DECISION TREE HYPER-PARAMETERS. TUNING DECISION TREES"
   ]
  },
  {
   "cell_type": "markdown",
   "metadata": {
    "id": "k_5O3DQkZp31"
   },
   "source": [
    "\n",
    "\n",
    "- **max_depth : int or None, optional (default=None)**\n",
    "    The maximum depth of the tree. If None, then nodes are expanded until all leaves are pure or until all leaves contain less than min_samples_split samples. Ignored if max_leaf_nodes is not None.\n",
    "    \n",
    "- **min_samples_split : int, optional (default=2)**\n",
    "    The minimum number of samples required to split an internal node.\n",
    "\n",
    "- There are more hyper-parameters:\n",
    "  - https://scikit-learn.org/stable/modules/generated/sklearn.tree.DecisionTreeRegressor.html\n",
    "  - https://scikit-learn.org/stable/modules/generated/sklearn.tree.DecisionTreeClassifier.html\n",
    "\n"
   ]
  },
  {
   "cell_type": "markdown",
   "metadata": {
    "id": "5tfYm7QAZp32"
   },
   "source": [
    "First, data is loaded, inputs go to X, outputs to y."
   ]
  },
  {
   "cell_type": "code",
   "execution_count": 1,
   "metadata": {
    "colab": {
     "base_uri": "https://localhost:8080/",
     "height": 423
    },
    "id": "sJD421uMZp33",
    "outputId": "2a232cba-297b-4f69-c717-f45ae46a85e0"
   },
   "outputs": [
    {
     "data": {
      "text/html": [
       "<div>\n",
       "<style scoped>\n",
       "    .dataframe tbody tr th:only-of-type {\n",
       "        vertical-align: middle;\n",
       "    }\n",
       "\n",
       "    .dataframe tbody tr th {\n",
       "        vertical-align: top;\n",
       "    }\n",
       "\n",
       "    .dataframe thead th {\n",
       "        text-align: right;\n",
       "    }\n",
       "</style>\n",
       "<table border=\"1\" class=\"dataframe\">\n",
       "  <thead>\n",
       "    <tr style=\"text-align: right;\">\n",
       "      <th></th>\n",
       "      <th>MedInc</th>\n",
       "      <th>HouseAge</th>\n",
       "      <th>AveRooms</th>\n",
       "      <th>AveBedrms</th>\n",
       "      <th>Population</th>\n",
       "      <th>AveOccup</th>\n",
       "      <th>Latitude</th>\n",
       "      <th>Longitude</th>\n",
       "      <th>MedHouseVal</th>\n",
       "    </tr>\n",
       "  </thead>\n",
       "  <tbody>\n",
       "    <tr>\n",
       "      <th>0</th>\n",
       "      <td>8.3252</td>\n",
       "      <td>41.0</td>\n",
       "      <td>6.984127</td>\n",
       "      <td>1.023810</td>\n",
       "      <td>322.0</td>\n",
       "      <td>2.555556</td>\n",
       "      <td>37.88</td>\n",
       "      <td>-122.23</td>\n",
       "      <td>4.526</td>\n",
       "    </tr>\n",
       "    <tr>\n",
       "      <th>1</th>\n",
       "      <td>8.3014</td>\n",
       "      <td>21.0</td>\n",
       "      <td>6.238137</td>\n",
       "      <td>0.971880</td>\n",
       "      <td>2401.0</td>\n",
       "      <td>2.109842</td>\n",
       "      <td>37.86</td>\n",
       "      <td>-122.22</td>\n",
       "      <td>3.585</td>\n",
       "    </tr>\n",
       "    <tr>\n",
       "      <th>2</th>\n",
       "      <td>7.2574</td>\n",
       "      <td>52.0</td>\n",
       "      <td>8.288136</td>\n",
       "      <td>1.073446</td>\n",
       "      <td>496.0</td>\n",
       "      <td>2.802260</td>\n",
       "      <td>37.85</td>\n",
       "      <td>-122.24</td>\n",
       "      <td>3.521</td>\n",
       "    </tr>\n",
       "    <tr>\n",
       "      <th>3</th>\n",
       "      <td>5.6431</td>\n",
       "      <td>52.0</td>\n",
       "      <td>5.817352</td>\n",
       "      <td>1.073059</td>\n",
       "      <td>558.0</td>\n",
       "      <td>2.547945</td>\n",
       "      <td>37.85</td>\n",
       "      <td>-122.25</td>\n",
       "      <td>3.413</td>\n",
       "    </tr>\n",
       "    <tr>\n",
       "      <th>4</th>\n",
       "      <td>3.8462</td>\n",
       "      <td>52.0</td>\n",
       "      <td>6.281853</td>\n",
       "      <td>1.081081</td>\n",
       "      <td>565.0</td>\n",
       "      <td>2.181467</td>\n",
       "      <td>37.85</td>\n",
       "      <td>-122.25</td>\n",
       "      <td>3.422</td>\n",
       "    </tr>\n",
       "    <tr>\n",
       "      <th>...</th>\n",
       "      <td>...</td>\n",
       "      <td>...</td>\n",
       "      <td>...</td>\n",
       "      <td>...</td>\n",
       "      <td>...</td>\n",
       "      <td>...</td>\n",
       "      <td>...</td>\n",
       "      <td>...</td>\n",
       "      <td>...</td>\n",
       "    </tr>\n",
       "    <tr>\n",
       "      <th>20635</th>\n",
       "      <td>1.5603</td>\n",
       "      <td>25.0</td>\n",
       "      <td>5.045455</td>\n",
       "      <td>1.133333</td>\n",
       "      <td>845.0</td>\n",
       "      <td>2.560606</td>\n",
       "      <td>39.48</td>\n",
       "      <td>-121.09</td>\n",
       "      <td>0.781</td>\n",
       "    </tr>\n",
       "    <tr>\n",
       "      <th>20636</th>\n",
       "      <td>2.5568</td>\n",
       "      <td>18.0</td>\n",
       "      <td>6.114035</td>\n",
       "      <td>1.315789</td>\n",
       "      <td>356.0</td>\n",
       "      <td>3.122807</td>\n",
       "      <td>39.49</td>\n",
       "      <td>-121.21</td>\n",
       "      <td>0.771</td>\n",
       "    </tr>\n",
       "    <tr>\n",
       "      <th>20637</th>\n",
       "      <td>1.7000</td>\n",
       "      <td>17.0</td>\n",
       "      <td>5.205543</td>\n",
       "      <td>1.120092</td>\n",
       "      <td>1007.0</td>\n",
       "      <td>2.325635</td>\n",
       "      <td>39.43</td>\n",
       "      <td>-121.22</td>\n",
       "      <td>0.923</td>\n",
       "    </tr>\n",
       "    <tr>\n",
       "      <th>20638</th>\n",
       "      <td>1.8672</td>\n",
       "      <td>18.0</td>\n",
       "      <td>5.329513</td>\n",
       "      <td>1.171920</td>\n",
       "      <td>741.0</td>\n",
       "      <td>2.123209</td>\n",
       "      <td>39.43</td>\n",
       "      <td>-121.32</td>\n",
       "      <td>0.847</td>\n",
       "    </tr>\n",
       "    <tr>\n",
       "      <th>20639</th>\n",
       "      <td>2.3886</td>\n",
       "      <td>16.0</td>\n",
       "      <td>5.254717</td>\n",
       "      <td>1.162264</td>\n",
       "      <td>1387.0</td>\n",
       "      <td>2.616981</td>\n",
       "      <td>39.37</td>\n",
       "      <td>-121.24</td>\n",
       "      <td>0.894</td>\n",
       "    </tr>\n",
       "  </tbody>\n",
       "</table>\n",
       "<p>20640 rows × 9 columns</p>\n",
       "</div>"
      ],
      "text/plain": [
       "       MedInc  HouseAge  AveRooms  AveBedrms  Population  AveOccup  Latitude  \\\n",
       "0      8.3252      41.0  6.984127   1.023810       322.0  2.555556     37.88   \n",
       "1      8.3014      21.0  6.238137   0.971880      2401.0  2.109842     37.86   \n",
       "2      7.2574      52.0  8.288136   1.073446       496.0  2.802260     37.85   \n",
       "3      5.6431      52.0  5.817352   1.073059       558.0  2.547945     37.85   \n",
       "4      3.8462      52.0  6.281853   1.081081       565.0  2.181467     37.85   \n",
       "...       ...       ...       ...        ...         ...       ...       ...   \n",
       "20635  1.5603      25.0  5.045455   1.133333       845.0  2.560606     39.48   \n",
       "20636  2.5568      18.0  6.114035   1.315789       356.0  3.122807     39.49   \n",
       "20637  1.7000      17.0  5.205543   1.120092      1007.0  2.325635     39.43   \n",
       "20638  1.8672      18.0  5.329513   1.171920       741.0  2.123209     39.43   \n",
       "20639  2.3886      16.0  5.254717   1.162264      1387.0  2.616981     39.37   \n",
       "\n",
       "       Longitude  MedHouseVal  \n",
       "0        -122.23        4.526  \n",
       "1        -122.22        3.585  \n",
       "2        -122.24        3.521  \n",
       "3        -122.25        3.413  \n",
       "4        -122.25        3.422  \n",
       "...          ...          ...  \n",
       "20635    -121.09        0.781  \n",
       "20636    -121.21        0.771  \n",
       "20637    -121.22        0.923  \n",
       "20638    -121.32        0.847  \n",
       "20639    -121.24        0.894  \n",
       "\n",
       "[20640 rows x 9 columns]"
      ]
     },
     "execution_count": 1,
     "metadata": {},
     "output_type": "execute_result"
    }
   ],
   "source": [
    "%matplotlib inline\n",
    "import matplotlib.pyplot as plt\n",
    "import numpy as np\n",
    "from sklearn.datasets import fetch_california_housing\n",
    "\n",
    "from scipy.stats import sem\n",
    "\n",
    "california = fetch_california_housing(as_frame=True)\n",
    "X = california.data.to_numpy()\n",
    "y = california.target.to_numpy()\n",
    "california.frame"
   ]
  },
  {
   "cell_type": "code",
   "execution_count": 2,
   "metadata": {
    "colab": {
     "base_uri": "https://localhost:8080/"
    },
    "id": "2-VRh6keUXIC",
    "outputId": "d1db9cf8-86c0-44c7-9b7f-723174a0e310"
   },
   "outputs": [
    {
     "data": {
      "text/plain": [
       "array([4.526, 3.585, 3.521, ..., 0.923, 0.847, 0.894])"
      ]
     },
     "execution_count": 2,
     "metadata": {},
     "output_type": "execute_result"
    }
   ],
   "source": [
    "y"
   ]
  },
  {
   "cell_type": "markdown",
   "metadata": {
    "id": "XQOtMG7hZp35"
   },
   "source": [
    "# COMBINING HYPER-PARAMETER TUNING AND MODEL EVALUATION"
   ]
  },
  {
   "cell_type": "markdown",
   "metadata": {
    "id": "2Ry14avEZp36"
   },
   "source": [
    "The combination of model evaluation and hyper-parameter tuning can be understood as two loops:\n",
    "- An **external loop (outer)** that trains a model and tests the model\n",
    "- An **internal loop (inner)**, where the training process consists on looking for the best hyper-parameters, and then obtaining the model with those best hyper-parameters.\n",
    "\n",
    "First, we are going to use **Holdout** (train/test) for model evaluation (external loop or **outer**), and **3-fold crossvalidation** for hyper-parameter tuning (internal loop or **inner**). Hyper-parameters will be adjusted with **Gridsearch**.\n"
   ]
  },
  {
   "cell_type": "markdown",
   "metadata": {
    "id": "GQQaJrViZp37"
   },
   "source": [
    "## GRIDSEARCH"
   ]
  },
  {
   "cell_type": "markdown",
   "metadata": {
    "id": "7rqhsc9OARd3"
   },
   "source": [
    "First of all, let's define our our python function for RMSE"
   ]
  },
  {
   "cell_type": "code",
   "execution_count": 3,
   "metadata": {
    "id": "TM7SzJLHAQhZ"
   },
   "outputs": [],
   "source": [
    "def rmse(y_test, y_test_pred):\n",
    "  \"\"\" This is my computation of Root Mean Squared Error \"\"\"\n",
    "  return np.sqrt(metrics.mean_squared_error(y_test, y_test_pred))"
   ]
  },
  {
   "cell_type": "code",
   "execution_count": 4,
   "metadata": {
    "id": "laxLj26PZp37"
   },
   "outputs": [],
   "source": [
    "from sklearn.model_selection import train_test_split\n",
    "\n",
    "# Holdout for model evaluation. 33% of available data for test\n",
    "X_train, X_test, y_train, y_test = train_test_split(X, y,test_size=0.33, random_state=42)"
   ]
  },
  {
   "cell_type": "markdown",
   "metadata": {
    "id": "9-SI_kTr82RI"
   },
   "source": [
    "First, let's remember RMSE with default hyper-parameteres"
   ]
  },
  {
   "cell_type": "code",
   "execution_count": 5,
   "metadata": {
    "colab": {
     "base_uri": "https://localhost:8080/"
    },
    "id": "rU6g-6PZ87DS",
    "outputId": "5fc7a255-362a-44c3-a67d-6f63e9e3cb03"
   },
   "outputs": [
    {
     "name": "stdout",
     "output_type": "stream",
     "text": [
      "RMSE of tree with default hyper-pars: 0.7389833060012664\n"
     ]
    }
   ],
   "source": [
    "from sklearn import metrics\n",
    "from sklearn.tree import DecisionTreeRegressor\n",
    "\n",
    "regr = DecisionTreeRegressor()\n",
    "np.random.seed(42)\n",
    "regr.fit(X=X_train, y=y_train)\n",
    "print(f\"RMSE of tree with default hyper-pars: {rmse(y_test, regr.predict(X=X_test))}\")\n"
   ]
  },
  {
   "cell_type": "code",
   "execution_count": 6,
   "metadata": {
    "id": "6P7oEdRwsCpg"
   },
   "outputs": [],
   "source": [
    "# Search space\n",
    "param_grid = {'max_depth': list(range(2,16,2)),\n",
    "              'min_samples_split': list(range(2,16,2))}"
   ]
  },
  {
   "cell_type": "code",
   "execution_count": 7,
   "metadata": {
    "colab": {
     "base_uri": "https://localhost:8080/"
    },
    "id": "bTmcqvF3sEWf",
    "outputId": "e35f6303-16d4-4039-f142-0ba348833ec2"
   },
   "outputs": [
    {
     "data": {
      "text/plain": [
       "{'max_depth': [2, 4, 6, 8, 10, 12, 14],\n",
       " 'min_samples_split': [2, 4, 6, 8, 10, 12, 14]}"
      ]
     },
     "execution_count": 7,
     "metadata": {},
     "output_type": "execute_result"
    }
   ],
   "source": [
    "param_grid"
   ]
  },
  {
   "cell_type": "code",
   "execution_count": 8,
   "metadata": {
    "colab": {
     "base_uri": "https://localhost:8080/",
     "height": 137
    },
    "id": "GRknuZjUZp39",
    "outputId": "337c96ea-a872-4d8c-957e-95c299776d60"
   },
   "outputs": [
    {
     "name": "stdout",
     "output_type": "stream",
     "text": [
      "Fitting 3 folds for each of 49 candidates, totalling 147 fits\n"
     ]
    },
    {
     "data": {
      "text/html": [
       "<style>#sk-container-id-1 {color: black;}#sk-container-id-1 pre{padding: 0;}#sk-container-id-1 div.sk-toggleable {background-color: white;}#sk-container-id-1 label.sk-toggleable__label {cursor: pointer;display: block;width: 100%;margin-bottom: 0;padding: 0.3em;box-sizing: border-box;text-align: center;}#sk-container-id-1 label.sk-toggleable__label-arrow:before {content: \"▸\";float: left;margin-right: 0.25em;color: #696969;}#sk-container-id-1 label.sk-toggleable__label-arrow:hover:before {color: black;}#sk-container-id-1 div.sk-estimator:hover label.sk-toggleable__label-arrow:before {color: black;}#sk-container-id-1 div.sk-toggleable__content {max-height: 0;max-width: 0;overflow: hidden;text-align: left;background-color: #f0f8ff;}#sk-container-id-1 div.sk-toggleable__content pre {margin: 0.2em;color: black;border-radius: 0.25em;background-color: #f0f8ff;}#sk-container-id-1 input.sk-toggleable__control:checked~div.sk-toggleable__content {max-height: 200px;max-width: 100%;overflow: auto;}#sk-container-id-1 input.sk-toggleable__control:checked~label.sk-toggleable__label-arrow:before {content: \"▾\";}#sk-container-id-1 div.sk-estimator input.sk-toggleable__control:checked~label.sk-toggleable__label {background-color: #d4ebff;}#sk-container-id-1 div.sk-label input.sk-toggleable__control:checked~label.sk-toggleable__label {background-color: #d4ebff;}#sk-container-id-1 input.sk-hidden--visually {border: 0;clip: rect(1px 1px 1px 1px);clip: rect(1px, 1px, 1px, 1px);height: 1px;margin: -1px;overflow: hidden;padding: 0;position: absolute;width: 1px;}#sk-container-id-1 div.sk-estimator {font-family: monospace;background-color: #f0f8ff;border: 1px dotted black;border-radius: 0.25em;box-sizing: border-box;margin-bottom: 0.5em;}#sk-container-id-1 div.sk-estimator:hover {background-color: #d4ebff;}#sk-container-id-1 div.sk-parallel-item::after {content: \"\";width: 100%;border-bottom: 1px solid gray;flex-grow: 1;}#sk-container-id-1 div.sk-label:hover label.sk-toggleable__label {background-color: #d4ebff;}#sk-container-id-1 div.sk-serial::before {content: \"\";position: absolute;border-left: 1px solid gray;box-sizing: border-box;top: 0;bottom: 0;left: 50%;z-index: 0;}#sk-container-id-1 div.sk-serial {display: flex;flex-direction: column;align-items: center;background-color: white;padding-right: 0.2em;padding-left: 0.2em;position: relative;}#sk-container-id-1 div.sk-item {position: relative;z-index: 1;}#sk-container-id-1 div.sk-parallel {display: flex;align-items: stretch;justify-content: center;background-color: white;position: relative;}#sk-container-id-1 div.sk-item::before, #sk-container-id-1 div.sk-parallel-item::before {content: \"\";position: absolute;border-left: 1px solid gray;box-sizing: border-box;top: 0;bottom: 0;left: 50%;z-index: -1;}#sk-container-id-1 div.sk-parallel-item {display: flex;flex-direction: column;z-index: 1;position: relative;background-color: white;}#sk-container-id-1 div.sk-parallel-item:first-child::after {align-self: flex-end;width: 50%;}#sk-container-id-1 div.sk-parallel-item:last-child::after {align-self: flex-start;width: 50%;}#sk-container-id-1 div.sk-parallel-item:only-child::after {width: 0;}#sk-container-id-1 div.sk-dashed-wrapped {border: 1px dashed gray;margin: 0 0.4em 0.5em 0.4em;box-sizing: border-box;padding-bottom: 0.4em;background-color: white;}#sk-container-id-1 div.sk-label label {font-family: monospace;font-weight: bold;display: inline-block;line-height: 1.2em;}#sk-container-id-1 div.sk-label-container {text-align: center;}#sk-container-id-1 div.sk-container {/* jupyter's `normalize.less` sets `[hidden] { display: none; }` but bootstrap.min.css set `[hidden] { display: none !important; }` so we also need the `!important` here to be able to override the default hidden behavior on the sphinx rendered scikit-learn.org. See: https://github.com/scikit-learn/scikit-learn/issues/21755 */display: inline-block !important;position: relative;}#sk-container-id-1 div.sk-text-repr-fallback {display: none;}</style><div id=\"sk-container-id-1\" class=\"sk-top-container\"><div class=\"sk-text-repr-fallback\"><pre>GridSearchCV(cv=KFold(n_splits=3, random_state=42, shuffle=True),\n",
       "             estimator=DecisionTreeRegressor(), n_jobs=1,\n",
       "             param_grid={&#x27;max_depth&#x27;: [2, 4, 6, 8, 10, 12, 14],\n",
       "                         &#x27;min_samples_split&#x27;: [2, 4, 6, 8, 10, 12, 14]},\n",
       "             scoring=&#x27;neg_mean_squared_error&#x27;, verbose=1)</pre><b>In a Jupyter environment, please rerun this cell to show the HTML representation or trust the notebook. <br />On GitHub, the HTML representation is unable to render, please try loading this page with nbviewer.org.</b></div><div class=\"sk-container\" hidden><div class=\"sk-item sk-dashed-wrapped\"><div class=\"sk-label-container\"><div class=\"sk-label sk-toggleable\"><input class=\"sk-toggleable__control sk-hidden--visually\" id=\"sk-estimator-id-1\" type=\"checkbox\" ><label for=\"sk-estimator-id-1\" class=\"sk-toggleable__label sk-toggleable__label-arrow\">GridSearchCV</label><div class=\"sk-toggleable__content\"><pre>GridSearchCV(cv=KFold(n_splits=3, random_state=42, shuffle=True),\n",
       "             estimator=DecisionTreeRegressor(), n_jobs=1,\n",
       "             param_grid={&#x27;max_depth&#x27;: [2, 4, 6, 8, 10, 12, 14],\n",
       "                         &#x27;min_samples_split&#x27;: [2, 4, 6, 8, 10, 12, 14]},\n",
       "             scoring=&#x27;neg_mean_squared_error&#x27;, verbose=1)</pre></div></div></div><div class=\"sk-parallel\"><div class=\"sk-parallel-item\"><div class=\"sk-item\"><div class=\"sk-label-container\"><div class=\"sk-label sk-toggleable\"><input class=\"sk-toggleable__control sk-hidden--visually\" id=\"sk-estimator-id-2\" type=\"checkbox\" ><label for=\"sk-estimator-id-2\" class=\"sk-toggleable__label sk-toggleable__label-arrow\">estimator: DecisionTreeRegressor</label><div class=\"sk-toggleable__content\"><pre>DecisionTreeRegressor()</pre></div></div></div><div class=\"sk-serial\"><div class=\"sk-item\"><div class=\"sk-estimator sk-toggleable\"><input class=\"sk-toggleable__control sk-hidden--visually\" id=\"sk-estimator-id-3\" type=\"checkbox\" ><label for=\"sk-estimator-id-3\" class=\"sk-toggleable__label sk-toggleable__label-arrow\">DecisionTreeRegressor</label><div class=\"sk-toggleable__content\"><pre>DecisionTreeRegressor()</pre></div></div></div></div></div></div></div></div></div></div>"
      ],
      "text/plain": [
       "GridSearchCV(cv=KFold(n_splits=3, random_state=42, shuffle=True),\n",
       "             estimator=DecisionTreeRegressor(), n_jobs=1,\n",
       "             param_grid={'max_depth': [2, 4, 6, 8, 10, 12, 14],\n",
       "                         'min_samples_split': [2, 4, 6, 8, 10, 12, 14]},\n",
       "             scoring='neg_mean_squared_error', verbose=1)"
      ]
     },
     "execution_count": 8,
     "metadata": {},
     "output_type": "execute_result"
    }
   ],
   "source": [
    "from sklearn.model_selection import GridSearchCV, KFold\n",
    "from sklearn.model_selection import KFold\n",
    "\n",
    "\n",
    "# Search space\n",
    "\n",
    "\n",
    "inner = KFold(n_splits=3, shuffle=True, random_state=42)\n",
    "\n",
    "# Definition of a 2-step process that self-adjusts 2 hyperpars\n",
    "regr = GridSearchCV(DecisionTreeRegressor(),\n",
    "                   param_grid,\n",
    "                   scoring='neg_mean_squared_error',\n",
    "                   cv=inner,\n",
    "                   n_jobs=1, verbose=1)\n",
    "\n",
    "# Train the self-adjusting process\n",
    "np.random.seed(42)\n",
    "regr.fit(X=X_train, y=y_train)\n",
    "\n",
    "# At this point, regr contains the model with the best hyper-parameters found by gridsearch\n",
    "# and trained on the complete X_train"
   ]
  },
  {
   "cell_type": "code",
   "execution_count": 9,
   "metadata": {
    "colab": {
     "base_uri": "https://localhost:8080/"
    },
    "id": "fZokHzT78udT",
    "outputId": "d07430f1-b4a0-4fcb-c8f5-24d6e717dfa4"
   },
   "outputs": [
    {
     "name": "stdout",
     "output_type": "stream",
     "text": [
      "RMSE of tree with hyper-parameter tuning (grid-search): 0.6647688056188821\n"
     ]
    }
   ],
   "source": [
    "# Now, the performance of regr is computed on the test partition\n",
    "\n",
    "print(f\"RMSE of tree with hyper-parameter tuning (grid-search): {rmse(y_test, regr.predict(X=X_test))}\")"
   ]
  },
  {
   "cell_type": "markdown",
   "metadata": {
    "id": "dTTNB93mZp4A"
   },
   "source": [
    "Let's see the best hyper-parameters and their score (MSE). We can see that they are near the extremes of parameter space."
   ]
  },
  {
   "cell_type": "code",
   "execution_count": 10,
   "metadata": {
    "colab": {
     "base_uri": "https://localhost:8080/"
    },
    "id": "nVeTEIFaZp4B",
    "outputId": "ec346a74-5b8a-49ee-da3f-7374f2f72f62"
   },
   "outputs": [
    {
     "data": {
      "text/plain": [
       "({'max_depth': 8, 'min_samples_split': 14}, 0.44782374157784616)"
      ]
     },
     "execution_count": 10,
     "metadata": {},
     "output_type": "execute_result"
    }
   ],
   "source": [
    "regr.best_params_, -regr.best_score_"
   ]
  },
  {
   "cell_type": "markdown",
   "metadata": {
    "id": "Hk6rBqZSZp4I"
   },
   "source": [
    "## RANDOMIZED SEARCH"
   ]
  },
  {
   "cell_type": "markdown",
   "metadata": {
    "id": "w7bZU45-Zp4I"
   },
   "source": [
    "Now, let's use **Randomized Search** instead of gridsearch. Only 20 hyper-parameter value combinations will be tried (budget=20)"
   ]
  },
  {
   "cell_type": "code",
   "execution_count": 11,
   "metadata": {
    "colab": {
     "base_uri": "https://localhost:8080/",
     "height": 137
    },
    "id": "urjn49EAZp4J",
    "outputId": "19573a3e-570a-4477-a064-a02068f57817"
   },
   "outputs": [
    {
     "name": "stdout",
     "output_type": "stream",
     "text": [
      "Fitting 3 folds for each of 49 candidates, totalling 147 fits\n"
     ]
    },
    {
     "data": {
      "text/html": [
       "<style>#sk-container-id-2 {color: black;}#sk-container-id-2 pre{padding: 0;}#sk-container-id-2 div.sk-toggleable {background-color: white;}#sk-container-id-2 label.sk-toggleable__label {cursor: pointer;display: block;width: 100%;margin-bottom: 0;padding: 0.3em;box-sizing: border-box;text-align: center;}#sk-container-id-2 label.sk-toggleable__label-arrow:before {content: \"▸\";float: left;margin-right: 0.25em;color: #696969;}#sk-container-id-2 label.sk-toggleable__label-arrow:hover:before {color: black;}#sk-container-id-2 div.sk-estimator:hover label.sk-toggleable__label-arrow:before {color: black;}#sk-container-id-2 div.sk-toggleable__content {max-height: 0;max-width: 0;overflow: hidden;text-align: left;background-color: #f0f8ff;}#sk-container-id-2 div.sk-toggleable__content pre {margin: 0.2em;color: black;border-radius: 0.25em;background-color: #f0f8ff;}#sk-container-id-2 input.sk-toggleable__control:checked~div.sk-toggleable__content {max-height: 200px;max-width: 100%;overflow: auto;}#sk-container-id-2 input.sk-toggleable__control:checked~label.sk-toggleable__label-arrow:before {content: \"▾\";}#sk-container-id-2 div.sk-estimator input.sk-toggleable__control:checked~label.sk-toggleable__label {background-color: #d4ebff;}#sk-container-id-2 div.sk-label input.sk-toggleable__control:checked~label.sk-toggleable__label {background-color: #d4ebff;}#sk-container-id-2 input.sk-hidden--visually {border: 0;clip: rect(1px 1px 1px 1px);clip: rect(1px, 1px, 1px, 1px);height: 1px;margin: -1px;overflow: hidden;padding: 0;position: absolute;width: 1px;}#sk-container-id-2 div.sk-estimator {font-family: monospace;background-color: #f0f8ff;border: 1px dotted black;border-radius: 0.25em;box-sizing: border-box;margin-bottom: 0.5em;}#sk-container-id-2 div.sk-estimator:hover {background-color: #d4ebff;}#sk-container-id-2 div.sk-parallel-item::after {content: \"\";width: 100%;border-bottom: 1px solid gray;flex-grow: 1;}#sk-container-id-2 div.sk-label:hover label.sk-toggleable__label {background-color: #d4ebff;}#sk-container-id-2 div.sk-serial::before {content: \"\";position: absolute;border-left: 1px solid gray;box-sizing: border-box;top: 0;bottom: 0;left: 50%;z-index: 0;}#sk-container-id-2 div.sk-serial {display: flex;flex-direction: column;align-items: center;background-color: white;padding-right: 0.2em;padding-left: 0.2em;position: relative;}#sk-container-id-2 div.sk-item {position: relative;z-index: 1;}#sk-container-id-2 div.sk-parallel {display: flex;align-items: stretch;justify-content: center;background-color: white;position: relative;}#sk-container-id-2 div.sk-item::before, #sk-container-id-2 div.sk-parallel-item::before {content: \"\";position: absolute;border-left: 1px solid gray;box-sizing: border-box;top: 0;bottom: 0;left: 50%;z-index: -1;}#sk-container-id-2 div.sk-parallel-item {display: flex;flex-direction: column;z-index: 1;position: relative;background-color: white;}#sk-container-id-2 div.sk-parallel-item:first-child::after {align-self: flex-end;width: 50%;}#sk-container-id-2 div.sk-parallel-item:last-child::after {align-self: flex-start;width: 50%;}#sk-container-id-2 div.sk-parallel-item:only-child::after {width: 0;}#sk-container-id-2 div.sk-dashed-wrapped {border: 1px dashed gray;margin: 0 0.4em 0.5em 0.4em;box-sizing: border-box;padding-bottom: 0.4em;background-color: white;}#sk-container-id-2 div.sk-label label {font-family: monospace;font-weight: bold;display: inline-block;line-height: 1.2em;}#sk-container-id-2 div.sk-label-container {text-align: center;}#sk-container-id-2 div.sk-container {/* jupyter's `normalize.less` sets `[hidden] { display: none; }` but bootstrap.min.css set `[hidden] { display: none !important; }` so we also need the `!important` here to be able to override the default hidden behavior on the sphinx rendered scikit-learn.org. See: https://github.com/scikit-learn/scikit-learn/issues/21755 */display: inline-block !important;position: relative;}#sk-container-id-2 div.sk-text-repr-fallback {display: none;}</style><div id=\"sk-container-id-2\" class=\"sk-top-container\"><div class=\"sk-text-repr-fallback\"><pre>GridSearchCV(cv=KFold(n_splits=3, random_state=42, shuffle=True),\n",
       "             estimator=DecisionTreeRegressor(), n_jobs=1,\n",
       "             param_grid={&#x27;max_depth&#x27;: [2, 4, 6, 8, 10, 12, 14],\n",
       "                         &#x27;min_samples_split&#x27;: [2, 4, 6, 8, 10, 12, 14]},\n",
       "             scoring=&#x27;neg_mean_squared_error&#x27;, verbose=1)</pre><b>In a Jupyter environment, please rerun this cell to show the HTML representation or trust the notebook. <br />On GitHub, the HTML representation is unable to render, please try loading this page with nbviewer.org.</b></div><div class=\"sk-container\" hidden><div class=\"sk-item sk-dashed-wrapped\"><div class=\"sk-label-container\"><div class=\"sk-label sk-toggleable\"><input class=\"sk-toggleable__control sk-hidden--visually\" id=\"sk-estimator-id-4\" type=\"checkbox\" ><label for=\"sk-estimator-id-4\" class=\"sk-toggleable__label sk-toggleable__label-arrow\">GridSearchCV</label><div class=\"sk-toggleable__content\"><pre>GridSearchCV(cv=KFold(n_splits=3, random_state=42, shuffle=True),\n",
       "             estimator=DecisionTreeRegressor(), n_jobs=1,\n",
       "             param_grid={&#x27;max_depth&#x27;: [2, 4, 6, 8, 10, 12, 14],\n",
       "                         &#x27;min_samples_split&#x27;: [2, 4, 6, 8, 10, 12, 14]},\n",
       "             scoring=&#x27;neg_mean_squared_error&#x27;, verbose=1)</pre></div></div></div><div class=\"sk-parallel\"><div class=\"sk-parallel-item\"><div class=\"sk-item\"><div class=\"sk-label-container\"><div class=\"sk-label sk-toggleable\"><input class=\"sk-toggleable__control sk-hidden--visually\" id=\"sk-estimator-id-5\" type=\"checkbox\" ><label for=\"sk-estimator-id-5\" class=\"sk-toggleable__label sk-toggleable__label-arrow\">estimator: DecisionTreeRegressor</label><div class=\"sk-toggleable__content\"><pre>DecisionTreeRegressor()</pre></div></div></div><div class=\"sk-serial\"><div class=\"sk-item\"><div class=\"sk-estimator sk-toggleable\"><input class=\"sk-toggleable__control sk-hidden--visually\" id=\"sk-estimator-id-6\" type=\"checkbox\" ><label for=\"sk-estimator-id-6\" class=\"sk-toggleable__label sk-toggleable__label-arrow\">DecisionTreeRegressor</label><div class=\"sk-toggleable__content\"><pre>DecisionTreeRegressor()</pre></div></div></div></div></div></div></div></div></div></div>"
      ],
      "text/plain": [
       "GridSearchCV(cv=KFold(n_splits=3, random_state=42, shuffle=True),\n",
       "             estimator=DecisionTreeRegressor(), n_jobs=1,\n",
       "             param_grid={'max_depth': [2, 4, 6, 8, 10, 12, 14],\n",
       "                         'min_samples_split': [2, 4, 6, 8, 10, 12, 14]},\n",
       "             scoring='neg_mean_squared_error', verbose=1)"
      ]
     },
     "execution_count": 11,
     "metadata": {},
     "output_type": "execute_result"
    }
   ],
   "source": [
    "from sklearn.model_selection import RandomizedSearchCV, KFold\n",
    "from sklearn import metrics\n",
    "\n",
    "# Search space\n",
    "param_grid = {'max_depth': [2, 4, 6, 8, 10, 12, 14],\n",
    " 'min_samples_split': [2, 4, 6, 8, 10, 12, 14]}\n",
    "\n",
    "# Inner evaluation\n",
    "inner = KFold(n_splits=3, shuffle=True, random_state=42)\n",
    "\n",
    "budget = 20\n",
    "regr = GridSearchCV(DecisionTreeRegressor(),\n",
    "                         param_grid,\n",
    "                         scoring='neg_mean_squared_error',\n",
    "                         cv=inner,\n",
    "                         n_jobs=1, verbose=1\n",
    "                        )\n",
    "np.random.seed(42)\n",
    "regr.fit(X=X_train, y=y_train)"
   ]
  },
  {
   "cell_type": "code",
   "execution_count": 12,
   "metadata": {
    "colab": {
     "base_uri": "https://localhost:8080/"
    },
    "id": "r3vl3m_FziKP",
    "outputId": "19b332ff-6610-4465-b690-5be38a460be9"
   },
   "outputs": [
    {
     "data": {
      "text/plain": [
       "{'max_depth': [2, 4, 6, 8, 10, 12, 14],\n",
       " 'min_samples_split': [2, 4, 6, 8, 10, 12, 14]}"
      ]
     },
     "execution_count": 12,
     "metadata": {},
     "output_type": "execute_result"
    }
   ],
   "source": [
    "param_grid"
   ]
  },
  {
   "cell_type": "code",
   "execution_count": 13,
   "metadata": {
    "colab": {
     "base_uri": "https://localhost:8080/"
    },
    "id": "x2JJyJAn-6Ci",
    "outputId": "8bec6456-ce4a-409e-b205-ee359fa5a482"
   },
   "outputs": [
    {
     "name": "stdout",
     "output_type": "stream",
     "text": [
      "RMSE of tree with hyper-parameter tuning (random search): 0.6647688056188821\n"
     ]
    }
   ],
   "source": [
    "# Now, the performance of regr is computed on the test partition\n",
    "\n",
    "print(f\"RMSE of tree with hyper-parameter tuning (random search): {rmse(y_test, regr.predict(X=X_test))}\")"
   ]
  },
  {
   "cell_type": "markdown",
   "metadata": {},
   "source": [
    "As in the previous case, we identify the best parameters and the MSE"
   ]
  },
  {
   "cell_type": "code",
   "execution_count": 14,
   "metadata": {
    "colab": {
     "base_uri": "https://localhost:8080/"
    },
    "id": "9OzNtlMYZp4L",
    "outputId": "368023db-fff6-4ec8-af41-9e2d4f8ed51b"
   },
   "outputs": [
    {
     "data": {
      "text/plain": [
       "({'max_depth': 8, 'min_samples_split': 14}, 0.44782374157784616)"
      ]
     },
     "execution_count": 14,
     "metadata": {},
     "output_type": "execute_result"
    }
   ],
   "source": [
    "regr.best_params_, -regr.best_score_"
   ]
  },
  {
   "cell_type": "markdown",
   "metadata": {
    "id": "Nk1-fYyoZp4N"
   },
   "source": [
    "For **Randomized Search**, we can define the search space with statistical distributions, rather than using particular values as we did before. Below you can see how to use a uniform distribution on integers between 2 and 16 by means of *randint*. For continuous hyper-parameters we could use continuous distributions such as *uniform* or *expon* (exponential)."
   ]
  },
  {
   "cell_type": "code",
   "execution_count": 15,
   "metadata": {
    "colab": {
     "base_uri": "https://localhost:8080/"
    },
    "id": "-vyv0cvAZp4O",
    "outputId": "58b8ed38-8dc6-4de9-94ce-1d34f9448979"
   },
   "outputs": [
    {
     "name": "stdout",
     "output_type": "stream",
     "text": [
      "Fitting 3 folds for each of 20 candidates, totalling 60 fits\n"
     ]
    },
    {
     "data": {
      "text/html": [
       "<style>#sk-container-id-3 {color: black;}#sk-container-id-3 pre{padding: 0;}#sk-container-id-3 div.sk-toggleable {background-color: white;}#sk-container-id-3 label.sk-toggleable__label {cursor: pointer;display: block;width: 100%;margin-bottom: 0;padding: 0.3em;box-sizing: border-box;text-align: center;}#sk-container-id-3 label.sk-toggleable__label-arrow:before {content: \"▸\";float: left;margin-right: 0.25em;color: #696969;}#sk-container-id-3 label.sk-toggleable__label-arrow:hover:before {color: black;}#sk-container-id-3 div.sk-estimator:hover label.sk-toggleable__label-arrow:before {color: black;}#sk-container-id-3 div.sk-toggleable__content {max-height: 0;max-width: 0;overflow: hidden;text-align: left;background-color: #f0f8ff;}#sk-container-id-3 div.sk-toggleable__content pre {margin: 0.2em;color: black;border-radius: 0.25em;background-color: #f0f8ff;}#sk-container-id-3 input.sk-toggleable__control:checked~div.sk-toggleable__content {max-height: 200px;max-width: 100%;overflow: auto;}#sk-container-id-3 input.sk-toggleable__control:checked~label.sk-toggleable__label-arrow:before {content: \"▾\";}#sk-container-id-3 div.sk-estimator input.sk-toggleable__control:checked~label.sk-toggleable__label {background-color: #d4ebff;}#sk-container-id-3 div.sk-label input.sk-toggleable__control:checked~label.sk-toggleable__label {background-color: #d4ebff;}#sk-container-id-3 input.sk-hidden--visually {border: 0;clip: rect(1px 1px 1px 1px);clip: rect(1px, 1px, 1px, 1px);height: 1px;margin: -1px;overflow: hidden;padding: 0;position: absolute;width: 1px;}#sk-container-id-3 div.sk-estimator {font-family: monospace;background-color: #f0f8ff;border: 1px dotted black;border-radius: 0.25em;box-sizing: border-box;margin-bottom: 0.5em;}#sk-container-id-3 div.sk-estimator:hover {background-color: #d4ebff;}#sk-container-id-3 div.sk-parallel-item::after {content: \"\";width: 100%;border-bottom: 1px solid gray;flex-grow: 1;}#sk-container-id-3 div.sk-label:hover label.sk-toggleable__label {background-color: #d4ebff;}#sk-container-id-3 div.sk-serial::before {content: \"\";position: absolute;border-left: 1px solid gray;box-sizing: border-box;top: 0;bottom: 0;left: 50%;z-index: 0;}#sk-container-id-3 div.sk-serial {display: flex;flex-direction: column;align-items: center;background-color: white;padding-right: 0.2em;padding-left: 0.2em;position: relative;}#sk-container-id-3 div.sk-item {position: relative;z-index: 1;}#sk-container-id-3 div.sk-parallel {display: flex;align-items: stretch;justify-content: center;background-color: white;position: relative;}#sk-container-id-3 div.sk-item::before, #sk-container-id-3 div.sk-parallel-item::before {content: \"\";position: absolute;border-left: 1px solid gray;box-sizing: border-box;top: 0;bottom: 0;left: 50%;z-index: -1;}#sk-container-id-3 div.sk-parallel-item {display: flex;flex-direction: column;z-index: 1;position: relative;background-color: white;}#sk-container-id-3 div.sk-parallel-item:first-child::after {align-self: flex-end;width: 50%;}#sk-container-id-3 div.sk-parallel-item:last-child::after {align-self: flex-start;width: 50%;}#sk-container-id-3 div.sk-parallel-item:only-child::after {width: 0;}#sk-container-id-3 div.sk-dashed-wrapped {border: 1px dashed gray;margin: 0 0.4em 0.5em 0.4em;box-sizing: border-box;padding-bottom: 0.4em;background-color: white;}#sk-container-id-3 div.sk-label label {font-family: monospace;font-weight: bold;display: inline-block;line-height: 1.2em;}#sk-container-id-3 div.sk-label-container {text-align: center;}#sk-container-id-3 div.sk-container {/* jupyter's `normalize.less` sets `[hidden] { display: none; }` but bootstrap.min.css set `[hidden] { display: none !important; }` so we also need the `!important` here to be able to override the default hidden behavior on the sphinx rendered scikit-learn.org. See: https://github.com/scikit-learn/scikit-learn/issues/21755 */display: inline-block !important;position: relative;}#sk-container-id-3 div.sk-text-repr-fallback {display: none;}</style><div id=\"sk-container-id-3\" class=\"sk-top-container\"><div class=\"sk-text-repr-fallback\"><pre>RandomizedSearchCV(cv=KFold(n_splits=3, random_state=42, shuffle=True),\n",
       "                   estimator=DecisionTreeRegressor(), n_iter=20, n_jobs=1,\n",
       "                   param_distributions={&#x27;max_depth&#x27;: &lt;scipy.stats._distn_infrastructure.rv_discrete_frozen object at 0x000002A50A9E74C0&gt;,\n",
       "                                        &#x27;min_samples_split&#x27;: &lt;scipy.stats._distn_infrastructure.rv_discrete_frozen object at 0x000002A509698C40&gt;},\n",
       "                   scoring=&#x27;neg_mean_squared_error&#x27;, verbose=1)</pre><b>In a Jupyter environment, please rerun this cell to show the HTML representation or trust the notebook. <br />On GitHub, the HTML representation is unable to render, please try loading this page with nbviewer.org.</b></div><div class=\"sk-container\" hidden><div class=\"sk-item sk-dashed-wrapped\"><div class=\"sk-label-container\"><div class=\"sk-label sk-toggleable\"><input class=\"sk-toggleable__control sk-hidden--visually\" id=\"sk-estimator-id-7\" type=\"checkbox\" ><label for=\"sk-estimator-id-7\" class=\"sk-toggleable__label sk-toggleable__label-arrow\">RandomizedSearchCV</label><div class=\"sk-toggleable__content\"><pre>RandomizedSearchCV(cv=KFold(n_splits=3, random_state=42, shuffle=True),\n",
       "                   estimator=DecisionTreeRegressor(), n_iter=20, n_jobs=1,\n",
       "                   param_distributions={&#x27;max_depth&#x27;: &lt;scipy.stats._distn_infrastructure.rv_discrete_frozen object at 0x000002A50A9E74C0&gt;,\n",
       "                                        &#x27;min_samples_split&#x27;: &lt;scipy.stats._distn_infrastructure.rv_discrete_frozen object at 0x000002A509698C40&gt;},\n",
       "                   scoring=&#x27;neg_mean_squared_error&#x27;, verbose=1)</pre></div></div></div><div class=\"sk-parallel\"><div class=\"sk-parallel-item\"><div class=\"sk-item\"><div class=\"sk-label-container\"><div class=\"sk-label sk-toggleable\"><input class=\"sk-toggleable__control sk-hidden--visually\" id=\"sk-estimator-id-8\" type=\"checkbox\" ><label for=\"sk-estimator-id-8\" class=\"sk-toggleable__label sk-toggleable__label-arrow\">estimator: DecisionTreeRegressor</label><div class=\"sk-toggleable__content\"><pre>DecisionTreeRegressor()</pre></div></div></div><div class=\"sk-serial\"><div class=\"sk-item\"><div class=\"sk-estimator sk-toggleable\"><input class=\"sk-toggleable__control sk-hidden--visually\" id=\"sk-estimator-id-9\" type=\"checkbox\" ><label for=\"sk-estimator-id-9\" class=\"sk-toggleable__label sk-toggleable__label-arrow\">DecisionTreeRegressor</label><div class=\"sk-toggleable__content\"><pre>DecisionTreeRegressor()</pre></div></div></div></div></div></div></div></div></div></div>"
      ],
      "text/plain": [
       "RandomizedSearchCV(cv=KFold(n_splits=3, random_state=42, shuffle=True),\n",
       "                   estimator=DecisionTreeRegressor(), n_iter=20, n_jobs=1,\n",
       "                   param_distributions={'max_depth': <scipy.stats._distn_infrastructure.rv_discrete_frozen object at 0x000002A50A9E74C0>,\n",
       "                                        'min_samples_split': <scipy.stats._distn_infrastructure.rv_discrete_frozen object at 0x000002A509698C40>},\n",
       "                   scoring='neg_mean_squared_error', verbose=1)"
      ]
     },
     "execution_count": 15,
     "metadata": {},
     "output_type": "execute_result"
    }
   ],
   "source": [
    "from sklearn.model_selection import RandomizedSearchCV, KFold\n",
    "from sklearn import metrics\n",
    "\n",
    "\n",
    "from scipy.stats import uniform, expon\n",
    "from scipy.stats import randint as sp_randint\n",
    "\n",
    "# Search space with integer uniform distributions\n",
    "param_grid = {'max_depth': sp_randint(2,16),\n",
    "              'min_samples_split': sp_randint(2,16)}\n",
    "\n",
    "inner = KFold(n_splits=3, shuffle=True, random_state=42)\n",
    "\n",
    "budget = 20\n",
    "regr = RandomizedSearchCV(DecisionTreeRegressor(),\n",
    "                         param_grid,\n",
    "                         scoring='neg_mean_squared_error',\n",
    "                         cv=inner,\n",
    "                         n_jobs=1, verbose=1,\n",
    "                         n_iter=budget\n",
    "                        )\n",
    "\n",
    "np.random.seed(42)\n",
    "regr.fit(X=X_train, y=y_train)\n",
    "\n",
    "# At this point, regr contains the model with the best hyper-parameters found by gridsearch\n",
    "# and trained on the complete X_train"
   ]
  },
  {
   "cell_type": "code",
   "execution_count": 16,
   "metadata": {
    "colab": {
     "base_uri": "https://localhost:8080/"
    },
    "id": "1G3cOy2OzVfz",
    "outputId": "fed9883e-45c0-48e6-e8bd-f62bb9dee04f"
   },
   "outputs": [
    {
     "data": {
      "text/plain": [
       "<scipy.stats._distn_infrastructure.rv_discrete_frozen at 0x2a50a9e74c0>"
      ]
     },
     "execution_count": 16,
     "metadata": {},
     "output_type": "execute_result"
    }
   ],
   "source": [
    "param_grid['max_depth']"
   ]
  },
  {
   "cell_type": "markdown",
   "metadata": {},
   "source": [
    "We can compare the best parameters and the best MSE with the previous estimations."
   ]
  },
  {
   "cell_type": "code",
   "execution_count": 17,
   "metadata": {
    "id": "qhMPDyL8Zp4Q"
   },
   "outputs": [
    {
     "data": {
      "text/plain": [
       "({'max_depth': 8, 'min_samples_split': 12}, 0.4483635388476918)"
      ]
     },
     "execution_count": 17,
     "metadata": {},
     "output_type": "execute_result"
    }
   ],
   "source": [
    "regr.best_params_, -regr.best_score_"
   ]
  },
  {
   "cell_type": "code",
   "execution_count": 18,
   "metadata": {
    "id": "CRppQBOiA9fI"
   },
   "outputs": [
    {
     "name": "stdout",
     "output_type": "stream",
     "text": [
      "RMSE of tree with hyper-parameter tuning (random search II): 0.6640044054767447\n"
     ]
    }
   ],
   "source": [
    "# Now, the performance of regr is computed on the test partition\n",
    "\n",
    "print(f\"RMSE of tree with hyper-parameter tuning (random search II): {rmse(y_test, regr.predict(X=X_test))}\")"
   ]
  },
  {
   "cell_type": "markdown",
   "metadata": {
    "id": "8SQ9B8PDx9_y"
   },
   "source": [
    "## QUESTIONS\n",
    "\n",
    "- Which method worked better? GridSearch or Randomized Search? Why?\n",
    "- What's the effect on `n_jobs` parameter? Can you speed it up?"
   ]
  },
  {
   "cell_type": "markdown",
   "metadata": {
    "id": "2zkCbZi5_dGu"
   },
   "source": [
    "## Exercise 1\n",
    "\n",
    "Using this code as a template, and `fetch_california_housing` use KNN method instead of DecisionTree.\n",
    "\n",
    "- `n_neighbors`\n",
    "- `metric`\n",
    "\n",
    "\n",
    "\n",
    "```\n",
    "from sklearn.model_selection import RandomizedSearchCV, KFold\n",
    "rom sklearn import metrics\n",
    "\n",
    "\n",
    "from scipy.stats import uniform, expon\n",
    "from scipy.stats import randint as sp_randint\n",
    "\n",
    "# Search space with integer uniform distributions\n",
    "param_grid = {'max_depth': sp_randint(2,16),\n",
    "              'min_samples_split': sp_randint(2,16)}\n",
    "\n",
    "inner = KFold(n_splits=3, shuffle=True, random_state=42)\n",
    "\n",
    "budget = 20\n",
    "regr = RandomizedSearchCV(DecisionTreeRegressor(),\n",
    "                         param_grid,\n",
    "                         scoring='neg_mean_squared_error',\n",
    "                         cv=inner,\n",
    "                         n_jobs=1, verbose=1,\n",
    "                         n_iter=budget\n",
    "                        )\n",
    "\n",
    "np.random.seed(42)\n",
    "egr.fit(X=X_train, y=y_train)\n",
    "```\n"
   ]
  },
  {
   "cell_type": "markdown",
   "metadata": {
    "id": "je3hVWP9Zp4S"
   },
   "source": [
    "# Nested cross-validation\n",
    "\n",
    "What if we wanted to do **model evaluation with 5-fold crossvalidation** and **hyper-parameter tuning with 3-fold crossvalidation**? This is called nested crossvalidation (https://scikit-learn.org/stable/auto_examples/model_selection/plot_nested_cross_validation_iris.html). There is an external loop (for evaluating models) and an internal loop (for hyper-parameter tuning).\n",
    "\n",
    "![imagen.png](data:image/png;base64,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)"
   ]
  },
  {
   "cell_type": "markdown",
   "metadata": {
    "id": "xjhksZrq-Ts-"
   },
   "source": [
    "## Manual approach"
   ]
  },
  {
   "cell_type": "code",
   "execution_count": 19,
   "metadata": {
    "colab": {
     "base_uri": "https://localhost:8080/"
    },
    "id": "1cmIgJfd4WtX",
    "outputId": "46bead6a-9dc2-417e-c126-d78a0a78a5bb"
   },
   "outputs": [
    {
     "name": "stdout",
     "output_type": "stream",
     "text": [
      "Fitting 3 folds for each of 20 candidates, totalling 60 fits\n",
      ">rmse=0.648, est=-0.436, cfg={'min_samples_split': 14, 'max_depth': 8}\n",
      "Fitting 3 folds for each of 20 candidates, totalling 60 fits\n",
      ">rmse=0.637, est=-0.426, cfg={'min_samples_split': 10, 'max_depth': 10}\n",
      "Fitting 3 folds for each of 20 candidates, totalling 60 fits\n",
      ">rmse=0.632, est=-0.417, cfg={'min_samples_split': 12, 'max_depth': 10}\n",
      "Fitting 3 folds for each of 20 candidates, totalling 60 fits\n",
      ">rmse=0.633, est=-0.437, cfg={'min_samples_split': 14, 'max_depth': 8}\n",
      "Fitting 3 folds for each of 20 candidates, totalling 60 fits\n",
      ">rmse=0.661, est=-0.422, cfg={'min_samples_split': 14, 'max_depth': 8}\n",
      "RMSE: 0.642 (0.011)\n"
     ]
    }
   ],
   "source": [
    "# manual nested cross-validation for Decision Tree Regressor\n",
    "from numpy import mean\n",
    "from numpy import std\n",
    "#from sklearn.datasets import make_classification\n",
    "from sklearn.model_selection import KFold\n",
    "#from sklearn.model_selection import GridSearchCV\n",
    "#from sklearn.ensemble import RandomForestClassifier\n",
    "#from sklearn.metrics import accuracy_score\n",
    "\n",
    "# configure the cross-validation procedure\n",
    "cv_outer = KFold(n_splits=5, shuffle=True, random_state=42)\n",
    "# enumerate splits\n",
    "outer_results = list()\n",
    "param_grid = {'max_depth': list(range(2,16,2)),\n",
    "              'min_samples_split': list(range(2,16,2))}\n",
    "for train_ix, test_ix in cv_outer.split(X):\n",
    "\t# split data\n",
    "\tX_train, X_test = X[train_ix, :], X[test_ix, :]\n",
    "\ty_train, y_test = y[train_ix], y[test_ix]\n",
    "\t# configure the cross-validation procedure\n",
    "\tcv_inner = KFold(n_splits=3, shuffle=True, random_state=42)\n",
    "\t# define the model\n",
    "\tmodel = DecisionTreeRegressor(random_state=1)\n",
    "\t# define search\n",
    "\tregr = RandomizedSearchCV(model,\n",
    "                         param_grid,\n",
    "                         scoring='neg_mean_squared_error',\n",
    "                         # 3-fold for hyper-parameter tuning\n",
    "                         cv=cv_inner, n_jobs=1, verbose=1,\n",
    "                         n_iter=20\n",
    "                        )\n",
    "\t# execute search\n",
    "\tresult = regr.fit(X_train, y_train)\n",
    "\t# get the best performing model fit on the whole training set\n",
    "\tbest_model = result.best_estimator_\n",
    "\t# evaluate model on the hold out dataset\n",
    "\tyhat = best_model.predict(X_test)\n",
    "\t# evaluate the model\n",
    "\trmse_val = rmse(y_test, yhat)\n",
    "\t# store the result\n",
    "\touter_results.append(rmse_val)\n",
    "\t# report progress\n",
    "\tprint('>rmse=%.3f, est=%.3f, cfg=%s' % (rmse_val, result.best_score_, result.best_params_))\n",
    "# summarize the estimated performance of the model\n",
    "print('RMSE: %.3f (%.3f)' % (mean(outer_results), std(outer_results)))"
   ]
  },
  {
   "cell_type": "code",
   "execution_count": 20,
   "metadata": {
    "colab": {
     "base_uri": "https://localhost:8080/"
    },
    "id": "6NRuIL-T-np1",
    "outputId": "fbebc907-dede-40f7-e07e-b73fa21bd57d"
   },
   "outputs": [
    {
     "data": {
      "text/plain": [
       "[0.6482005839584486,\n",
       " 0.6374488251690792,\n",
       " 0.6324201599206799,\n",
       " 0.6329305637224107,\n",
       " 0.6609287000487346]"
      ]
     },
     "execution_count": 20,
     "metadata": {},
     "output_type": "execute_result"
    }
   ],
   "source": [
    "outer_results"
   ]
  },
  {
   "cell_type": "code",
   "execution_count": 21,
   "metadata": {
    "colab": {
     "base_uri": "https://localhost:8080/"
    },
    "id": "dFVgUjo41TD6",
    "outputId": "0180f46a-8cb2-48fd-9238-9df34e0e1763"
   },
   "outputs": [
    {
     "data": {
      "text/plain": [
       "0.6423857665638707"
      ]
     },
     "execution_count": 21,
     "metadata": {},
     "output_type": "execute_result"
    }
   ],
   "source": [
    "np.mean(outer_results)"
   ]
  },
  {
   "cell_type": "markdown",
   "metadata": {
    "id": "C1UMoxtd-Zi7"
   },
   "source": [
    "# Using scikit-learn"
   ]
  },
  {
   "cell_type": "code",
   "execution_count": 22,
   "metadata": {
    "colab": {
     "base_uri": "https://localhost:8080/"
    },
    "id": "rkJD1ifoZp4S",
    "outputId": "b1f2f80c-476a-4449-d46b-2df25b4664c7"
   },
   "outputs": [
    {
     "name": "stdout",
     "output_type": "stream",
     "text": [
      "Fitting 3 folds for each of 20 candidates, totalling 60 fits\n",
      "Fitting 3 folds for each of 20 candidates, totalling 60 fits\n",
      "Fitting 3 folds for each of 20 candidates, totalling 60 fits\n",
      "Fitting 3 folds for each of 20 candidates, totalling 60 fits\n",
      "Fitting 3 folds for each of 20 candidates, totalling 60 fits\n"
     ]
    }
   ],
   "source": [
    "from sklearn.model_selection import RandomizedSearchCV, cross_val_score\n",
    "from sklearn import metrics\n",
    "\n",
    "# random_state=0 for reproducibility\n",
    "# Evaluation of model (outer loop)\n",
    "outer = KFold(n_splits=5, shuffle=True, random_state=42)\n",
    "\n",
    "from scipy.stats import uniform, expon\n",
    "\n",
    "# Search space\n",
    "param_grid = {'max_depth': list(range(2,16,2)),\n",
    "              'min_samples_split': list(range(2,16,2))}\n",
    "\n",
    "inner = KFold(n_splits=3, shuffle=True, random_state=42)\n",
    "\n",
    "budget = 20\n",
    "# This is the internal 3-fold crossvalidation for hyper-parameter tuning\n",
    "regr = RandomizedSearchCV(DecisionTreeRegressor(random_state=1),\n",
    "                         param_grid,\n",
    "                         scoring='neg_mean_squared_error',\n",
    "                         # 3-fold for hyper-parameter tuning\n",
    "                         cv=inner,\n",
    "                         n_jobs=1, verbose=1,\n",
    "                         n_iter=budget\n",
    "                        )\n",
    "\n",
    "# This is the external 5-fold crossvalidation for model evaluation\n",
    "# Notice that regr is the model resulting of hyper-parameter tuning\n",
    "np.random.seed(42)\n",
    "\n",
    "# For sklearn, higher scores are better. Given that MSE is an error (smaller is better), the corresponding score is -MSE\n",
    "scores = -cross_val_score(regr,\n",
    "                            X, y,\n",
    "                            scoring='neg_mean_squared_error',\n",
    "                            cv = outer)"
   ]
  },
  {
   "cell_type": "code",
   "execution_count": 23,
   "metadata": {
    "colab": {
     "base_uri": "https://localhost:8080/"
    },
    "id": "VxeEDgv1Zp4U",
    "outputId": "b58bd20f-23f3-4d6e-ffe2-41b533491d06"
   },
   "outputs": [
    {
     "name": "stdout",
     "output_type": "stream",
     "text": [
      "[0.420164   0.406341   0.41298659 0.39837609 0.41414609]\n",
      "0.6406003948817545 +- 0.005821222905398511\n"
     ]
    }
   ],
   "source": [
    "print(scores)\n",
    "# The score was MSE, we want RMSE\n",
    "scores = np.sqrt(scores)\n",
    "# The mean of the 5-fold crossvalidation is the final score of the model\n",
    "print(f\"{scores.mean()} +- {scores.std()}\")"
   ]
  },
  {
   "cell_type": "markdown",
   "metadata": {
    "id": "LdfqhEw9Zp4W"
   },
   "source": [
    "#### OBTAINING THE FINAL MODEL (FOR DEPLOYMENT, OR FOR SENDING TO A COMPETITION, ...)"
   ]
  },
  {
   "cell_type": "markdown",
   "metadata": {
    "id": "O5w47vRHZp4X"
   },
   "source": [
    "If at the end, we need a final model, we can get it by fitting regr to all the available data. Let us remember that regr does hyper.parameter tuning."
   ]
  },
  {
   "cell_type": "code",
   "execution_count": 24,
   "metadata": {
    "id": "0Kvg0RX-Zp4X"
   },
   "outputs": [
    {
     "name": "stdout",
     "output_type": "stream",
     "text": [
      "Fitting 3 folds for each of 20 candidates, totalling 60 fits\n"
     ]
    }
   ],
   "source": [
    "np.random.seed(42)\n",
    "\n",
    "# Fitting again the randomized search HPO\n",
    "regrFinal = regr.fit(X,y)"
   ]
  },
  {
   "cell_type": "code",
   "execution_count": 25,
   "metadata": {
    "id": "GRfsLFLTZp4Z"
   },
   "outputs": [
    {
     "data": {
      "text/plain": [
       "({'min_samples_split': 14, 'max_depth': 10}, 0.6319237773312396)"
      ]
     },
     "execution_count": 25,
     "metadata": {},
     "output_type": "execute_result"
    }
   ],
   "source": [
    "regr.best_params_, np.sqrt(-regr.best_score_)"
   ]
  },
  {
   "cell_type": "markdown",
   "metadata": {
    "id": "Z6h5oiIg8Yjz"
   },
   "source": []
  },
  {
   "cell_type": "markdown",
   "metadata": {
    "id": "shOTLRmL8aBn"
   },
   "source": [
    "## Exercise 2\n",
    "\n",
    "Using this code as a template, and `fetch_california_housing` use KNN method instead of DecisionTree.\n",
    "\n",
    "- `n_neighbors`\n",
    "- `metric`\n",
    "\n",
    "\n",
    "\n",
    "```\n",
    "from sklearn.model_selection import RandomizedSearchCV, cross_val_score\n",
    "from sklearn import metrics\n",
    "\n",
    "# random_state=0 for reproducibility\n",
    "# Evaluation of model (outer loop)\n",
    "outer = KFold(n_splits=5, shuffle=True, random_state=42)\n",
    "\n",
    "\n",
    "from scipy.stats import uniform, expon\n",
    "\n",
    "# Search space\n",
    "param_grid = {'max_depth': list(range(2,16,2)),\n",
    "              'min_samples_split': list(range(2,16,2))}\n",
    "\n",
    "inner = KFold(n_splits=3, shuffle=True, random_state=42)\n",
    "\n",
    "budget = 20\n",
    "# This is the internal 3-fold crossvalidation for hyper-parameter tuning\n",
    "regr = RandomizedSearchCV(DecisionTreeRegressor(),\n",
    "                         param_grid,\n",
    "                         scoring='neg_mean_squared_error',\n",
    "                         # 3-fold for hyper-parameter tuning\n",
    "                         cv=inner,\n",
    "                         n_jobs=1, verbose=1,\n",
    "                         n_iter=budget\n",
    "                        )\n",
    "\n",
    "# This is the external 5-fold crossvalidation for model evaluation\n",
    "# Notice that regr is the model resulting of hyper-parameter tuning\n",
    "np.random.seed(42)\n",
    "\n",
    "# For sklearn, higher scores are better. Given that MSE is an error (smaller is better), the corresponding score is -MSE\n",
    "scores = -cross_val_score(regr,\n",
    "                            X, y,\n",
    "                            scoring='neg_mean_squared_error',\n",
    "                            cv = outer)\n",
    "```\n"
   ]
  },
  {
   "cell_type": "markdown",
   "metadata": {
    "id": "2XeQqmjrZp4e"
   },
   "source": [
    "# HYPERPARAMETER OPTIMIZATION FRAMEWORK (OPTUNA)"
   ]
  },
  {
   "cell_type": "markdown",
   "metadata": {
    "id": "YNwHbEIsZp4f"
   },
   "source": [
    "OPTUNA is an external package to Scikit-Learn providing an optimization framework for hyperparameter selection: https://optuna.org/. The framework provides a specific package called optuna-integration (https://optuna-integration.readthedocs.io/en/latest/), which enables taking advantage of Optuna's automated search with efficient algorithms while preserving the coding structure we are using based on Scikit-Learn. \n",
    "In this tutorial, we shall explore **Holdout** for model evaluation and **3-fold crossvalidation** for hyper-parameter tuning (with **Optuna Hyperparameter Optimization**). Other option (less upgraded currently) is Bayesian Optimization, which is implemented with the package scikit-optimize of Scikit-Learn."
   ]
  },
  {
   "cell_type": "code",
   "execution_count": 26,
   "metadata": {},
   "outputs": [
    {
     "name": "stdout",
     "output_type": "stream",
     "text": [
      "Requirement already satisfied: optuna in c:\\users\\glafu\\appdata\\roaming\\python\\python38\\site-packages (4.0.0)\n",
      "Requirement already satisfied: alembic>=1.5.0 in c:\\users\\glafu\\appdata\\roaming\\python\\python38\\site-packages (from optuna) (1.13.3)\n",
      "Requirement already satisfied: colorlog in c:\\users\\glafu\\appdata\\roaming\\python\\python38\\site-packages (from optuna) (6.8.2)\n",
      "Requirement already satisfied: numpy in c:\\users\\glafu\\appdata\\roaming\\python\\python38\\site-packages (from optuna) (1.24.4)\n",
      "Requirement already satisfied: packaging>=20.0 in c:\\programdata\\anaconda3\\lib\\site-packages (from optuna) (23.2)\n",
      "Requirement already satisfied: sqlalchemy>=1.3.0 in c:\\programdata\\anaconda3\\lib\\site-packages (from optuna) (2.0.25)\n",
      "Requirement already satisfied: tqdm in c:\\programdata\\anaconda3\\lib\\site-packages (from optuna) (4.65.0)\n",
      "Requirement already satisfied: PyYAML in c:\\programdata\\anaconda3\\lib\\site-packages (from optuna) (6.0.1)\n",
      "Requirement already satisfied: Mako in c:\\users\\glafu\\appdata\\roaming\\python\\python38\\site-packages (from alembic>=1.5.0->optuna) (1.3.5)\n",
      "Requirement already satisfied: typing-extensions>=4 in c:\\users\\glafu\\appdata\\roaming\\python\\python38\\site-packages (from alembic>=1.5.0->optuna) (4.10.0)\n",
      "Requirement already satisfied: importlib-metadata in c:\\programdata\\anaconda3\\lib\\site-packages (from alembic>=1.5.0->optuna) (7.0.1)\n",
      "Requirement already satisfied: importlib-resources in c:\\programdata\\anaconda3\\lib\\site-packages (from alembic>=1.5.0->optuna) (6.1.1)\n",
      "Requirement already satisfied: greenlet!=0.4.17 in c:\\programdata\\anaconda3\\lib\\site-packages (from sqlalchemy>=1.3.0->optuna) (3.0.1)\n",
      "Requirement already satisfied: colorama in c:\\programdata\\anaconda3\\lib\\site-packages (from colorlog->optuna) (0.4.6)\n",
      "Requirement already satisfied: zipp>=0.5 in c:\\programdata\\anaconda3\\lib\\site-packages (from importlib-metadata->alembic>=1.5.0->optuna) (3.17.0)\n",
      "Requirement already satisfied: MarkupSafe>=0.9.2 in c:\\programdata\\anaconda3\\lib\\site-packages (from Mako->alembic>=1.5.0->optuna) (2.1.3)\n"
     ]
    },
    {
     "name": "stderr",
     "output_type": "stream",
     "text": [
      "WARNING: Ignoring invalid distribution -yping-extensions (c:\\programdata\\anaconda3\\lib\\site-packages)\n",
      "WARNING: Ignoring invalid distribution -yping-extensions (c:\\programdata\\anaconda3\\lib\\site-packages)\n"
     ]
    },
    {
     "name": "stdout",
     "output_type": "stream",
     "text": [
      "Requirement already satisfied: optuna-integration in c:\\users\\glafu\\appdata\\roaming\\python\\python38\\site-packages (4.0.0)\n",
      "Requirement already satisfied: optuna in c:\\users\\glafu\\appdata\\roaming\\python\\python38\\site-packages (from optuna-integration) (4.0.0)\n",
      "Requirement already satisfied: alembic>=1.5.0 in c:\\users\\glafu\\appdata\\roaming\\python\\python38\\site-packages (from optuna->optuna-integration) (1.13.3)\n",
      "Requirement already satisfied: colorlog in c:\\users\\glafu\\appdata\\roaming\\python\\python38\\site-packages (from optuna->optuna-integration) (6.8.2)\n",
      "Requirement already satisfied: numpy in c:\\users\\glafu\\appdata\\roaming\\python\\python38\\site-packages (from optuna->optuna-integration) (1.24.4)\n",
      "Requirement already satisfied: packaging>=20.0 in c:\\programdata\\anaconda3\\lib\\site-packages (from optuna->optuna-integration) (23.2)\n",
      "Requirement already satisfied: sqlalchemy>=1.3.0 in c:\\programdata\\anaconda3\\lib\\site-packages (from optuna->optuna-integration) (2.0.25)\n",
      "Requirement already satisfied: tqdm in c:\\programdata\\anaconda3\\lib\\site-packages (from optuna->optuna-integration) (4.65.0)\n",
      "Requirement already satisfied: PyYAML in c:\\programdata\\anaconda3\\lib\\site-packages (from optuna->optuna-integration) (6.0.1)\n",
      "Requirement already satisfied: Mako in c:\\users\\glafu\\appdata\\roaming\\python\\python38\\site-packages (from alembic>=1.5.0->optuna->optuna-integration) (1.3.5)\n",
      "Requirement already satisfied: typing-extensions>=4 in c:\\users\\glafu\\appdata\\roaming\\python\\python38\\site-packages (from alembic>=1.5.0->optuna->optuna-integration) (4.10.0)\n",
      "Requirement already satisfied: importlib-metadata in c:\\programdata\\anaconda3\\lib\\site-packages (from alembic>=1.5.0->optuna->optuna-integration) (7.0.1)\n",
      "Requirement already satisfied: importlib-resources in c:\\programdata\\anaconda3\\lib\\site-packages (from alembic>=1.5.0->optuna->optuna-integration) (6.1.1)\n",
      "Requirement already satisfied: greenlet!=0.4.17 in c:\\programdata\\anaconda3\\lib\\site-packages (from sqlalchemy>=1.3.0->optuna->optuna-integration) (3.0.1)\n",
      "Requirement already satisfied: colorama in c:\\programdata\\anaconda3\\lib\\site-packages (from colorlog->optuna->optuna-integration) (0.4.6)\n",
      "Requirement already satisfied: zipp>=0.5 in c:\\programdata\\anaconda3\\lib\\site-packages (from importlib-metadata->alembic>=1.5.0->optuna->optuna-integration) (3.17.0)\n",
      "Requirement already satisfied: MarkupSafe>=0.9.2 in c:\\programdata\\anaconda3\\lib\\site-packages (from Mako->alembic>=1.5.0->optuna->optuna-integration) (2.1.3)\n"
     ]
    },
    {
     "name": "stderr",
     "output_type": "stream",
     "text": [
      "WARNING: Ignoring invalid distribution -yping-extensions (c:\\programdata\\anaconda3\\lib\\site-packages)\n",
      "WARNING: Ignoring invalid distribution -yping-extensions (c:\\programdata\\anaconda3\\lib\\site-packages)\n"
     ]
    }
   ],
   "source": [
    "#For accessing to different distributions and other methods\n",
    "!pip install optuna\n",
    "#For accesing to optuna.integration.OptunaSearchCV and enabling integration with Scikit-Learn\n",
    "!pip install optuna-integration --user"
   ]
  },
  {
   "cell_type": "code",
   "execution_count": 27,
   "metadata": {
    "id": "qmxEk_w4cEb7"
   },
   "outputs": [
    {
     "name": "stderr",
     "output_type": "stream",
     "text": [
      "C:\\Users\\glafu\\AppData\\Local\\Temp\\ipykernel_51144\\4123772057.py:12: ExperimentalWarning: OptunaSearchCV is experimental (supported from v0.17.0). The interface can change in the future.\n",
      "  regr_optuna = optuna.integration.OptunaSearchCV(DecisionTreeRegressor(),\n",
      "[I 2024-10-08 09:50:12,512] A new study created in memory with name: no-name-ec2df7c6-68d6-41f0-8691-2401b5ffe983\n",
      "[I 2024-10-08 09:50:12,853] Trial 0 finished with value: -0.4210235895006076 and parameters: {'max_depth': 8, 'min_samples_split': 14}. Best is trial 0 with value: -0.4210235895006076.\n",
      "[I 2024-10-08 09:50:12,977] Trial 1 finished with value: -0.6222863941721788 and parameters: {'max_depth': 3, 'min_samples_split': 6}. Best is trial 0 with value: -0.4210235895006076.\n",
      "[I 2024-10-08 09:50:13,366] Trial 2 finished with value: -0.42185868686837885 and parameters: {'max_depth': 9, 'min_samples_split': 6}. Best is trial 0 with value: -0.4210235895006076.\n",
      "[I 2024-10-08 09:50:13,574] Trial 3 finished with value: -0.5018847510530532 and parameters: {'max_depth': 5, 'min_samples_split': 4}. Best is trial 0 with value: -0.4210235895006076.\n",
      "[I 2024-10-08 09:50:13,738] Trial 4 finished with value: -0.556633791790596 and parameters: {'max_depth': 4, 'min_samples_split': 6}. Best is trial 0 with value: -0.4210235895006076.\n",
      "[I 2024-10-08 09:50:14,034] Trial 5 finished with value: -0.4412088399910563 and parameters: {'max_depth': 7, 'min_samples_split': 16}. Best is trial 0 with value: -0.4210235895006076.\n",
      "[I 2024-10-08 09:50:14,431] Trial 6 finished with value: -0.426977348011266 and parameters: {'max_depth': 9, 'min_samples_split': 5}. Best is trial 0 with value: -0.4210235895006076.\n",
      "[I 2024-10-08 09:50:14,727] Trial 7 finished with value: -0.4399233724192427 and parameters: {'max_depth': 7, 'min_samples_split': 9}. Best is trial 0 with value: -0.4210235895006076.\n",
      "[I 2024-10-08 09:50:15,288] Trial 8 finished with value: -0.44187820964722796 and parameters: {'max_depth': 14, 'min_samples_split': 16}. Best is trial 0 with value: -0.4210235895006076.\n",
      "[I 2024-10-08 09:50:15,628] Trial 9 finished with value: -0.42298331298971253 and parameters: {'max_depth': 8, 'min_samples_split': 16}. Best is trial 0 with value: -0.4210235895006076.\n",
      "[I 2024-10-08 09:50:16,177] Trial 10 finished with value: -0.4467904044559657 and parameters: {'max_depth': 13, 'min_samples_split': 12}. Best is trial 0 with value: -0.4210235895006076.\n",
      "[I 2024-10-08 09:50:16,657] Trial 11 finished with value: -0.4372896559233834 and parameters: {'max_depth': 11, 'min_samples_split': 10}. Best is trial 0 with value: -0.4210235895006076.\n",
      "[I 2024-10-08 09:50:17,146] Trial 12 finished with value: -0.43650243810377853 and parameters: {'max_depth': 11, 'min_samples_split': 12}. Best is trial 0 with value: -0.4210235895006076.\n",
      "[I 2024-10-08 09:50:17,638] Trial 13 finished with value: -0.46514682431380844 and parameters: {'max_depth': 11, 'min_samples_split': 2}. Best is trial 0 with value: -0.4210235895006076.\n",
      "[I 2024-10-08 09:50:17,895] Trial 14 finished with value: -0.4650643977167442 and parameters: {'max_depth': 6, 'min_samples_split': 8}. Best is trial 0 with value: -0.4210235895006076.\n",
      "[I 2024-10-08 09:50:18,527] Trial 15 finished with value: -0.4603699372386488 and parameters: {'max_depth': 16, 'min_samples_split': 13}. Best is trial 0 with value: -0.4210235895006076.\n",
      "[I 2024-10-08 09:50:18,920] Trial 16 finished with value: -0.4228503923669357 and parameters: {'max_depth': 9, 'min_samples_split': 14}. Best is trial 0 with value: -0.4210235895006076.\n",
      "[I 2024-10-08 09:50:19,360] Trial 17 finished with value: -0.42649686879020926 and parameters: {'max_depth': 10, 'min_samples_split': 8}. Best is trial 0 with value: -0.4210235895006076.\n",
      "[I 2024-10-08 09:50:19,452] Trial 18 finished with value: -0.7384311154616675 and parameters: {'max_depth': 2, 'min_samples_split': 10}. Best is trial 0 with value: -0.4210235895006076.\n",
      "[I 2024-10-08 09:50:20,069] Trial 19 finished with value: -0.49933844595240356 and parameters: {'max_depth': 13, 'min_samples_split': 2}. Best is trial 0 with value: -0.4210235895006076.\n",
      "[I 2024-10-08 09:50:20,285] Trial 20 finished with value: -0.5021461924882397 and parameters: {'max_depth': 5, 'min_samples_split': 14}. Best is trial 0 with value: -0.4210235895006076.\n",
      "[I 2024-10-08 09:50:20,690] Trial 21 finished with value: -0.41927607160628516 and parameters: {'max_depth': 9, 'min_samples_split': 14}. Best is trial 21 with value: -0.41927607160628516.\n",
      "[I 2024-10-08 09:50:21,051] Trial 22 finished with value: -0.42202503533517827 and parameters: {'max_depth': 8, 'min_samples_split': 11}. Best is trial 21 with value: -0.41927607160628516.\n",
      "[I 2024-10-08 09:50:21,460] Trial 23 finished with value: -0.4183097593041112 and parameters: {'max_depth': 9, 'min_samples_split': 14}. Best is trial 23 with value: -0.4183097593041112.\n",
      "[I 2024-10-08 09:50:21,764] Trial 24 finished with value: -0.439713183147247 and parameters: {'max_depth': 7, 'min_samples_split': 14}. Best is trial 23 with value: -0.4183097593041112.\n",
      "[I 2024-10-08 09:50:22,209] Trial 25 finished with value: -0.4190033536994227 and parameters: {'max_depth': 10, 'min_samples_split': 15}. Best is trial 23 with value: -0.4183097593041112.\n",
      "[I 2024-10-08 09:50:22,734] Trial 26 finished with value: -0.4348528140337243 and parameters: {'max_depth': 12, 'min_samples_split': 15}. Best is trial 23 with value: -0.4183097593041112.\n",
      "[I 2024-10-08 09:50:23,182] Trial 27 finished with value: -0.42560865242088664 and parameters: {'max_depth': 10, 'min_samples_split': 12}. Best is trial 23 with value: -0.4183097593041112.\n",
      "[I 2024-10-08 09:50:23,771] Trial 28 finished with value: -0.44642557641421604 and parameters: {'max_depth': 15, 'min_samples_split': 15}. Best is trial 23 with value: -0.4183097593041112.\n",
      "[I 2024-10-08 09:50:24,219] Trial 29 finished with value: -0.42230752331357274 and parameters: {'max_depth': 10, 'min_samples_split': 13}. Best is trial 23 with value: -0.4183097593041112.\n",
      "[I 2024-10-08 09:50:24,748] Trial 30 finished with value: -0.4353510036432231 and parameters: {'max_depth': 12, 'min_samples_split': 15}. Best is trial 23 with value: -0.4183097593041112.\n",
      "[I 2024-10-08 09:50:25,109] Trial 31 finished with value: -0.42287600678951276 and parameters: {'max_depth': 8, 'min_samples_split': 13}. Best is trial 23 with value: -0.4183097593041112.\n",
      "[I 2024-10-08 09:50:25,509] Trial 32 finished with value: -0.42221541618110664 and parameters: {'max_depth': 9, 'min_samples_split': 14}. Best is trial 23 with value: -0.4183097593041112.\n",
      "[I 2024-10-08 09:50:25,777] Trial 33 finished with value: -0.4650643977167442 and parameters: {'max_depth': 6, 'min_samples_split': 15}. Best is trial 23 with value: -0.4183097593041112.\n",
      "[I 2024-10-08 09:50:26,134] Trial 34 finished with value: -0.4202665548737496 and parameters: {'max_depth': 8, 'min_samples_split': 11}. Best is trial 23 with value: -0.4183097593041112.\n",
      "[I 2024-10-08 09:50:26,590] Trial 35 finished with value: -0.4277922406232298 and parameters: {'max_depth': 10, 'min_samples_split': 11}. Best is trial 23 with value: -0.4183097593041112.\n",
      "[I 2024-10-08 09:50:26,982] Trial 36 finished with value: -0.4219399925437022 and parameters: {'max_depth': 9, 'min_samples_split': 11}. Best is trial 23 with value: -0.4183097593041112.\n",
      "[I 2024-10-08 09:50:27,247] Trial 37 finished with value: -0.4650643977167442 and parameters: {'max_depth': 6, 'min_samples_split': 13}. Best is trial 23 with value: -0.4183097593041112.\n",
      "[I 2024-10-08 09:50:27,599] Trial 38 finished with value: -0.42494677003972686 and parameters: {'max_depth': 8, 'min_samples_split': 16}. Best is trial 23 with value: -0.4183097593041112.\n",
      "[I 2024-10-08 09:50:27,903] Trial 39 finished with value: -0.4413755207541728 and parameters: {'max_depth': 7, 'min_samples_split': 7}. Best is trial 23 with value: -0.4183097593041112.\n",
      "[I 2024-10-08 09:50:28,120] Trial 40 finished with value: -0.5021461924882397 and parameters: {'max_depth': 5, 'min_samples_split': 10}. Best is trial 23 with value: -0.4183097593041112.\n",
      "[I 2024-10-08 09:50:28,472] Trial 41 finished with value: -0.42168999251696554 and parameters: {'max_depth': 8, 'min_samples_split': 14}. Best is trial 23 with value: -0.4183097593041112.\n",
      "[I 2024-10-08 09:50:28,860] Trial 42 finished with value: -0.42027376738970385 and parameters: {'max_depth': 9, 'min_samples_split': 15}. Best is trial 23 with value: -0.4183097593041112.\n",
      "[I 2024-10-08 09:50:29,252] Trial 43 finished with value: -0.4177565704999182 and parameters: {'max_depth': 9, 'min_samples_split': 15}. Best is trial 43 with value: -0.4177565704999182.\n",
      "[I 2024-10-08 09:50:29,729] Trial 44 finished with value: -0.4309628261687595 and parameters: {'max_depth': 11, 'min_samples_split': 16}. Best is trial 43 with value: -0.4177565704999182.\n",
      "[I 2024-10-08 09:50:30,182] Trial 45 finished with value: -0.4237515537749275 and parameters: {'max_depth': 10, 'min_samples_split': 12}. Best is trial 43 with value: -0.4177565704999182.\n",
      "[I 2024-10-08 09:50:30,706] Trial 46 finished with value: -0.43303368379269874 and parameters: {'max_depth': 12, 'min_samples_split': 16}. Best is trial 43 with value: -0.4177565704999182.\n",
      "[I 2024-10-08 09:50:31,022] Trial 47 finished with value: -0.44096394987103155 and parameters: {'max_depth': 7, 'min_samples_split': 15}. Best is trial 43 with value: -0.4177565704999182.\n",
      "[I 2024-10-08 09:50:31,423] Trial 48 finished with value: -0.4223751866190663 and parameters: {'max_depth': 9, 'min_samples_split': 13}. Best is trial 43 with value: -0.4177565704999182.\n",
      "[I 2024-10-08 09:50:31,900] Trial 49 finished with value: -0.4299039377986558 and parameters: {'max_depth': 11, 'min_samples_split': 14}. Best is trial 43 with value: -0.4177565704999182.\n"
     ]
    },
    {
     "data": {
      "text/html": [
       "<style>#sk-container-id-4 {color: black;}#sk-container-id-4 pre{padding: 0;}#sk-container-id-4 div.sk-toggleable {background-color: white;}#sk-container-id-4 label.sk-toggleable__label {cursor: pointer;display: block;width: 100%;margin-bottom: 0;padding: 0.3em;box-sizing: border-box;text-align: center;}#sk-container-id-4 label.sk-toggleable__label-arrow:before {content: \"▸\";float: left;margin-right: 0.25em;color: #696969;}#sk-container-id-4 label.sk-toggleable__label-arrow:hover:before {color: black;}#sk-container-id-4 div.sk-estimator:hover label.sk-toggleable__label-arrow:before {color: black;}#sk-container-id-4 div.sk-toggleable__content {max-height: 0;max-width: 0;overflow: hidden;text-align: left;background-color: #f0f8ff;}#sk-container-id-4 div.sk-toggleable__content pre {margin: 0.2em;color: black;border-radius: 0.25em;background-color: #f0f8ff;}#sk-container-id-4 input.sk-toggleable__control:checked~div.sk-toggleable__content {max-height: 200px;max-width: 100%;overflow: auto;}#sk-container-id-4 input.sk-toggleable__control:checked~label.sk-toggleable__label-arrow:before {content: \"▾\";}#sk-container-id-4 div.sk-estimator input.sk-toggleable__control:checked~label.sk-toggleable__label {background-color: #d4ebff;}#sk-container-id-4 div.sk-label input.sk-toggleable__control:checked~label.sk-toggleable__label {background-color: #d4ebff;}#sk-container-id-4 input.sk-hidden--visually {border: 0;clip: rect(1px 1px 1px 1px);clip: rect(1px, 1px, 1px, 1px);height: 1px;margin: -1px;overflow: hidden;padding: 0;position: absolute;width: 1px;}#sk-container-id-4 div.sk-estimator {font-family: monospace;background-color: #f0f8ff;border: 1px dotted black;border-radius: 0.25em;box-sizing: border-box;margin-bottom: 0.5em;}#sk-container-id-4 div.sk-estimator:hover {background-color: #d4ebff;}#sk-container-id-4 div.sk-parallel-item::after {content: \"\";width: 100%;border-bottom: 1px solid gray;flex-grow: 1;}#sk-container-id-4 div.sk-label:hover label.sk-toggleable__label {background-color: #d4ebff;}#sk-container-id-4 div.sk-serial::before {content: \"\";position: absolute;border-left: 1px solid gray;box-sizing: border-box;top: 0;bottom: 0;left: 50%;z-index: 0;}#sk-container-id-4 div.sk-serial {display: flex;flex-direction: column;align-items: center;background-color: white;padding-right: 0.2em;padding-left: 0.2em;position: relative;}#sk-container-id-4 div.sk-item {position: relative;z-index: 1;}#sk-container-id-4 div.sk-parallel {display: flex;align-items: stretch;justify-content: center;background-color: white;position: relative;}#sk-container-id-4 div.sk-item::before, #sk-container-id-4 div.sk-parallel-item::before {content: \"\";position: absolute;border-left: 1px solid gray;box-sizing: border-box;top: 0;bottom: 0;left: 50%;z-index: -1;}#sk-container-id-4 div.sk-parallel-item {display: flex;flex-direction: column;z-index: 1;position: relative;background-color: white;}#sk-container-id-4 div.sk-parallel-item:first-child::after {align-self: flex-end;width: 50%;}#sk-container-id-4 div.sk-parallel-item:last-child::after {align-self: flex-start;width: 50%;}#sk-container-id-4 div.sk-parallel-item:only-child::after {width: 0;}#sk-container-id-4 div.sk-dashed-wrapped {border: 1px dashed gray;margin: 0 0.4em 0.5em 0.4em;box-sizing: border-box;padding-bottom: 0.4em;background-color: white;}#sk-container-id-4 div.sk-label label {font-family: monospace;font-weight: bold;display: inline-block;line-height: 1.2em;}#sk-container-id-4 div.sk-label-container {text-align: center;}#sk-container-id-4 div.sk-container {/* jupyter's `normalize.less` sets `[hidden] { display: none; }` but bootstrap.min.css set `[hidden] { display: none !important; }` so we also need the `!important` here to be able to override the default hidden behavior on the sphinx rendered scikit-learn.org. See: https://github.com/scikit-learn/scikit-learn/issues/21755 */display: inline-block !important;position: relative;}#sk-container-id-4 div.sk-text-repr-fallback {display: none;}</style><div id=\"sk-container-id-4\" class=\"sk-top-container\"><div class=\"sk-text-repr-fallback\"><pre>OptunaSearchCV(cv=KFold(n_splits=3, random_state=42, shuffle=True),\n",
       "               estimator=DecisionTreeRegressor(), n_jobs=1, n_trials=50,\n",
       "               param_distributions={&#x27;max_depth&#x27;: IntDistribution(high=16, log=False, low=2, step=1),\n",
       "                                    &#x27;min_samples_split&#x27;: IntDistribution(high=16, log=False, low=2, step=1)},\n",
       "               random_state=42, scoring=&#x27;neg_mean_squared_error&#x27;, timeout=600,\n",
       "               verbose=1)</pre><b>In a Jupyter environment, please rerun this cell to show the HTML representation or trust the notebook. <br />On GitHub, the HTML representation is unable to render, please try loading this page with nbviewer.org.</b></div><div class=\"sk-container\" hidden><div class=\"sk-item sk-dashed-wrapped\"><div class=\"sk-label-container\"><div class=\"sk-label sk-toggleable\"><input class=\"sk-toggleable__control sk-hidden--visually\" id=\"sk-estimator-id-10\" type=\"checkbox\" ><label for=\"sk-estimator-id-10\" class=\"sk-toggleable__label sk-toggleable__label-arrow\">OptunaSearchCV</label><div class=\"sk-toggleable__content\"><pre>OptunaSearchCV(cv=KFold(n_splits=3, random_state=42, shuffle=True),\n",
       "               estimator=DecisionTreeRegressor(), n_jobs=1, n_trials=50,\n",
       "               param_distributions={&#x27;max_depth&#x27;: IntDistribution(high=16, log=False, low=2, step=1),\n",
       "                                    &#x27;min_samples_split&#x27;: IntDistribution(high=16, log=False, low=2, step=1)},\n",
       "               random_state=42, scoring=&#x27;neg_mean_squared_error&#x27;, timeout=600,\n",
       "               verbose=1)</pre></div></div></div><div class=\"sk-parallel\"><div class=\"sk-parallel-item\"><div class=\"sk-item\"><div class=\"sk-label-container\"><div class=\"sk-label sk-toggleable\"><input class=\"sk-toggleable__control sk-hidden--visually\" id=\"sk-estimator-id-11\" type=\"checkbox\" ><label for=\"sk-estimator-id-11\" class=\"sk-toggleable__label sk-toggleable__label-arrow\">estimator: DecisionTreeRegressor</label><div class=\"sk-toggleable__content\"><pre>DecisionTreeRegressor()</pre></div></div></div><div class=\"sk-serial\"><div class=\"sk-item\"><div class=\"sk-estimator sk-toggleable\"><input class=\"sk-toggleable__control sk-hidden--visually\" id=\"sk-estimator-id-12\" type=\"checkbox\" ><label for=\"sk-estimator-id-12\" class=\"sk-toggleable__label sk-toggleable__label-arrow\">DecisionTreeRegressor</label><div class=\"sk-toggleable__content\"><pre>DecisionTreeRegressor()</pre></div></div></div></div></div></div></div></div></div></div>"
      ],
      "text/plain": [
       "OptunaSearchCV(cv=KFold(n_splits=3, random_state=42, shuffle=True),\n",
       "               estimator=DecisionTreeRegressor(), n_jobs=1, n_trials=50,\n",
       "               param_distributions={'max_depth': IntDistribution(high=16, log=False, low=2, step=1),\n",
       "                                    'min_samples_split': IntDistribution(high=16, log=False, low=2, step=1)},\n",
       "               random_state=42, scoring='neg_mean_squared_error', timeout=600,\n",
       "               verbose=1)"
      ]
     },
     "execution_count": 27,
     "metadata": {},
     "output_type": "execute_result"
    }
   ],
   "source": [
    "import optuna.integration\n",
    "from optuna.distributions import IntDistribution as IntDist\n",
    "from sklearn import metrics\n",
    "\n",
    "# Search space with integer uniform distributions\n",
    "param_grid_optuna = {'max_depth': IntDist(2,16),\n",
    "              'min_samples_split': IntDist(2,16)}\n",
    "\n",
    "inner = KFold(n_splits=3, shuffle=True, random_state=42)\n",
    "\n",
    "budget = 50\n",
    "regr_optuna = optuna.integration.OptunaSearchCV(DecisionTreeRegressor(),\n",
    "                         param_grid_optuna,\n",
    "                         scoring='neg_mean_squared_error',\n",
    "                         n_trials=budget,\n",
    "                         cv=inner,\n",
    "                         n_jobs=1, verbose=1,\n",
    "                         timeout=600,\n",
    "                         random_state=42,\n",
    "                         #refit=True\n",
    "                        )\n",
    "\n",
    "np.random.seed(42)\n",
    "regr_optuna.fit(X_train, y_train)\n",
    "\n",
    "# At this point, regr_optuna contains the model with the best hyper-parameters found by OptunaSearchCV\n",
    "# and trained on the complete X_train"
   ]
  },
  {
   "cell_type": "code",
   "execution_count": 28,
   "metadata": {
    "id": "ZIqeUTQ6Zp4k"
   },
   "outputs": [
    {
     "name": "stdout",
     "output_type": "stream",
     "text": [
      "RMSE of tree with hyper-parameter tuning (Optuna optimization): 0.6469995350210944\n"
     ]
    }
   ],
   "source": [
    "# Now, the performance of regr is computed on the test partition\n",
    "\n",
    "print(f\"RMSE of tree with hyper-parameter tuning (Optuna optimization): {rmse(y_test, regr_optuna.predict(X=X_test))}\")"
   ]
  },
  {
   "cell_type": "markdown",
   "metadata": {},
   "source": [
    "As in previous cases, we can also identify the best parameters and the best score for MSE."
   ]
  },
  {
   "cell_type": "code",
   "execution_count": 29,
   "metadata": {
    "id": "RlZ321QBZp4l"
   },
   "outputs": [
    {
     "data": {
      "text/plain": [
       "({'max_depth': 9, 'min_samples_split': 15}, 0.4177565704999182)"
      ]
     },
     "execution_count": 29,
     "metadata": {},
     "output_type": "execute_result"
    }
   ],
   "source": [
    "regr_optuna.best_params_, -regr_optuna.best_score_"
   ]
  },
  {
   "cell_type": "markdown",
   "metadata": {
    "id": "2YSNFqSaF6Qx"
   },
   "source": [
    "We can check if the optimization has converged by using plots."
   ]
  },
  {
   "cell_type": "code",
   "execution_count": 30,
   "metadata": {
    "id": "FjW8T92qFu7f"
   },
   "outputs": [
    {
     "name": "stderr",
     "output_type": "stream",
     "text": [
      "C:\\Users\\glafu\\AppData\\Local\\Temp\\ipykernel_51144\\1539949664.py:4: ExperimentalWarning: plot_optimization_history is experimental (supported from v2.2.0). The interface can change in the future.\n",
      "  plot_optimization_history(trial)\n"
     ]
    },
    {
     "data": {
      "text/plain": [
       "<Figure size 2500x2000 with 0 Axes>"
      ]
     },
     "metadata": {},
     "output_type": "display_data"
    },
    {
     "data": {
      "image/png": "[encoded data removed]",
      "text/plain": [
       "<Figure size 640x480 with 1 Axes>"
      ]
     },
     "metadata": {},
     "output_type": "display_data"
    }
   ],
   "source": [
    "from optuna.visualization.matplotlib import plot_optimization_history\n",
    "fig = plt.figure(figsize=(25,20))\n",
    "trial = regr_optuna.study_\n",
    "plot_optimization_history(trial)\n",
    "plt.show()"
   ]
  },
  {
   "cell_type": "markdown",
   "metadata": {},
   "source": [
    "We can also visualize the importance of the different parameters y the final model."
   ]
  },
  {
   "cell_type": "code",
   "execution_count": 31,
   "metadata": {},
   "outputs": [
    {
     "name": "stderr",
     "output_type": "stream",
     "text": [
      "C:\\Users\\glafu\\AppData\\Local\\Temp\\ipykernel_51144\\2778332887.py:4: ExperimentalWarning: plot_param_importances is experimental (supported from v2.2.0). The interface can change in the future.\n",
      "  plot_param_importances(trial)\n"
     ]
    },
    {
     "data": {
      "text/plain": [
       "<Figure size 2500x2000 with 0 Axes>"
      ]
     },
     "metadata": {},
     "output_type": "display_data"
    },
    {
     "data": {
      "image/png": "[encoded data removed]",
      "text/plain": [
       "<Figure size 640x480 with 1 Axes>"
      ]
     },
     "metadata": {},
     "output_type": "display_data"
    }
   ],
   "source": [
    "from optuna.visualization.matplotlib import plot_param_importances\n",
    "fig = plt.figure(figsize=(25,20))\n",
    "trial = regr_optuna.study_\n",
    "plot_param_importances(trial)\n",
    "plt.show()"
   ]
  }
 ],
 "metadata": {
  "colab": {
   "provenance": [],
   "toc_visible": true
  },
  "kernelspec": {
   "display_name": "Python 3 (ipykernel)",
   "language": "python",
   "name": "python3"
  },
  "language_info": {
   "codemirror_mode": {
    "name": "ipython",
    "version": 3
   },
   "file_extension": ".py",
   "mimetype": "text/x-python",
   "name": "python",
   "nbconvert_exporter": "python",
   "pygments_lexer": "ipython3",
   "version": "3.8.3"
  }
 },
 "nbformat": 4,
 "nbformat_minor": 4
}
